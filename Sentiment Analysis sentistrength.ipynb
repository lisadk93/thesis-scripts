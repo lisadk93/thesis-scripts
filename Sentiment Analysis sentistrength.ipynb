{
 "cells": [
  {
   "cell_type": "code",
   "execution_count": 1,
   "metadata": {},
   "outputs": [],
   "source": [
    "import logging\n",
    "import socket\n",
    "import urllib\n",
    "import subprocess\n",
    "import os\n",
    "import time\n",
    "from joblib import Parallel, delayed\n",
    "\n",
    "logging.basicConfig(level='INFO')\n",
    "logger = logging.getLogger(\"/home/jara/prstuff/thesis/\")\n",
    "\n",
    "if not 'SentiStrengthCom.jar' in os.listdir('.'):\n",
    "\tlogger.warning(\"You need 'SentiStrengthCom.jar' to use this wrapper!\")\n",
    "\tlogger.warning(\"because this version is not freely available, it was not packaged with this wrapper :-( \")\n",
    "\tlogger.warning(\"get it from http://sentistrength.wlv.ac.uk/ by emailing Professor Thelwall\")\n",
    "\n",
    "class sentistrength():\n",
    "\n",
    "    def __init__(self,language, port=8181):\n",
    "        self.language = language\n",
    "        self.sentistrength = \"\"\n",
    "        self.port = port \n",
    "\n",
    "    def __del__(self):\n",
    "        if self.sentistrength:\n",
    "            os.killpg(self.sentistrength.pid,15)\n",
    "\n",
    "    def run_server(self, language):\n",
    "        if language!=self.language and self.sentistrength:\n",
    "            logger.warning(\"wrong language running, trying to switch\")\n",
    "            os.killpg(self.sentistrength.pid,15)\n",
    "            time.sleep(1)\n",
    "        sock = socket.socket(socket.AF_INET, socket.SOCK_STREAM)\n",
    "        try:\n",
    "            sock.connect(('0.0.0.0',self.port))\n",
    "        except ConnectionRefusedError:\n",
    "            try:\n",
    "                logger.info(\"server not found, trying to launch server\")\n",
    "                self.sentistrength = subprocess.Popen([\"java -jar SentiStrengthCom.jar sentidata ./%s/ listen 8181 trinary\" %language], shell=True, preexec_fn=os.setsid)\n",
    "                time.sleep(1)\n",
    "                sock.connect(('0.0.0.0',self.port))\n",
    "                self.language = language\n",
    "            except:\n",
    "                raise Exception(\"unable to start server, is there a process already running? \")\n",
    "        return sock\n",
    "    \n",
    "\n",
    "    def get_sentiment(self, string_to_code, language=\"EN\"):\n",
    "        url_encoded = urllib.parse.quote(string_to_code)\n",
    "        request_string = \"GET /%s HTTP/1.0 \\r\\n\\r\\n\" %url_encoded\n",
    "        sock = self.run_server(language)\n",
    "        sock.sendall(str.encode(request_string,'UTF-8'))\n",
    "        response = sock.recv(4096)\n",
    "        resp_string = response.decode()\n",
    "        positive, negative, score = resp_string.split()\n",
    "        return {'positive':positive,'negative':negative,'neutral':score}\n",
    "\n",
    "class multisent():\n",
    "    def __init__(self, language, startport=8222, cores=-2, batchsize=1000):\n",
    "        self.language  = language\n",
    "        self.cores     = cores\n",
    "        self.instances = []\n",
    "        self.status    = \"initialized\"\n",
    "        self.startport = startport\n",
    "        self.batchsize = batchsize\n",
    "\n",
    "    def __del__(self):\n",
    "        self.stop_all()\n",
    "\n",
    "    def _top_port(self):\n",
    "        return max([instance['port'] for instance in self.instances]+[self.startport-1]) \n",
    "    \n",
    "    def get_status(self):\n",
    "        no_instances = len(self.instances)\n",
    "        if not no_instances:\n",
    "            if self.status!='initialized': \n",
    "                self.status='stopped'\n",
    "        else:\n",
    "            self.status = 'Running {no_instances} instances'.format(**locals())\n",
    "        return self.status    \n",
    "\n",
    "    def check_instances(self):\n",
    "        if not self.instances:\n",
    "            print('No instances to check')\n",
    "        for instance in self.instances:\n",
    "            port  = instance.get('port','UNKNOWN')\n",
    "            pid   = instance.get('pid','UNKNOWN')\n",
    "            works = check_exists(instance['port']) and \"WORKS\" or \"FAILED\"\n",
    "            print(\"Instance {pid:5} at port {port:5} status {works:8}\".format(**locals()))\n",
    "\n",
    "    def start_server(self, port=None, attempts=5):\n",
    "        if not port:\n",
    "            port = self._top_port()+1\n",
    "        if check_exists(port): \n",
    "            logger.info(\"server at {port} already exists!\".format(**locals()))\n",
    "            self.start_server(port+1)\n",
    "            return \n",
    "        instance = subprocess.Popen([\"java -jar SentiStrengthCom.jar sentidata ./%s/ listen %s trinary\" %(self.language,port)], \n",
    "                                    shell=True, preexec_fn=os.setsid)\n",
    "        while not check_exists(port):\n",
    "            time.sleep(1)\n",
    "            attempts -= 1\n",
    "            if not attempts: \n",
    "                logger.warn('failed to start {language} server at port {port}'.format(**locals()))\n",
    "                return False\n",
    "        instance = {'instance':instance, 'pid':instance.pid, 'language':self.language,'port':port}\n",
    "        logger.info(\"started instance {pid} at port {port}\".format(**instance))\n",
    "        self.instances.append(instance)\n",
    "        return True\n",
    "\n",
    "    def stop_server(self, port=None,pid=None):\n",
    "        if port and pid:\n",
    "            logger.warn(\"this function requires EITHER a port OR a pid, ignores pid if both\")\n",
    "        if port:\n",
    "            instance = [instance for instance in self.instances if instance['port']==port]\n",
    "        elif pid:\n",
    "            instance = [instance for instance in self.instances if instance['pid']==pid]\n",
    "        else:\n",
    "            instance = self.instances\n",
    "\n",
    "        if not instance:\n",
    "            logger.warn(\"Instance not found!\")\n",
    "            return False\n",
    "        instance = instance[0]\n",
    "        \n",
    "        os.killpg(instance['instance'].pid, 15)\n",
    "        time.sleep(1)\n",
    "        if not check_exists(instance['port']):\n",
    "            logger.info('Stopped {pid} instance at port {port}'.format(**instance))\n",
    "            self.instances.remove(instance)\n",
    "            return True\n",
    "        else:\n",
    "            logger.warn('Unable to stop {pid} instance running at {port}!!'.format(**instance))\n",
    "            return False\n",
    "\n",
    "    def _loop_over(self, looped_iterable, fixed_iterable):\n",
    "        iterator = 0\n",
    "        for item in fixed_iterable:\n",
    "            if iterator==len(looped_iterable):\n",
    "                iterator=0\n",
    "            yield looped_iterable[iterator], item\n",
    "            iterator +=1\n",
    "    \n",
    "    def _batch_up(self, iterable):\n",
    "        batch = []\n",
    "        for num, item in enumerate(iterable):\n",
    "            batch.append(item)\n",
    "            if not (num+1) % self.batchsize :\n",
    "                yield batch\n",
    "                batch = []\n",
    "        if batch: yield batch\n",
    "\n",
    "    def start_all(self):\n",
    "        if self.cores < 0:\n",
    "            no_servers = os.cpu_count() + (self.cores+1)\n",
    "        else:\n",
    "            no_servers = self.cores\n",
    "        logger.info('Starting {no_servers} servers in {self.language}'.format(**locals()))\n",
    "        for i in range(no_servers):\n",
    "            self.start_server()\n",
    "        self.get_status()\n",
    "\n",
    "    def stop_all(self):\n",
    "        while self.instances:\n",
    "            instance = self.instances[0]\n",
    "            self.stop_server(pid=instance['pid'])\n",
    "\n",
    "    def run_batch(self, texts):\n",
    "        if not self.instances: \n",
    "            logger.info('No servers found, starting servers')\n",
    "            self.start_all()\n",
    "        ports = [instance['port'] for instance in self.instances]\n",
    "        return Parallel(n_jobs=min(self.cores,len(ports)), backend='threading')(delayed(query_instance)(port,text) for port,text in self._loop_over(ports, texts))\n",
    "\n",
    "    def run_stream(self, texts):\n",
    "        for batch in self._batch_up(texts):\n",
    "            for item in self.run_batch(batch):\n",
    "                yield item\n",
    "\n",
    "def query_instance(port, string_to_code):\n",
    "    sock = socket.socket(socket.AF_INET, socket.SOCK_STREAM)\n",
    "    try:\n",
    "        sock.connect(('0.0.0.0',port))\n",
    "    except:\n",
    "        raise Exception(\"unable to reach server\")\n",
    "    url_encoded = urllib.parse.quote(string_to_code)\n",
    "    request_string = \"GET /%s HTTP/1.0 \\r\\n\\r\\n\" %url_encoded\n",
    "    sock.sendall(str.encode(request_string,'UTF-8'))\n",
    "    response = sock.recv(4096)\n",
    "    resp_string = response.decode()\n",
    "    positive, negative, score = resp_string.split()\n",
    "    return {'positive':positive,'negative':negative,'neutral':score}\n",
    "\n",
    "\n",
    "def check_exists(port):\n",
    "    try:\n",
    "        query_instance(port,'test string')\n",
    "    except:\n",
    "        return False\n",
    "    return True"
   ]
  },
  {
   "cell_type": "code",
   "execution_count": 2,
   "metadata": {},
   "outputs": [
    {
     "name": "stderr",
     "output_type": "stream",
     "text": [
      "INFO:/home/jara/prstuff/thesis/:server not found, trying to launch server\n"
     ]
    },
    {
     "name": "stdout",
     "output_type": "stream",
     "text": [
      "{'neutral': '1', 'negative': '-1', 'positive': '3'}\n"
     ]
    }
   ],
   "source": [
    "senti = sentistrength(\"EN\")\n",
    "res = senti.get_sentiment('I love using sentistrength.')\n",
    "print(res)"
   ]
  },
  {
   "cell_type": "code",
   "execution_count": 3,
   "metadata": {},
   "outputs": [
    {
     "name": "stderr",
     "output_type": "stream",
     "text": [
      "INFO:/home/jara/prstuff/thesis/:No servers found, starting servers\n",
      "INFO:/home/jara/prstuff/thesis/:Starting 1 servers in EN\n",
      "INFO:/home/jara/prstuff/thesis/:started instance 11403 at port 8222\n"
     ]
    },
    {
     "name": "stdout",
     "output_type": "stream",
     "text": [
      "{'neutral': '1', 'negative': '-1', 'positive': '4'}\n"
     ]
    }
   ],
   "source": [
    "ms = multisent('EN')\n",
    "texts = ['This is great!!'] * 10000\n",
    "res   = ms.run_batch(texts) # push all texts and get the results in one go\n",
    "print(res[0])"
   ]
  },
  {
   "cell_type": "code",
   "execution_count": null,
   "metadata": {
    "collapsed": true
   },
   "outputs": [],
   "source": [
    "#####news artikelen########"
   ]
  },
  {
   "cell_type": "code",
   "execution_count": 24,
   "metadata": {},
   "outputs": [],
   "source": [
    "#import cs & make list for titles and process it\n",
    "import csv\n",
    "titlelist=[]\n",
    "processedlist_title=[]\n",
    "with open(\"/home/jara/prstuff/thesis/output_orgnews/douwe.csv\", encoding=\"utf-8\",mode=\"r\",newline=\"\") as csvfile:\n",
    "    reader = csv.reader(csvfile, delimiter=\",\")\n",
    "    for row in reader:\n",
    "        title=row[6]\n",
    "        title_processed=title.lower().replace(\"!\",\" \").replace(\")\",\" \").replace(\"|\",\"\").replace(\".\",\" \").replace(\"?\",\" \").replace(\"(\",\" \").replace(\"’\",\" \").replace('\"',\" \").replace(\"#\",\" \").replace(\":\",\" \")\n",
    "        titlelist.append(title)\n",
    "        processedlist_title.append(title)"
   ]
  },
  {
   "cell_type": "code",
   "execution_count": 25,
   "metadata": {},
   "outputs": [],
   "source": [
    "#processedlist_title.append(article_processed)"
   ]
  },
  {
   "cell_type": "code",
   "execution_count": 26,
   "metadata": {},
   "outputs": [
    {
     "name": "stdout",
     "output_type": "stream",
     "text": [
      "_score\n"
     ]
    },
    {
     "data": {
      "text/plain": [
       "47"
      ]
     },
     "execution_count": 26,
     "metadata": {},
     "output_type": "execute_result"
    }
   ],
   "source": [
    "#look at porcessedlist_title\n",
    "print(processedlist_title[0])\n",
    "len(processedlist_title)"
   ]
  },
  {
   "cell_type": "code",
   "execution_count": 28,
   "metadata": {},
   "outputs": [
    {
     "data": {
      "text/plain": [
       "46"
      ]
     },
     "execution_count": 28,
     "metadata": {},
     "output_type": "execute_result"
    }
   ],
   "source": [
    "processedlist_title =processedlist_title[1:]\n",
    "len(processedlist_title)\n",
    "#print(processedlist_title)"
   ]
  },
  {
   "cell_type": "code",
   "execution_count": 37,
   "metadata": {},
   "outputs": [
    {
     "name": "stderr",
     "output_type": "stream",
     "text": [
      "INFO:/home/jara/prstuff/thesis/:server not found, trying to launch server\n"
     ]
    },
    {
     "name": "stdout",
     "output_type": "stream",
     "text": [
      "{'neutral': '0', 'negative': '-1', 'positive': '1'}\n",
      "{'neutral': '0', 'negative': '-1', 'positive': '1'}\n",
      "{'neutral': '0', 'negative': '-1', 'positive': '1'}\n",
      "{'neutral': '0', 'negative': '-1', 'positive': '1'}\n",
      "{'neutral': '0', 'negative': '-1', 'positive': '1'}\n",
      "{'neutral': '0', 'negative': '-1', 'positive': '1'}\n",
      "{'neutral': '0', 'negative': '-1', 'positive': '1'}\n",
      "{'neutral': '0', 'negative': '-1', 'positive': '1'}\n",
      "{'neutral': '0', 'negative': '-1', 'positive': '1'}\n",
      "{'neutral': '0', 'negative': '-1', 'positive': '1'}\n",
      "{'neutral': '0', 'negative': '-1', 'positive': '1'}\n",
      "{'neutral': '0', 'negative': '-1', 'positive': '1'}\n",
      "{'neutral': '0', 'negative': '-1', 'positive': '1'}\n",
      "{'neutral': '0', 'negative': '-1', 'positive': '1'}\n",
      "{'neutral': '0', 'negative': '-1', 'positive': '1'}\n",
      "{'neutral': '0', 'negative': '-1', 'positive': '1'}\n",
      "{'neutral': '0', 'negative': '-1', 'positive': '1'}\n",
      "{'neutral': '0', 'negative': '-1', 'positive': '1'}\n",
      "{'neutral': '0', 'negative': '-1', 'positive': '1'}\n",
      "{'neutral': '0', 'negative': '-1', 'positive': '1'}\n",
      "{'neutral': '0', 'negative': '-1', 'positive': '1'}\n",
      "{'neutral': '0', 'negative': '-1', 'positive': '1'}\n",
      "{'neutral': '0', 'negative': '-1', 'positive': '1'}\n",
      "{'neutral': '0', 'negative': '-1', 'positive': '1'}\n",
      "{'neutral': '0', 'negative': '-1', 'positive': '1'}\n",
      "{'neutral': '0', 'negative': '-1', 'positive': '1'}\n",
      "{'neutral': '0', 'negative': '-1', 'positive': '1'}\n",
      "{'neutral': '0', 'negative': '-1', 'positive': '1'}\n",
      "{'neutral': '0', 'negative': '-1', 'positive': '1'}\n",
      "{'neutral': '0', 'negative': '-1', 'positive': '1'}\n",
      "{'neutral': '0', 'negative': '-1', 'positive': '1'}\n",
      "{'neutral': '0', 'negative': '-1', 'positive': '1'}\n",
      "{'neutral': '0', 'negative': '-1', 'positive': '1'}\n",
      "{'neutral': '0', 'negative': '-1', 'positive': '1'}\n",
      "{'neutral': '0', 'negative': '-1', 'positive': '1'}\n",
      "{'neutral': '0', 'negative': '-1', 'positive': '1'}\n",
      "{'neutral': '0', 'negative': '-1', 'positive': '1'}\n",
      "{'neutral': '0', 'negative': '-1', 'positive': '1'}\n",
      "{'neutral': '0', 'negative': '-1', 'positive': '1'}\n",
      "{'neutral': '0', 'negative': '-1', 'positive': '1'}\n",
      "{'neutral': '0', 'negative': '-1', 'positive': '1'}\n",
      "{'neutral': '0', 'negative': '-1', 'positive': '1'}\n",
      "{'neutral': '0', 'negative': '-1', 'positive': '1'}\n",
      "{'neutral': '0', 'negative': '-1', 'positive': '1'}\n",
      "{'neutral': '0', 'negative': '-1', 'positive': '1'}\n",
      "{'neutral': '0', 'negative': '-1', 'positive': '1'}\n"
     ]
    }
   ],
   "source": [
    "sentiments_list=[]\n",
    "neg=[]\n",
    "pos=[]\n",
    "senti = sentistrength(\"NL\")\n",
    "for t in processedlist_title:\n",
    "    pi = senti.get_sentiment(t)\n",
    "    print(pi)\n",
    "    sentiments_list.append(pi)"
   ]
  },
  {
   "cell_type": "code",
   "execution_count": 38,
   "metadata": {},
   "outputs": [
    {
     "data": {
      "text/plain": [
       "3"
      ]
     },
     "execution_count": 38,
     "metadata": {},
     "output_type": "execute_result"
    }
   ],
   "source": [
    "#len moet 3 zijn\n",
    "len(pi)"
   ]
  },
  {
   "cell_type": "code",
   "execution_count": 39,
   "metadata": {},
   "outputs": [],
   "source": [
    "#print(sentiments_list)"
   ]
  },
  {
   "cell_type": "code",
   "execution_count": 40,
   "metadata": {},
   "outputs": [
    {
     "name": "stdout",
     "output_type": "stream",
     "text": [
      "[{'neutral': '0', 'negative': '-1', 'positive': '1'}, {'neutral': '0', 'negative': '-1', 'positive': '1'}]\n"
     ]
    },
    {
     "data": {
      "text/plain": [
       "46"
      ]
     },
     "execution_count": 40,
     "metadata": {},
     "output_type": "execute_result"
    }
   ],
   "source": [
    "print(sentiments_list[:2])\n",
    "len(sentiments_list)"
   ]
  },
  {
   "cell_type": "code",
   "execution_count": 41,
   "metadata": {},
   "outputs": [],
   "source": [
    "sentiments_list2=[list(col) for col in zip(*[d.values() for d in sentiments_list])]"
   ]
  },
  {
   "cell_type": "code",
   "execution_count": 42,
   "metadata": {},
   "outputs": [],
   "source": [
    "#print(sentiments_list2)"
   ]
  },
  {
   "cell_type": "code",
   "execution_count": 43,
   "metadata": {},
   "outputs": [
    {
     "data": {
      "text/plain": [
       "46"
      ]
     },
     "execution_count": 43,
     "metadata": {},
     "output_type": "execute_result"
    }
   ],
   "source": [
    "pos_list=sentiments_list2[1]\n",
    "neg_list=sentiments_list2[0]\n",
    "len(pos_list)\n",
    "#len(neg_list)"
   ]
  },
  {
   "cell_type": "code",
   "execution_count": 44,
   "metadata": {},
   "outputs": [],
   "source": [
    "pos_list_int = list(map(int, pos_list))\n",
    "neg_list_int = list(map(int, neg_list))"
   ]
  },
  {
   "cell_type": "code",
   "execution_count": 45,
   "metadata": {},
   "outputs": [
    {
     "name": "stdout",
     "output_type": "stream",
     "text": [
      "[-1, -1, -1, -1, -1, -1, -1, -1, -1, -1, -1, -1, -1, -1, -1, -1, -1, -1, -1, -1, -1, -1, -1, -1, -1, -1, -1, -1, -1, -1, -1, -1, -1, -1, -1, -1, -1, -1, -1, -1, -1, -1, -1, -1, -1, -1]\n"
     ]
    }
   ],
   "source": [
    "print(pos_list_int)"
   ]
  },
  {
   "cell_type": "code",
   "execution_count": 46,
   "metadata": {},
   "outputs": [],
   "source": [
    "sentiment3 = [a + b for a, b in zip(neg_list_int, pos_list_int)]"
   ]
  },
  {
   "cell_type": "code",
   "execution_count": 47,
   "metadata": {},
   "outputs": [
    {
     "name": "stdout",
     "output_type": "stream",
     "text": [
      "-1.0\n"
     ]
    }
   ],
   "source": [
    "x=sum(sentiment3)/len(sentiment3)\n",
    "print(x)"
   ]
  },
  {
   "cell_type": "code",
   "execution_count": null,
   "metadata": {},
   "outputs": [],
   "source": []
  },
  {
   "cell_type": "code",
   "execution_count": null,
   "metadata": {},
   "outputs": [],
   "source": []
  }
 ],
 "metadata": {
  "kernelspec": {
   "display_name": "Python 3",
   "language": "python",
   "name": "python3"
  },
  "language_info": {
   "codemirror_mode": {
    "name": "ipython",
    "version": 3
   },
   "file_extension": ".py",
   "mimetype": "text/x-python",
   "name": "python",
   "nbconvert_exporter": "python",
   "pygments_lexer": "ipython3",
   "version": "3.5.2"
  }
 },
 "nbformat": 4,
 "nbformat_minor": 2
}
