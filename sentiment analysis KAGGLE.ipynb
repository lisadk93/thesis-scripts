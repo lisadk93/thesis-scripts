{
 "cells": [
  {
   "cell_type": "code",
   "execution_count": null,
   "metadata": {
    "collapsed": true
   },
   "outputs": [],
   "source": [
    "#sentiment analysis"
   ]
  },
  {
   "cell_type": "code",
   "execution_count": 244,
   "metadata": {},
   "outputs": [],
   "source": [
    "import csv\n",
    "articlelist=[]\n",
    "processedlist=[]\n",
    "with open(\"/home/jara/prstuff/thesis/output_orgnews/ziggo.csv\", encoding=\"utf-8\",mode=\"r\",newline=\"\") as csvfile:\n",
    "    reader = csv.reader(csvfile, delimiter=\",\")\n",
    "    for row in reader:\n",
    "        article=row[8]\n",
    "        article_processed=article.lower().replace(\"!\",\" \").replace(\")\",\" \").replace(\"|\",\"\").replace(\".\",\" \").replace(\"?\",\" \").replace(\"(\",\" \").replace(\"’\",\" \").replace('\"',\" \").replace(\"#\",\" \").replace(\":\",\" \")\n",
    "        articlelist.append(article)\n",
    "        processedlist.append(article_processed)\n",
    "        processedlist.append(article)"
   ]
  },
  {
   "cell_type": "code",
   "execution_count": 245,
   "metadata": {},
   "outputs": [
    {
     "data": {
      "text/plain": [
       "2082"
      ]
     },
     "execution_count": 245,
     "metadata": {},
     "output_type": "execute_result"
    }
   ],
   "source": [
    "len(processedlist)"
   ]
  },
  {
   "cell_type": "code",
   "execution_count": 246,
   "metadata": {},
   "outputs": [
    {
     "data": {
      "text/plain": [
       "'engels voetbal naar ziggo'"
      ]
     },
     "execution_count": 246,
     "metadata": {},
     "output_type": "execute_result"
    }
   ],
   "source": [
    "processedlist[0]"
   ]
  },
  {
   "cell_type": "code",
   "execution_count": 247,
   "metadata": {},
   "outputs": [],
   "source": [
    "#only do this if the first entry is a column name\n",
    "\n",
    "#processedlist.pop(0)"
   ]
  },
  {
   "cell_type": "code",
   "execution_count": 248,
   "metadata": {},
   "outputs": [
    {
     "data": {
      "text/plain": [
       "2082"
      ]
     },
     "execution_count": 248,
     "metadata": {},
     "output_type": "execute_result"
    }
   ],
   "source": [
    "len(processedlist)"
   ]
  },
  {
   "cell_type": "code",
   "execution_count": 249,
   "metadata": {},
   "outputs": [],
   "source": [
    "negcountlist=[]\n",
    "poscountlist=[]\n",
    "sentilist=[]\n",
    "averagesenti_source=[]"
   ]
  },
  {
   "cell_type": "code",
   "execution_count": 250,
   "metadata": {},
   "outputs": [],
   "source": [
    "positivelist=open(\"/home/jara/prstuff/thesis/sentiment_nl/positive_words_nl.txt\").read().splitlines()\n",
    "negativelist=open(\"/home/jara/prstuff/thesis/sentiment_nl/negative_words_nl.txt\").read().splitlines()"
   ]
  },
  {
   "cell_type": "code",
   "execution_count": 251,
   "metadata": {},
   "outputs": [],
   "source": [
    "for article in processedlist:\n",
    "    poscount=0\n",
    "    negcount=0\n",
    "    #print (\"Analyzing this one:\",article)\n",
    "    for word in article.split():\n",
    "        if word in positivelist:\n",
    "            poscount+=1\n",
    "        elif word in negativelist:\n",
    "            negcount+=1\n",
    "    #print(\"It contains\",poscount,\"positive words and\",negcount,\"negative words.\")\n",
    "    poscountlist.append(poscount)\n",
    "    negcountlist.append(negcount)    \n",
    "    if poscount == negcount:\n",
    "        sentilist.append(0)\n",
    "    else:\n",
    "        sentilist.append((poscount-negcount)/len(article))"
   ]
  },
  {
   "cell_type": "code",
   "execution_count": 252,
   "metadata": {},
   "outputs": [
    {
     "data": {
      "text/plain": [
       "2082"
      ]
     },
     "execution_count": 252,
     "metadata": {},
     "output_type": "execute_result"
    }
   ],
   "source": [
    "len(sentilist)"
   ]
  },
  {
   "cell_type": "code",
   "execution_count": 253,
   "metadata": {},
   "outputs": [
    {
     "data": {
      "text/plain": [
       "2082"
      ]
     },
     "execution_count": 253,
     "metadata": {},
     "output_type": "execute_result"
    }
   ],
   "source": [
    "len(poscountlist)"
   ]
  },
  {
   "cell_type": "code",
   "execution_count": 254,
   "metadata": {
    "scrolled": true
   },
   "outputs": [
    {
     "data": {
      "text/plain": [
       "2082"
      ]
     },
     "execution_count": 254,
     "metadata": {},
     "output_type": "execute_result"
    }
   ],
   "source": [
    "len(negcountlist)"
   ]
  },
  {
   "cell_type": "code",
   "execution_count": 255,
   "metadata": {},
   "outputs": [],
   "source": [
    "#print(poscountlist)"
   ]
  },
  {
   "cell_type": "code",
   "execution_count": 256,
   "metadata": {},
   "outputs": [],
   "source": [
    "#print(negcountlist)"
   ]
  },
  {
   "cell_type": "code",
   "execution_count": 257,
   "metadata": {},
   "outputs": [
    {
     "name": "stdout",
     "output_type": "stream",
     "text": [
      "Average sentiment: -0.003257670813767529\n"
     ]
    }
   ],
   "source": [
    "print(\"Average sentiment:\",sum(sentilist)/len(sentilist))"
   ]
  },
  {
   "cell_type": "code",
   "execution_count": 210,
   "metadata": {
    "collapsed": true
   },
   "outputs": [
    {
     "name": "stdout",
     "output_type": "stream",
     "text": [
      "[0.006514657980456026, 0.007817589576547232, 0.015952143569292122, 0.015952143569292122, 0.007616974972796518, 0.007616974972796518, 0.0026052974381241857, 0.00303951367781155, -0.0033277870216306157, -0.0027731558513588465, 0.003947368421052632, 0.003947368421052632, -0.011494252873563218, -0.011494252873563218, 0, 0, 0.005044136191677175, 0.005044136191677175, 0.0030816640986132513, 0.0030816640986132513, 0.00903225806451613, 0.007741935483870968, 0, -0.001558846453624318, 0.0014705882352941176, 0.0014705882352941176, 0.0029717682020802376, 0.0029717682020802376, 0.011727078891257996, 0.010660980810234541, 0.001098901098901099, 0.002197802197802198, 0.006048387096774193, 0.004032258064516129, 0.00815494393476045, 0.00815494393476045, 0.015952143569292122, 0.015952143569292122, 0.003818008272351257, 0.003818008272351257, -0.002540650406504065, -0.001524390243902439, 0.004182350480970306, 0.004600585529067336, -0.006775067750677507, -0.005420054200542005, 0, 0.0022123893805309734, 0.0014005602240896359, 0.0014005602240896359, -0.0020325203252032522, -0.0040650406504065045, 0, 0, 0.013513513513513514, 0.013513513513513514, 0, 0, 0, 0, 0.005780346820809248, 0.005780346820809248, 0, 0.002157497303128371, 0.005, 0.006363636363636364, 0.0015889830508474577, 0.001059322033898305, 0.004537205081669692, 0.003629764065335753, 0.006375227686703097, 0.00546448087431694, 0.004149377593360996, 0.004149377593360996, 0.0038498556304138597, 0.0038498556304138597, 0.005597014925373134, 0.007462686567164179, -0.006313131313131313, -0.005050505050505051, 0.005988023952095809, 0.005988023952095809, 0.0007052186177715092, 0.0021156558533145277, 0.004301075268817204, 0.005017921146953405, -0.002621231979030144, -0.002621231979030144, 0.003621001810500905, 0.004224502112251056, 0.004180602006688963, 0.0033444816053511705, 0.008547008547008548, 0.008547008547008548, 0.002586652871184687, 0.0031039834454216243, 0.009718172983479106, 0.012633624878522837, 0.00303951367781155, 0.0024316109422492403, -0.0013651877133105802, 0.0006825938566552901, 0.0047562425683709865, 0.0047562425683709865, 0.0007479431563201197, 0.0014958863126402393, 0.005463576158940398, 0.005960264900662252, 0.0037105751391465678, 0.0037105751391465678, 0.002932551319648094, 0.002932551319648094, 0.005606166783461808, 0.004204625087596356, 0.003857280617164899, 0.003857280617164899, 0.0020804438280166435, 0.0020804438280166435, 0.00906555090655509, 0.007670850767085077, 0.004988913525498891, 0.0066518847006651885, 0.0015600624024961, 0.0015600624024961, 0, 0.0014534883720930232, 0.00051440329218107, 0.00102880658436214, 0.002107481559536354, 0.004214963119072708, 0.0041459369817578775, 0.003316749585406302, 0.0017371163867979154, 0.0011580775911986102, 0.015337423312883436, 0.015337423312883436, -0.0014534883720930232, 0, 0.0040595399188092015, 0.0027063599458728013, 0.003454582401950823, 0.003657793131477342, 0.0010565240359218173, 0.0010565240359218173, 0.0033259423503325942, 0.005543237250554324, 0.006545454545454545, 0.007272727272727273, -0.0031545741324921135, -0.0010515247108307045, 0.007553747821034283, 0.009296920395119116, 0.00857843137254902, 0.00980392156862745, 0.013793103448275862, 0.013793103448275862, 0.0029910269192422734, 0.004985044865403789, 0.004669260700389105, 0.007003891050583658, 0.0008771929824561404, -0.0008771929824561404, 0.010554089709762533, 0.010554089709762533, 0.0016675931072818232, 0.0022234574763757642, 0, 0.0005636978579481398, 0.004149377593360996, 0.0033195020746887966, 0.0044286979627989375, 0.00354295837023915, 0.0008665511265164644, -0.0008665511265164644, -0.0013413816230717639, -0.0006706908115358819, -0.004524886877828055, -0.0022624434389140274, 0.001081081081081081, 0.002162162162162162, 0.008333333333333333, 0.008333333333333333, -0.0011109053878911312, -0.0014812071838548417, 0.002430133657351154, 0.002430133657351154, 0.005330490405117271, 0.0042643923240938165, 0.008232235701906412, 0.00779896013864818, 0.0011235955056179776, 0.0033707865168539327, -0.005454545454545455, -0.0018181818181818182, 0.0014347202295552368, 0.0028694404591104736, -0.005172413793103448, -0.0034482758620689655, 0.004920049200492005, 0.006150061500615006, 0.0034522439585730723, 0.004602991944764097, 0.005128205128205128, 0.007692307692307693, 0.00516795865633075, 0.00516795865633075, 0.010075566750629723, 0.010075566750629723, 0.006514657980456026, 0.007817589576547232, 0.012142237640936688, 0.011274934952298352, 0.005859375, 0.00390625, 0.015952143569292122, 0.015952143569292122, 0.0049504950495049506, 0.0049504950495049506, 0.005681818181818182, 0.006944444444444444, 0.005417956656346749, 0.005417956656346749, 0.007359705611775529, 0.00827966881324747, -0.0007354743809757293, -0.000980632507967639, 0.00863664404688464, 0.009253547193090685, 0.003838771593090211, 0.005758157389635317, 0.004099888184867686, 0.004472605292582929, -0.012222222222222223, -0.008888888888888889, -0.002066115702479339, -0.002066115702479339, 0.008807985907222548, 0.009395184967704051, 0.007494646680942184, 0.006423982869379015, 0, 0, 0.004324324324324324, 0.004324324324324324, 0.00046860356138706655, 0, -0.0036231884057971015, -0.0018115942028985507, 0, 0.002183406113537118, 0.008188331627430911, 0.008188331627430911, 0, 0, -0.002224694104560623, -0.0016685205784204673, 0.0011737089201877935, 0.000782472613458529, 0.00027793218454697053, 0, 0, 0, 0, 0.001272264631043257, 0.010899182561307902, 0.010899182561307902, 0.0017657445556209534, 0.002354326074161271, -0.0007952286282306163, 0.0007952286282306163, 0.006067961165048544, 0.0054611650485436895, 0.0029239766081871343, 0.004873294346978557, 0, 0, 0, 0.001348799568384138, 0.005417118093174431, 0.005417118093174431, 0.005219206680584551, 0.0041753653444676405]\n"
     ]
    }
   ],
   "source": [
    "#print(sentilist)"
   ]
  },
  {
   "cell_type": "code",
   "execution_count": 194,
   "metadata": {
    "collapsed": true
   },
   "outputs": [],
   "source": [
    "#now we need a variable added to all articles which represents sum(sentilist)/len(sentilist) per source company. \n",
    "#Therefore every article belonging to the same company have the same value (overall mean sentiment of all newsarticle)"
   ]
  },
  {
   "cell_type": "code",
   "execution_count": 262,
   "metadata": {},
   "outputs": [],
   "source": [
    "orgreputation=[]\n",
    "orgname=[]\n",
    "for article in processedlist:\n",
    "    orgreputation.append(0.003069133773168068)\n",
    "    orgname.append('ziggo')"
   ]
  },
  {
   "cell_type": "code",
   "execution_count": 263,
   "metadata": {},
   "outputs": [
    {
     "data": {
      "text/plain": [
       "2082"
      ]
     },
     "execution_count": 263,
     "metadata": {},
     "output_type": "execute_result"
    }
   ],
   "source": [
    "len(orgreputation)"
   ]
  },
  {
   "cell_type": "code",
   "execution_count": 264,
   "metadata": {},
   "outputs": [],
   "source": [
    "output=zip(processedlist,negcountlist,poscountlist,sentilist,orgreputation,orgname)\n",
    "with open(\"/home/jara/pr_newss/thesis/articles-processed/ziggo_p.csv\",mode=\"w\",encoding=\"utf-8\", newline=\"\") as fo:\n",
    "    writer=csv.writer(fo)\n",
    "    writer.writerows(output)"
   ]
  }
 ],
 "metadata": {
  "kernelspec": {
   "display_name": "Python 3",
   "language": "python",
   "name": "python3"
  },
  "language_info": {
   "codemirror_mode": {
    "name": "ipython",
    "version": 3
   },
   "file_extension": ".py",
   "mimetype": "text/x-python",
   "name": "python",
   "nbconvert_exporter": "python",
   "pygments_lexer": "ipython3",
   "version": "3.5.2"
  }
 },
 "nbformat": 4,
 "nbformat_minor": 2
}
