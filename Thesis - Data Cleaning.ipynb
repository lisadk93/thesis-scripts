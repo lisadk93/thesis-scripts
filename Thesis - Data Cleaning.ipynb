{
 "cells": [
  {
   "cell_type": "markdown",
   "metadata": {
    "deletable": true,
    "editable": true
   },
   "source": [
    "# Thesis - Data Cleaning"
   ]
  },
  {
   "cell_type": "markdown",
   "metadata": {
    "deletable": true,
    "editable": true
   },
   "source": [
    "## 1. Import Needed Packages"
   ]
  },
  {
   "cell_type": "code",
   "execution_count": 28,
   "metadata": {
    "collapsed": true,
    "deletable": true,
    "editable": true
   },
   "outputs": [],
   "source": [
    "import pickle\n",
    "import json\n",
    "import pandas as pd\n",
    "import pprint"
   ]
  },
  {
   "cell_type": "markdown",
   "metadata": {
    "deletable": true,
    "editable": true
   },
   "source": [
    "## 2. Import Datasets"
   ]
  },
  {
   "cell_type": "markdown",
   "metadata": {
    "deletable": true,
    "editable": true
   },
   "source": [
    "### 2.1 TripAdvisor\n",
    "\n",
    "#### 2.2.1 Open all separate files, and add them together."
   ]
  },
  {
   "cell_type": "code",
   "execution_count": 131,
   "metadata": {
    "collapsed": false,
    "deletable": true,
    "editable": true
   },
   "outputs": [],
   "source": [
    "pkl_file1 = open('data_tripadvisor.pickle', 'rb')\n",
    "trip1 = pickle.load(pkl_file1)\n",
    "pkl_file1.close()"
   ]
  },
  {
   "cell_type": "code",
   "execution_count": 132,
   "metadata": {
    "collapsed": false
   },
   "outputs": [
    {
     "data": {
      "text/plain": [
       "31"
      ]
     },
     "execution_count": 132,
     "metadata": {},
     "output_type": "execute_result"
    }
   ],
   "source": [
    "len(trip) # ONLY ONE PAGE!!!"
   ]
  },
  {
   "cell_type": "markdown",
   "metadata": {
    "deletable": true,
    "editable": true
   },
   "source": [
    "### 2.2 Expedia\n",
    "\n",
    "#### 2.2.1 Open all separate files, and add them together."
   ]
  },
  {
   "cell_type": "code",
   "execution_count": 67,
   "metadata": {
    "collapsed": false,
    "deletable": true,
    "editable": true
   },
   "outputs": [],
   "source": [
    "pkl_file1 = open('ExpediaPage1.pkl', 'rb')\n",
    "expedia1 = pickle.load(pkl_file1)\n",
    "pkl_file1.close()"
   ]
  },
  {
   "cell_type": "code",
   "execution_count": 68,
   "metadata": {
    "collapsed": false,
    "deletable": true,
    "editable": true
   },
   "outputs": [],
   "source": [
    "pkl_file3 = open('ExpediaPage3.pkl', 'rb')\n",
    "expedia3 = pickle.load(pkl_file3)\n",
    "pkl_file3.close()"
   ]
  },
  {
   "cell_type": "code",
   "execution_count": 69,
   "metadata": {
    "collapsed": true
   },
   "outputs": [],
   "source": [
    "pkl_file4 = open('ExpediaPage4.pkl', 'rb')\n",
    "expedia4 = pickle.load(pkl_file4)\n",
    "pkl_file4.close()"
   ]
  },
  {
   "cell_type": "code",
   "execution_count": 88,
   "metadata": {
    "collapsed": true
   },
   "outputs": [],
   "source": [
    "allhotels_expedia = expedia1+expedia3+expedia4"
   ]
  },
  {
   "cell_type": "code",
   "execution_count": 89,
   "metadata": {
    "collapsed": false
   },
   "outputs": [
    {
     "name": "stdout",
     "output_type": "stream",
     "text": [
      "The lengths of the separate datasets are: 54 51 54 \n",
      "Therefore, the length of the final dataset should have length: 159 \n",
      "Which is: True\n"
     ]
    }
   ],
   "source": [
    "print(\"The lengths of the separate datasets are:\",len(expedia1),len(expedia3),len(expedia4),\n",
    "      \"\\nTherefore, the length of the final dataset should have length:\",(len(expedia1)+len(expedia3)+len(expedia4)),\n",
    "      \"\\nWhich is:\",len(allhotels_expedia)==(len(expedia1)+len(expedia3)+len(expedia4)))"
   ]
  },
  {
   "cell_type": "markdown",
   "metadata": {},
   "source": [
    "#### 2.2.2 Put all reviews from the hotels in one dataset."
   ]
  },
  {
   "cell_type": "code",
   "execution_count": 122,
   "metadata": {
    "collapsed": false
   },
   "outputs": [
    {
     "name": "stdout",
     "output_type": "stream",
     "text": [
      "There should be 1150479 reviews, which is: True\n"
     ]
    }
   ],
   "source": [
    "allreviews_expedia = []\n",
    "amount_reviews_hotel = []\n",
    "for hotel in allhotels_expedia:\n",
    "    amount_reviews_hotel.append(len(hotel['reviews']))\n",
    "    reviews = hotel['reviews']\n",
    "    for review in reviews:\n",
    "        review['hotel'] = hotel['name'] # add hotel name to be able to retrieve all reviews for a hotel\n",
    "    allreviews_expedia.extend(reviews)\n",
    "print(\"There should be\",sum(amount_reviews_hotel),\"reviews, which is:\",(len(allreviews_expedia)==sum(amount_reviews_hotel)))"
   ]
  },
  {
   "cell_type": "markdown",
   "metadata": {},
   "source": [
    "## 3. Save cleaned datasets"
   ]
  },
  {
   "cell_type": "markdown",
   "metadata": {},
   "source": [
    "### 3.1 TripAdvisor"
   ]
  },
  {
   "cell_type": "code",
   "execution_count": null,
   "metadata": {
    "collapsed": true
   },
   "outputs": [],
   "source": []
  },
  {
   "cell_type": "markdown",
   "metadata": {},
   "source": [
    "### 3.2 Expedia"
   ]
  },
  {
   "cell_type": "markdown",
   "metadata": {},
   "source": [
    "#### 3.2.1 Save the hotels in a file."
   ]
  },
  {
   "cell_type": "code",
   "execution_count": 129,
   "metadata": {
    "collapsed": false
   },
   "outputs": [],
   "source": [
    "with open('allhotels_expedia.pkl', 'wb') as fo:\n",
    "    pickle.dump(allhotels_expedia, fo)"
   ]
  },
  {
   "cell_type": "markdown",
   "metadata": {},
   "source": [
    "#### 3.2.2 Save the reviews in a file."
   ]
  },
  {
   "cell_type": "code",
   "execution_count": 130,
   "metadata": {
    "collapsed": true
   },
   "outputs": [],
   "source": [
    "with open('allreviews_expedia.pkl', 'wb') as fo:\n",
    "    pickle.dump(allreviews_expedia, fo)"
   ]
  },
  {
   "cell_type": "code",
   "execution_count": null,
   "metadata": {
    "collapsed": true
   },
   "outputs": [],
   "source": []
  }
 ],
 "metadata": {
  "kernelspec": {
   "display_name": "py3.5",
   "language": "python",
   "name": "py3.5"
  },
  "language_info": {
   "codemirror_mode": {
    "name": "ipython",
    "version": 3
   },
   "file_extension": ".py",
   "mimetype": "text/x-python",
   "name": "python",
   "nbconvert_exporter": "python",
   "pygments_lexer": "ipython3",
   "version": "3.5.2"
  }
 },
 "nbformat": 4,
 "nbformat_minor": 2
}
