{
 "cells": [
  {
   "cell_type": "markdown",
   "metadata": {
    "deletable": true,
    "editable": true
   },
   "source": [
    "# Thesis - Data Cleaning"
   ]
  },
  {
   "cell_type": "markdown",
   "metadata": {
    "deletable": true,
    "editable": true
   },
   "source": [
    "## 1. Import Needed Packages"
   ]
  },
  {
   "cell_type": "code",
   "execution_count": 2,
   "metadata": {
    "collapsed": true,
    "deletable": true,
    "editable": true
   },
   "outputs": [],
   "source": [
    "import pickle\n",
    "import json\n",
    "import os\n",
    "from collections import Counter\n",
    "import itertools\n",
    "import operator\n",
    "from operator import itemgetter"
   ]
  },
  {
   "cell_type": "markdown",
   "metadata": {
    "deletable": true,
    "editable": true
   },
   "source": [
    "## 2. Import Datasets"
   ]
  },
  {
   "cell_type": "markdown",
   "metadata": {
    "deletable": true,
    "editable": true
   },
   "source": [
    "### 2.1 TripAdvisor\n",
    "\n",
    "#### 2.2.1 Open all separate files, and add them together."
   ]
  },
  {
   "cell_type": "code",
   "execution_count": 282,
   "metadata": {
    "collapsed": true,
    "deletable": true,
    "editable": true
   },
   "outputs": [],
   "source": [
    "path_to_jsonfiles = 'TripAdvisorHotels'\n",
    "allhotels_tripadvisor = []\n",
    "for file in os.listdir(path_to_jsonfiles):\n",
    "    full_filename = \"%s/%s\" % (path_to_jsonfiles, file)\n",
    "    with open(full_filename,'r') as fi:\n",
    "        data = json.load(fi)\n",
    "        hotel = data['_source']\n",
    "        allhotels_tripadvisor.append(hotel)"
   ]
  },
  {
   "cell_type": "code",
   "execution_count": 514,
   "metadata": {
    "collapsed": false,
    "deletable": true,
    "editable": true
   },
   "outputs": [
    {
     "name": "stdout",
     "output_type": "stream",
     "text": [
      "There are 402 files, and the length of the combined files should be the same: 402\n"
     ]
    }
   ],
   "source": [
    "print('There are {} files, and the length of the combined files should be the same: {}'.format(len(allhotels_tripadvisor), (len(allhotels_tripadvisor))))"
   ]
  },
  {
   "cell_type": "code",
   "execution_count": 515,
   "metadata": {
    "collapsed": false,
    "deletable": true,
    "editable": true
   },
   "outputs": [
    {
     "data": {
      "text/plain": [
       "dict_keys(['ranking', 'overall_rating', 'reviews', 'link', 'name', 'doctype', 'META', 'reviewquantity'])"
      ]
     },
     "execution_count": 515,
     "metadata": {},
     "output_type": "execute_result"
    }
   ],
   "source": [
    "allhotels_tripadvisor[0].keys()"
   ]
  },
  {
   "cell_type": "code",
   "execution_count": 516,
   "metadata": {
    "collapsed": false
   },
   "outputs": [
    {
     "name": "stdout",
     "output_type": "stream",
     "text": [
      "There are 146585 reviews\n"
     ]
    }
   ],
   "source": [
    "allreviews = []\n",
    "for hotel in allhotels_tripadvisor:\n",
    "    allreviews.append(len(hotel['reviews']))\n",
    "print('There are {} reviews'.format(sum(allreviews)))"
   ]
  },
  {
   "cell_type": "markdown",
   "metadata": {
    "deletable": true,
    "editable": true
   },
   "source": [
    "### 2.2 Expedia\n",
    "\n",
    "#### 2.2.1 Open all separate files, and add them together."
   ]
  },
  {
   "cell_type": "code",
   "execution_count": 8,
   "metadata": {
    "collapsed": false,
    "deletable": true,
    "editable": true
   },
   "outputs": [],
   "source": [
    "pkl_file1 = open('ExpediaPage1.pkl', 'rb')\n",
    "expedia1 = pickle.load(pkl_file1)\n",
    "pkl_file1.close()"
   ]
  },
  {
   "cell_type": "code",
   "execution_count": 9,
   "metadata": {
    "collapsed": false,
    "deletable": true,
    "editable": true
   },
   "outputs": [],
   "source": [
    "pkl_file3 = open('ExpediaPage3.pkl', 'rb')\n",
    "expedia3 = pickle.load(pkl_file3)\n",
    "pkl_file3.close()"
   ]
  },
  {
   "cell_type": "code",
   "execution_count": 10,
   "metadata": {
    "collapsed": true,
    "deletable": true,
    "editable": true
   },
   "outputs": [],
   "source": [
    "pkl_file4 = open('ExpediaPage4.pkl', 'rb')\n",
    "expedia4 = pickle.load(pkl_file4)\n",
    "pkl_file4.close()"
   ]
  },
  {
   "cell_type": "code",
   "execution_count": 11,
   "metadata": {
    "collapsed": true,
    "deletable": true,
    "editable": true
   },
   "outputs": [],
   "source": [
    "pkl_file5 = open('ExpediaPage5.pkl', 'rb')\n",
    "expedia5 = pickle.load(pkl_file5)\n",
    "pkl_file5.close()"
   ]
  },
  {
   "cell_type": "code",
   "execution_count": 12,
   "metadata": {
    "collapsed": true,
    "deletable": true,
    "editable": true
   },
   "outputs": [],
   "source": [
    "pkl_file6 = open('ExpediaPage6.pkl', 'rb')\n",
    "expedia6 = pickle.load(pkl_file6)\n",
    "pkl_file6.close()"
   ]
  },
  {
   "cell_type": "code",
   "execution_count": 13,
   "metadata": {
    "collapsed": true,
    "deletable": true,
    "editable": true
   },
   "outputs": [],
   "source": [
    "allhotels_expedia = expedia1+expedia3+expedia4+expedia5+expedia6"
   ]
  },
  {
   "cell_type": "code",
   "execution_count": 14,
   "metadata": {
    "collapsed": false,
    "deletable": true,
    "editable": true
   },
   "outputs": [
    {
     "name": "stdout",
     "output_type": "stream",
     "text": [
      "The lengths of the separate datasets are: 54 51 54 54 54 \n",
      "Therefore, the length of the final dataset should have length: 267 \n",
      "Which is: True\n"
     ]
    }
   ],
   "source": [
    "print(\"The lengths of the separate datasets are:\",len(expedia1),len(expedia3),len(expedia4),len(expedia5),len(expedia6),\n",
    "      \"\\nTherefore, the length of the final dataset should have length:\",(len(expedia1)+len(expedia3)+len(expedia4)+len(expedia5)+len(expedia6)),\n",
    "      \"\\nWhich is:\",len(allhotels_expedia)==(len(expedia1)+len(expedia3)+len(expedia4)+len(expedia5)+len(expedia6)))"
   ]
  },
  {
   "cell_type": "code",
   "execution_count": 15,
   "metadata": {
    "collapsed": false,
    "deletable": true,
    "editable": true
   },
   "outputs": [
    {
     "data": {
      "text/plain": [
       "dict_keys(['stars', 'rating', 'name', 'url', 'review_quantity', 'doctype', 'reviews', 'id', 'META'])"
      ]
     },
     "execution_count": 15,
     "metadata": {},
     "output_type": "execute_result"
    }
   ],
   "source": [
    "allhotels_expedia[0].keys()"
   ]
  },
  {
   "cell_type": "markdown",
   "metadata": {
    "deletable": true,
    "editable": true
   },
   "source": [
    "## 3. Clean the Datasets"
   ]
  },
  {
   "cell_type": "markdown",
   "metadata": {
    "deletable": true,
    "editable": true
   },
   "source": [
    "### 3.1 TripAdvisor"
   ]
  },
  {
   "cell_type": "markdown",
   "metadata": {},
   "source": [
    "#### 3.1.1 Check for duplicates."
   ]
  },
  {
   "cell_type": "code",
   "execution_count": 517,
   "metadata": {
    "collapsed": false,
    "deletable": true,
    "editable": true
   },
   "outputs": [
    {
     "data": {
      "text/plain": [
       "Counter({'377 House - Amsterdam': 1,\n",
       "         'A-Train Hotel': 2,\n",
       "         'Aalborg Hotel Amsterdam': 2,\n",
       "         'Ambassade Hotel': 3,\n",
       "         'Amstel Botel': 1,\n",
       "         'Amsterdam Downtown Hotel': 1,\n",
       "         'Amsterdam Hostel Centre': 1,\n",
       "         'Amsterdam Hotel Parklane': 1,\n",
       "         'Amsterdam House Hotel': 2,\n",
       "         'Amsterdam Marriott Hotel': 1,\n",
       "         'Amsterdam Teleport Hotel': 2,\n",
       "         'Amsterdam Tropen Hotel': 1,\n",
       "         'Amsterdam Wiechmann Hotel': 1,\n",
       "         'Anco Hotel': 1,\n",
       "         'Andaz Amsterdam Prinsengracht': 2,\n",
       "         'Anna Youth Hostel': 1,\n",
       "         'Annemarie Hotel': 1,\n",
       "         'Apollo Hotel Amsterdam, a Tribute portfolio': 1,\n",
       "         'Apollo Museumhotel Amsterdam City Centre': 1,\n",
       "         'Apollofirst boutique hotel Amsterdam': 3,\n",
       "         'Armada Hotel': 2,\n",
       "         \"Art'otel Amsterdam\": 1,\n",
       "         'Aston City Hotel': 1,\n",
       "         'Atlanta Hotel': 1,\n",
       "         'Avenue Hotel': 1,\n",
       "         'BackStage Hotel Amsterdam': 1,\n",
       "         'Banks Mansion': 1,\n",
       "         'Bastion Hotel Amsterdam Amstel': 2,\n",
       "         'Bastion Hotel Amsterdam Noord': 1,\n",
       "         'Bastion Hotel Amsterdam Zuidwest': 1,\n",
       "         'BeByme': 1,\n",
       "         'Belfort Hotel': 1,\n",
       "         'Bema Rentals': 1,\n",
       "         'Best Western Delphi Hotel': 1,\n",
       "         'Bilderberg Garden Hotel': 1,\n",
       "         'Bilderberg Hotel Jan Luyken': 2,\n",
       "         'Botel': 1,\n",
       "         'Botel Zebra': 1,\n",
       "         'Camp Inn Hotel': 2,\n",
       "         'Campanile Amsterdam': 1,\n",
       "         'Canal House Amsterdam': 1,\n",
       "         'Casa Cara': 1,\n",
       "         'Center Hotel Amsterdam': 1,\n",
       "         'Cityden Museum District City Suites': 1,\n",
       "         'Corendon Vitality Hotel Amsterdam': 1,\n",
       "         'Courtyard Amsterdam Arena Atlas': 2,\n",
       "         'Crowne Plaza Amsterdam South': 2,\n",
       "         'Dam Hotel': 1,\n",
       "         \"De Jonker Urban Studio's & Suites\": 1,\n",
       "         'Delta Hotel Amsterdam City Centre': 2,\n",
       "         'Die Port van Cleve': 1,\n",
       "         'DoubleTree by Hilton Hotel Amsterdam - NDSM Wharf': 3,\n",
       "         'DoubleTree by Hilton Hotel Amsterdam Centraal Station': 2,\n",
       "         'Dream Hotel Amsterdam': 2,\n",
       "         'Dutch Design Hotel Artemis': 2,\n",
       "         'Element Amsterdam': 1,\n",
       "         'Euphemia Hotel': 3,\n",
       "         'European Apartments Reservations': 2,\n",
       "         'Falcon Plaza Hotel': 1,\n",
       "         'Flower Market Apartment': 2,\n",
       "         'Flower Market Hotel': 2,\n",
       "         'France Hotel Amsterdam': 2,\n",
       "         'Freeland Hotel': 1,\n",
       "         'Frisco Inn Bar Hotel': 1,\n",
       "         'Grand Hotel Amrath Amsterdam': 2,\n",
       "         'HOTEL2STAY': 1,\n",
       "         'Hampshire Hotel - Amsterdam American': 2,\n",
       "         'Hampshire Hotel - Beethoven Amsterdam': 1,\n",
       "         'Hampshire Hotel - The Manor Amsterdam': 3,\n",
       "         'Hampshire Hotel - Theatre District Amsterdam': 1,\n",
       "         'Hampton by Hilton Amsterdam / Arena Boulevard': 3,\n",
       "         'Hampton by Hilton Amsterdam Centre East': 2,\n",
       "         'Hemp Hotel': 1,\n",
       "         'Hilton Amsterdam': 1,\n",
       "         'Hoksbergen Apartments': 1,\n",
       "         'Holiday Inn Amsterdam': 1,\n",
       "         'Holiday Inn Amsterdam - Arena Towers': 1,\n",
       "         'Holiday Inn Express Amsterdam - Arena Towers': 1,\n",
       "         'Holiday Inn Express Amsterdam - South': 2,\n",
       "         'Holiday Inn Express Amsterdam-Sloterdijk Station': 1,\n",
       "         'Home & Away Apartments': 1,\n",
       "         'Hotel 83 Amsterdam': 2,\n",
       "         'Hotel Acca/Van Gogh': 1,\n",
       "         'Hotel Adolesce': 1,\n",
       "         'Hotel Agora': 2,\n",
       "         'Hotel Alexander': 1,\n",
       "         'Hotel Alfa Plantage': 1,\n",
       "         'Hotel Amstelzicht': 1,\n",
       "         'Hotel Amsterdam Inn': 2,\n",
       "         'Hotel Arena': 1,\n",
       "         'Hotel Aspen': 1,\n",
       "         'Hotel Ben': 2,\n",
       "         'Hotel Beursstraat': 1,\n",
       "         'Hotel Blyss': 2,\n",
       "         'Hotel Brian': 1,\n",
       "         'Hotel Brouwer': 1,\n",
       "         'Hotel Cafe Corner House': 2,\n",
       "         'Hotel Casa': 3,\n",
       "         'Hotel City Garden Amsterdam': 2,\n",
       "         'Hotel Continental': 1,\n",
       "         'Hotel Cordial': 2,\n",
       "         'Hotel Croydon': 1,\n",
       "         'Hotel Damrak': 1,\n",
       "         'Hotel De Gerstekorrel': 3,\n",
       "         'Hotel De Hallen': 1,\n",
       "         'Hotel De Koopermoolen': 1,\n",
       "         'Hotel De Looier': 1,\n",
       "         'Hotel De Mallemoolen': 3,\n",
       "         'Hotel De Munck': 3,\n",
       "         'Hotel Di-Ann': 1,\n",
       "         'Hotel Estherea': 1,\n",
       "         \"Hotel Europa'92\": 1,\n",
       "         'Hotel Fita': 2,\n",
       "         'Hotel Flipper': 1,\n",
       "         'Hotel Groenendael': 1,\n",
       "         'Hotel Hermitage Amsterdam': 2,\n",
       "         'Hotel Hestia': 1,\n",
       "         'Hotel Hoksbergen': 1,\n",
       "         'Hotel Impala': 1,\n",
       "         'Hotel JL No76': 1,\n",
       "         'Hotel Jimmy': 1,\n",
       "         'Hotel Kap': 3,\n",
       "         'Hotel Lowell': 1,\n",
       "         'Hotel Manofa': 1,\n",
       "         'Hotel Max': 1,\n",
       "         'Hotel Mevlana': 1,\n",
       "         'Hotel Monopole': 1,\n",
       "         'Hotel Multatuli': 1,\n",
       "         'Hotel Museum Lane': 1,\n",
       "         'Hotel Museumzicht': 1,\n",
       "         'Hotel Nadia': 1,\n",
       "         'Hotel Nes': 3,\n",
       "         'Hotel Neutraal': 1,\n",
       "         'Hotel Notting Hill': 1,\n",
       "         'Hotel Nottinghill Amsterdam': 1,\n",
       "         'Hotel Okura Amsterdam': 1,\n",
       "         'Hotel Old Quarter': 2,\n",
       "         'Hotel Oostzaan-Amsterdam': 1,\n",
       "         'Hotel Patou': 1,\n",
       "         'Hotel Pax': 1,\n",
       "         'Hotel Plantage': 1,\n",
       "         'Hotel Restaurant Larende': 2,\n",
       "         'Hotel Roemer': 1,\n",
       "         'Hotel Sander': 1,\n",
       "         'Hotel Savoy Amsterdam': 2,\n",
       "         'Hotel Seven one Seven': 2,\n",
       "         'Hotel Sint Nicolaas': 1,\n",
       "         'Hotel Tamara': 1,\n",
       "         'Hotel The Exchange': 1,\n",
       "         'Hotel The Globe': 1,\n",
       "         'Hotel The Golden Bear': 1,\n",
       "         \"Hotel The Neighbour's Magnolia\": 2,\n",
       "         'Hotel Titus': 1,\n",
       "         'Hotel Torenzicht': 1,\n",
       "         'Hotel Twenty Seven': 1,\n",
       "         'Hotel V Fizeaustraat': 2,\n",
       "         'Hotel V Nesplein': 1,\n",
       "         'Hotel Victorie': 2,\n",
       "         'Hotel Washington': 1,\n",
       "         'Hotel Y Boulevard': 1,\n",
       "         'Hotel de Paris Amsterdam': 1,\n",
       "         'Hotel de Westertoren': 2,\n",
       "         'Hotel des Arts Amsterdam': 2,\n",
       "         'Hyatt Regency Amsterdam': 1,\n",
       "         'INK Hotel Amsterdam - MGallery by Sofitel': 2,\n",
       "         'ITC Hotel': 1,\n",
       "         'Ibis Amsterdam Centre': 1,\n",
       "         'Ibis Amsterdam Centre Stopera': 2,\n",
       "         'Ibis Styles Amsterdam Amstel': 2,\n",
       "         'Ibis Styles Amsterdam Central Station': 1,\n",
       "         'Il Giardino Hotel': 1,\n",
       "         'Inntel Hotels Amsterdam Centre': 1,\n",
       "         'Iris Hotel': 1,\n",
       "         'J&B': 1,\n",
       "         'Jaz Amsterdam': 1,\n",
       "         'Jupiter Hotel': 1,\n",
       "         'King Hotel': 1,\n",
       "         \"King's Villa Hotel\": 1,\n",
       "         'Kooyk Hotel': 3,\n",
       "         'Leidseplein Hostel': 1,\n",
       "         'Lloyd Hotel & Cultural Embassy': 2,\n",
       "         'Luxury Suites Amsterdam': 3,\n",
       "         'MOXY by Marriott Amsterdam Houthavens': 1,\n",
       "         'Maas Hotel': 1,\n",
       "         'Marnix Hotel': 1,\n",
       "         'Mauro Mansion': 1,\n",
       "         'Max Brown Hotel Canal District': 1,\n",
       "         'Max Brown Hotel Museum Square': 1,\n",
       "         'Mercure Amsterdam Centre Canal District': 1,\n",
       "         'Mercure Amsterdam Sloterdijk Station': 2,\n",
       "         'Mercure Hotel Amsterdam City': 3,\n",
       "         'Mercure Hotel Amsterdam West': 3,\n",
       "         'Motel One Amsterdam-Waterlooplein': 1,\n",
       "         'Mozart Hotel': 1,\n",
       "         'NH Amsterdam Centre': 1,\n",
       "         'NH Amsterdam Noord': 2,\n",
       "         'NH Amsterdam Schiller': 1,\n",
       "         'NH Carlton Amsterdam': 2,\n",
       "         'NH City Centre Amsterdam': 2,\n",
       "         'NH Collection Amsterdam Barbizon Palace': 1,\n",
       "         'NH Collection Amsterdam Doelen': 3,\n",
       "         'NH Collection Amsterdam Grand Hotel Krasnapolsky': 1,\n",
       "         'New Century Hotel': 2,\n",
       "         'New West Inn Amsterdam': 1,\n",
       "         'Nieuw Slotania Hotel': 1,\n",
       "         'Nova Apartments Amsterdam': 2,\n",
       "         'Nova Hotel Amsterdam': 1,\n",
       "         'Novotel Amsterdam City': 2,\n",
       "         'Old Nickel': 1,\n",
       "         'Orange Tulip Hotel': 1,\n",
       "         'PC Hooft Hotel': 1,\n",
       "         'Park Hotel Amsterdam': 2,\n",
       "         'Park Plaza Amsterdam Airport': 1,\n",
       "         'Park Plaza Vondelpark, Amsterdam': 1,\n",
       "         'Parkzicht': 1,\n",
       "         'Pestana Amsterdam Riverside': 2,\n",
       "         'Pillows Anna van den Vondel': 3,\n",
       "         'Princess Hostel Amsterdam': 1,\n",
       "         'Prinsen Hotel': 1,\n",
       "         'Prinsengracht Hotel': 2,\n",
       "         'Pulitzer Amsterdam': 2,\n",
       "         'Quentin Amsterdam Hotel': 1,\n",
       "         'Quentin Arrive Hotel': 2,\n",
       "         'Quentin England Hotel': 2,\n",
       "         'Radisson Blu Hotel, Amsterdam': 3,\n",
       "         'Ramada Apollo Amsterdam Centre': 1,\n",
       "         'Rembrandt Square Hotel': 2,\n",
       "         'Rembrandtplein Hotel': 1,\n",
       "         'Renaissance Amsterdam Hotel': 1,\n",
       "         'Rho Hotel': 3,\n",
       "         'Royal Amsterdam Hotel-Restaurant': 3,\n",
       "         'Royal Plaza Hotel': 2,\n",
       "         'Royal Taste Hotel Amsterdam': 2,\n",
       "         'Royal Tulip Amsterdam': 1,\n",
       "         \"Sara's Boutique Hotel\": 1,\n",
       "         'Sarphati Hotel': 1,\n",
       "         'Season Star Hotel': 1,\n",
       "         'Seven Bridges Hotel': 1,\n",
       "         'Singel Hotel Amsterdam': 1,\n",
       "         'Sir Adam Hotel': 3,\n",
       "         'Sir Albert Hotel': 1,\n",
       "         'Sphinx Hotel': 2,\n",
       "         'Swissotel Amsterdam': 1,\n",
       "         'The Alfred Hotel': 2,\n",
       "         'The Amsterdam Canal Hotel': 1,\n",
       "         'The Arcade Hotel': 2,\n",
       "         'The Bank Hotel': 1,\n",
       "         'The Bridge Hotel': 2,\n",
       "         'The College Hotel': 1,\n",
       "         'The Hoxton, Amsterdam': 3,\n",
       "         'The Muse Amsterdam - Boutique Hotel': 1,\n",
       "         'The Student Hotel Amsterdam City': 1,\n",
       "         'The Times Hotel': 1,\n",
       "         'The Tire Station': 1,\n",
       "         'The Toren': 2,\n",
       "         'Thorbecke Hotel': 1,\n",
       "         'Tourist Inn': 1,\n",
       "         'Travel Hotel': 1,\n",
       "         'Trianon Hotel': 1,\n",
       "         'Tsjerk Hiddes Hotel Amsterdam': 1,\n",
       "         'Tulip Inn Amsterdam Riverside': 1,\n",
       "         'Urban Lodge Hotel': 1,\n",
       "         'Van Gelder Hotel': 1,\n",
       "         'Van der Valk Hotel Amsterdam-Amstel': 1,\n",
       "         'Volkshotel': 1,\n",
       "         'W Amsterdam': 2,\n",
       "         'Warehouse Apartments': 1,\n",
       "         'West Side Inn Hotel': 1,\n",
       "         'WestCord Art Hotel Amsterdam': 1,\n",
       "         'WestCord Fashion Hotel Amsterdam': 3,\n",
       "         'Wilhelmina Hotel Amsterdam': 1,\n",
       "         'Wittenberg': 1,\n",
       "         'Wynnobel': 1,\n",
       "         'XO Hotels Blue Tower': 2,\n",
       "         'XO Hotels City Centre Amsterdam': 1,\n",
       "         'XO Hotels Couture': 1,\n",
       "         'XO Hotels Park West': 3,\n",
       "         'citizenM Amsterdam': 1,\n",
       "         'easyHotel Amsterdam City Centre South': 1,\n",
       "         'misc eatdrinksleep': 4})"
      ]
     },
     "execution_count": 517,
     "metadata": {},
     "output_type": "execute_result"
    }
   ],
   "source": [
    "allhotel_names_trip = []\n",
    "for hotel in allhotels_tripadvisor:\n",
    "    allhotel_names_trip.append(hotel['name'])\n",
    "Counter(allhotel_names_trip)"
   ]
  },
  {
   "cell_type": "markdown",
   "metadata": {},
   "source": [
    "There are duplicates in the dataset, these have to be removed. How many duplicates are there?"
   ]
  },
  {
   "cell_type": "code",
   "execution_count": 518,
   "metadata": {
    "collapsed": false
   },
   "outputs": [
    {
     "name": "stdout",
     "output_type": "stream",
     "text": [
      "There are 280 unique hotels, which should be the same as all hotels calculated by Counter: True. \n",
      "There are 402 hotels in the dataset.\n"
     ]
    }
   ],
   "source": [
    "unique_hotels_trip = len(Counter(allhotel_names_trip))\n",
    "seen_trip = set()\n",
    "uniq_trip = []\n",
    "not_uniq_trip = []\n",
    "for hotel in allhotels_tripadvisor:\n",
    "    if hotel['name'] not in seen_trip:\n",
    "        uniq_trip.append(hotel['name'])\n",
    "        seen_trip.add(hotel['name'])\n",
    "    else:\n",
    "        not_uniq_trip.append(hotel['name'])\n",
    "print(\"There are {} unique hotels, which should be the same as all hotels calculated by Counter: {}. \\nThere are {} hotels in the dataset.\".format(len(uniq_trip),(unique_hotels_trip==len(uniq_trip)),len(allhotels_tripadvisor)))"
   ]
  },
  {
   "cell_type": "code",
   "execution_count": 519,
   "metadata": {
    "collapsed": false,
    "deletable": true,
    "editable": true
   },
   "outputs": [
    {
     "data": {
      "text/plain": [
       "217"
      ]
     },
     "execution_count": 519,
     "metadata": {},
     "output_type": "execute_result"
    }
   ],
   "source": [
    "shouldbechecked = []\n",
    "shouldnotbechecked = []\n",
    "correcthotels_tripadvisor = []\n",
    "checkinghotels_tripadvisor = []\n",
    "for hotel in allhotels_tripadvisor:\n",
    "    if hotel['name'] in not_uniq_trip:\n",
    "        shouldbechecked.append(hotel['name'])\n",
    "        checkinghotels_tripadvisor.append(hotel)\n",
    "    else:\n",
    "        shouldnotbechecked.append(hotel['name'])\n",
    "        correcthotels_tripadvisor.append(hotel)\n",
    "len(shouldbechecked)"
   ]
  },
  {
   "cell_type": "code",
   "execution_count": 520,
   "metadata": {
    "collapsed": false
   },
   "outputs": [
    {
     "data": {
      "text/plain": [
       "185"
      ]
     },
     "execution_count": 520,
     "metadata": {},
     "output_type": "execute_result"
    }
   ],
   "source": [
    "len(correcthotels_tripadvisor)"
   ]
  },
  {
   "cell_type": "markdown",
   "metadata": {},
   "source": [
    "For all duplicate hotels, check whether they have the same amount or reviews:"
   ]
  },
  {
   "cell_type": "code",
   "execution_count": 521,
   "metadata": {
    "collapsed": false
   },
   "outputs": [
    {
     "name": "stdout",
     "output_type": "stream",
     "text": [
      "INK Hotel Amsterdam - MGallery by Sofitel 700\n",
      "Sir Adam Hotel 238\n",
      "Luxury Suites Amsterdam 214\n",
      "Bastion Hotel Amsterdam Amstel 290\n",
      "Pillows Anna van den Vondel 88\n",
      "XO Hotels Park West 700\n",
      "European Apartments Reservations 19\n",
      "Euphemia Hotel 116\n",
      "Andaz Amsterdam Prinsengracht 700\n",
      "The Arcade Hotel 59\n",
      "Quentin England Hotel 330\n",
      "Royal Plaza Hotel 12\n",
      "Hotel Seven one Seven 402\n",
      "Prinsengracht Hotel 282\n",
      "Pulitzer Amsterdam 700\n",
      "Hampton by Hilton Amsterdam / Arena Boulevard 700\n",
      "Amsterdam Teleport Hotel 431\n",
      "Ambassade Hotel 700\n",
      "The Alfred Hotel 486\n",
      "Hotel Nes 230\n",
      "Euphemia Hotel 116\n",
      "WestCord Fashion Hotel Amsterdam 700\n",
      "Hotel Cordial 385\n",
      "Ibis Styles Amsterdam Amstel 211\n",
      "Hotel De Munck 107\n",
      "Camp Inn Hotel 47\n",
      "misc eatdrinksleep 592\n",
      "Hotel Cordial 385\n",
      "Dream Hotel Amsterdam 99\n",
      "Nova Apartments Amsterdam 117\n",
      "Hotel de Westertoren 68\n",
      "A-Train Hotel 631\n",
      "Apollofirst boutique hotel Amsterdam 188\n",
      "Hotel Agora 188\n",
      "France Hotel Amsterdam 124\n",
      "Hampton by Hilton Amsterdam Centre East 302\n",
      "DoubleTree by Hilton Hotel Amsterdam Centraal Station 700\n",
      "Kooyk Hotel 383\n",
      "Ibis Styles Amsterdam Amstel 211\n",
      "Hotel Nes 230\n",
      "Delta Hotel Amsterdam City Centre 483\n",
      "Hotel Hermitage Amsterdam 245\n",
      "The Hoxton, Amsterdam 700\n",
      "Hotel De Munck 107\n",
      "Hampton by Hilton Amsterdam Centre East 302\n",
      "Hotel The Neighbour's Magnolia 685\n",
      "European Apartments Reservations 19\n",
      "The Toren 700\n",
      "Holiday Inn Express Amsterdam - South 468\n",
      "Hotel Blyss 294\n",
      "NH Amsterdam Noord 350\n",
      "A-Train Hotel 631\n",
      "Lloyd Hotel & Cultural Embassy 700\n",
      "Hotel Fita 700\n",
      "Hotel des Arts Amsterdam 90\n",
      "Hotel Fita 700\n",
      "Pillows Anna van den Vondel 88\n",
      "Dream Hotel Amsterdam 99\n",
      "Kooyk Hotel 383\n",
      "Royal Amsterdam Hotel-Restaurant 131\n",
      "The Toren 700\n",
      "The Hoxton, Amsterdam 700\n",
      "WestCord Fashion Hotel Amsterdam 700\n",
      "Courtyard Amsterdam Arena Atlas 250\n",
      "Hotel Old Quarter 544\n",
      "Flower Market Hotel 152\n",
      "DoubleTree by Hilton Hotel Amsterdam - NDSM Wharf 514\n",
      "Hotel des Arts Amsterdam 90\n",
      "The Hoxton, Amsterdam 700\n",
      "NH City Centre Amsterdam 561\n",
      "Novotel Amsterdam City 700\n",
      "Quentin Arrive Hotel 471\n",
      "Amsterdam House Hotel 242\n",
      "Camp Inn Hotel 47\n",
      "Hotel de Westertoren 68\n",
      "Grand Hotel Amrath Amsterdam 700\n",
      "XO Hotels Blue Tower 700\n",
      "Rho Hotel 700\n",
      "misc eatdrinksleep 592\n",
      "Hotel Casa 700\n",
      "Hotel City Garden Amsterdam 455\n",
      "Rembrandt Square Hotel 168\n",
      "Hotel Savoy Amsterdam 188\n",
      "New Century Hotel 8\n",
      "Kooyk Hotel 383\n",
      "Hotel 83 Amsterdam 178\n",
      "Hotel 83 Amsterdam 178\n",
      "Hotel Cafe Corner House 289\n",
      "misc eatdrinksleep 592\n",
      "Novotel Amsterdam City 700\n",
      "XO Hotels Park West 700\n",
      "Hampshire Hotel - The Manor Amsterdam 700\n",
      "Hotel De Mallemoolen 87\n",
      "NH Amsterdam Noord 350\n",
      "Armada Hotel 175\n",
      "Nova Apartments Amsterdam 117\n",
      "Hotel Agora 188\n",
      "Quentin Arrive Hotel 471\n",
      "Sir Adam Hotel 238\n",
      "Hampshire Hotel - The Manor Amsterdam 700\n",
      "DoubleTree by Hilton Hotel Amsterdam Centraal Station 700\n",
      "Hotel Savoy Amsterdam 188\n",
      "Hotel Victorie 143\n",
      "Mercure Hotel Amsterdam West 564\n",
      "Radisson Blu Hotel, Amsterdam 700\n",
      "Mercure Hotel Amsterdam City 700\n",
      "Hotel Restaurant Larende 254\n",
      "Pulitzer Amsterdam 700\n",
      "Hotel Cafe Corner House 289\n",
      "Dutch Design Hotel Artemis 700\n",
      "Armada Hotel 175\n",
      "Crowne Plaza Amsterdam South 700\n",
      "Royal Taste Hotel Amsterdam 103\n",
      "Royal Amsterdam Hotel-Restaurant 131\n",
      "Hotel De Munck 107\n",
      "Courtyard Amsterdam Arena Atlas 250\n",
      "The Bridge Hotel 660\n",
      "Dutch Design Hotel Artemis 700\n",
      "Mercure Amsterdam Sloterdijk Station 547\n",
      "NH Carlton Amsterdam 700\n",
      "Flower Market Apartment 51\n",
      "Ibis Amsterdam Centre Stopera 700\n",
      "Rembrandt Square Hotel 168\n",
      "WestCord Fashion Hotel Amsterdam 700\n",
      "misc eatdrinksleep 592\n",
      "NH City Centre Amsterdam 560\n",
      "Hotel Old Quarter 544\n",
      "Hotel Ben 149\n",
      "NH Collection Amsterdam Doelen 317\n",
      "Hotel Kap 130\n",
      "Hotel Ben 149\n",
      "DoubleTree by Hilton Hotel Amsterdam - NDSM Wharf 514\n",
      "New Century Hotel 8\n",
      "Royal Amsterdam Hotel-Restaurant 131\n",
      "Radisson Blu Hotel, Amsterdam 700\n",
      "Sphinx Hotel 157\n",
      "Luxury Suites Amsterdam 214\n",
      "Park Hotel Amsterdam 700\n",
      "Rho Hotel 700\n",
      "Apollofirst boutique hotel Amsterdam 188\n",
      "Mercure Hotel Amsterdam City 700\n",
      "Lloyd Hotel & Cultural Embassy 700\n",
      "Hotel Seven one Seven 402\n",
      "Rho Hotel 700\n",
      "XO Hotels Blue Tower 700\n",
      "Apollofirst boutique hotel Amsterdam 188\n",
      "Quentin England Hotel 330\n",
      "Amsterdam House Hotel 242\n",
      "Hotel De Gerstekorrel 365\n",
      "Hampton by Hilton Amsterdam / Arena Boulevard 700\n",
      "Mercure Amsterdam Sloterdijk Station 547\n",
      "NH Collection Amsterdam Doelen 317\n",
      "The Arcade Hotel 59\n",
      "France Hotel Amsterdam 124\n",
      "Prinsengracht Hotel 282\n",
      "Euphemia Hotel 116\n",
      "Crowne Plaza Amsterdam South 700\n",
      "Hampshire Hotel - Amsterdam American 700\n",
      "Pestana Amsterdam Riverside 3\n",
      "Hampshire Hotel - Amsterdam American 700\n",
      "Delta Hotel Amsterdam City Centre 483\n",
      "Hotel De Mallemoolen 87\n",
      "NH Carlton Amsterdam 700\n",
      "XO Hotels Park West 700\n",
      "Ambassade Hotel 700\n",
      "Hotel De Gerstekorrel 365\n",
      "Pillows Anna van den Vondel 88\n",
      "The Alfred Hotel 486\n",
      "Hotel Amsterdam Inn 417\n",
      "Mercure Hotel Amsterdam West 564\n",
      "Bilderberg Hotel Jan Luyken 700\n",
      "Hotel V Fizeaustraat 308\n",
      "W Amsterdam 688\n",
      "Ambassade Hotel 700\n",
      "NH Collection Amsterdam Doelen 317\n",
      "Bilderberg Hotel Jan Luyken 700\n",
      "Hampton by Hilton Amsterdam / Arena Boulevard 700\n",
      "Hotel Hermitage Amsterdam 245\n",
      "Mercure Hotel Amsterdam City 700\n",
      "Hampshire Hotel - The Manor Amsterdam 700\n",
      "Park Hotel Amsterdam 700\n",
      "DoubleTree by Hilton Hotel Amsterdam - NDSM Wharf 514\n",
      "Sir Adam Hotel 238\n",
      "Hotel Casa 700\n",
      "Ibis Amsterdam Centre Stopera 700\n",
      "Bastion Hotel Amsterdam Amstel 290\n",
      "Pestana Amsterdam Riverside 3\n",
      "Hotel Restaurant Larende 254\n",
      "Hotel Kap 130\n",
      "Flower Market Hotel 152\n",
      "Hotel Amsterdam Inn 417\n",
      "Hotel Victorie 143\n",
      "INK Hotel Amsterdam - MGallery by Sofitel 700\n",
      "Hotel The Neighbour's Magnolia 685\n",
      "Mercure Hotel Amsterdam West 564\n",
      "Radisson Blu Hotel, Amsterdam 700\n",
      "Sphinx Hotel 157\n",
      "Aalborg Hotel Amsterdam 314\n",
      "Royal Plaza Hotel 12\n",
      "Hotel Nes 230\n",
      "Hotel Kap 130\n",
      "Hotel City Garden Amsterdam 455\n",
      "Andaz Amsterdam Prinsengracht 700\n",
      "Hotel Blyss 294\n",
      "Hotel De Gerstekorrel 365\n",
      "The Bridge Hotel 660\n",
      "Holiday Inn Express Amsterdam - South 468\n",
      "Royal Taste Hotel Amsterdam 103\n",
      "Hotel V Fizeaustraat 308\n",
      "Grand Hotel Amrath Amsterdam 700\n",
      "Luxury Suites Amsterdam 214\n",
      "Flower Market Apartment 51\n",
      "W Amsterdam 688\n",
      "Hotel Casa 700\n",
      "Hotel De Mallemoolen 87\n",
      "Amsterdam Teleport Hotel 431\n",
      "Aalborg Hotel Amsterdam 314\n"
     ]
    }
   ],
   "source": [
    "for hotel in checkinghotels_tripadvisor:\n",
    "    print(hotel['name'],len(hotel['reviews']))"
   ]
  },
  {
   "cell_type": "markdown",
   "metadata": {},
   "source": [
    "All duplicate hotels have the same amount of reviews, so the most recent scraped hotel is selected to make sure we have the most recent data of that hotel. Order to data by date, and select the first occurence of the hotel. "
   ]
  },
  {
   "cell_type": "code",
   "execution_count": 522,
   "metadata": {
    "collapsed": false
   },
   "outputs": [
    {
     "name": "stdout",
     "output_type": "stream",
     "text": [
      "From the 217 duplicate hotels, 95 hotels are unique.\n"
     ]
    }
   ],
   "source": [
    "checkinghotels_tripadvisor.sort(key=lambda item:item['META']['ADDED'], reverse=True)\n",
    "seen = []\n",
    "included_hotels = []\n",
    "deleted_hotels = []\n",
    "for hotel in checkinghotels_tripadvisor:\n",
    "    if hotel['name'] not in seen:\n",
    "        seen.append(hotel['name'])\n",
    "        included_hotels.append(hotel)\n",
    "    else:\n",
    "        deleted_hotels.append(hotel)\n",
    "print(\"From the {} duplicate hotels, {} hotels are unique.\".format(len(checkinghotels_tripadvisor), len(included_hotels)))"
   ]
  },
  {
   "cell_type": "code",
   "execution_count": 523,
   "metadata": {
    "collapsed": false
   },
   "outputs": [],
   "source": [
    "correcthotels_tripadvisor.extend(included_hotels)"
   ]
  },
  {
   "cell_type": "code",
   "execution_count": 524,
   "metadata": {
    "collapsed": false
   },
   "outputs": [
    {
     "name": "stdout",
     "output_type": "stream",
     "text": [
      "There is a total of 280 unique hotels that was scraped.\n"
     ]
    }
   ],
   "source": [
    "print('There is a total of {} unique hotels that was scraped.'.format(len(correcthotels_tripadvisor)))"
   ]
  },
  {
   "cell_type": "markdown",
   "metadata": {},
   "source": [
    "#### 3.1.2 Put all reviews from the hotels in one dataset."
   ]
  },
  {
   "cell_type": "code",
   "execution_count": 525,
   "metadata": {
    "collapsed": false
   },
   "outputs": [
    {
     "name": "stdout",
     "output_type": "stream",
     "text": [
      "193 377 House - Amsterdam\n",
      "166 Bastion Hotel Amsterdam Zuidwest\n",
      "1 Tsjerk Hiddes Hotel Amsterdam\n",
      "700 Park Plaza Amsterdam Airport\n",
      "0 MOXY by Marriott Amsterdam Houthavens\n",
      "554 Hampshire Hotel - Theatre District Amsterdam\n",
      "513 Hotel Manofa\n",
      "700 Bilderberg Garden Hotel\n",
      "202 Hyatt Regency Amsterdam\n",
      "1 Van der Valk Hotel Amsterdam-Amstel\n",
      "700 Hotel Estherea\n",
      "3 Hotel Nottinghill Amsterdam\n",
      "219 Jupiter Hotel\n",
      "74 Van Gelder Hotel\n",
      "138 Hotel Hestia\n",
      "1 Royal Tulip Amsterdam\n",
      "127 Hotel Titus\n",
      "50 Hotel Pax\n",
      "700 Apollo Hotel Amsterdam, a Tribute portfolio\n",
      "507 Hotel Museum Lane\n",
      "63 Hotel Patou\n",
      "178 Hotel Neutraal\n",
      "18 Hotel Impala\n",
      "700 Avenue Hotel\n",
      "111 Hotel Monopole\n",
      "700 NH Amsterdam Schiller\n",
      "663 Singel Hotel Amsterdam\n",
      "700 Hilton Amsterdam\n",
      "16 Hotel Lowell\n",
      "391 Hotel Brouwer\n",
      "291 Urban Lodge Hotel\n",
      "4 Anna Youth Hostel\n",
      "1 J&B\n",
      "700 Holiday Inn Express Amsterdam-Sloterdijk Station\n",
      "36 Hemp Hotel\n",
      "219 Hotel Continental\n",
      "700 Amstel Botel\n",
      "235 Hotel Hoksbergen\n",
      "527 Swissotel Amsterdam\n",
      "207 Princess Hostel Amsterdam\n",
      "1 Hotel Oostzaan-Amsterdam\n",
      "92 Hotel Croydon\n",
      "4 Home & Away Apartments\n",
      "11 Center Hotel Amsterdam\n",
      "507 easyHotel Amsterdam City Centre South\n",
      "335 Jaz Amsterdam\n",
      "66 The Bank Hotel\n",
      "84 Hotel Damrak\n",
      "76 Hotel Sander\n",
      "232 Cityden Museum District City Suites\n",
      "425 HOTEL2STAY\n",
      "35 Wilhelmina Hotel Amsterdam\n",
      "363 Trianon Hotel\n",
      "3 Hotel Twenty Seven\n",
      "2 Wittenberg\n",
      "448 Hotel Di-Ann\n",
      "700 Ibis Amsterdam Centre\n",
      "124 Thorbecke Hotel\n",
      "139 Hotel Museumzicht\n",
      "340 Hotel De Koopermoolen\n",
      "700 Die Port van Cleve\n",
      "55 Amsterdam Hotel Parklane\n",
      "700 Mauro Mansion\n",
      "8 Hoksbergen Apartments\n",
      "304 Old Nickel\n",
      "99 Tourist Inn\n",
      "700 The Student Hotel Amsterdam City\n",
      "144 Campanile Amsterdam\n",
      "155 Aston City Hotel\n",
      "5 BeByme\n",
      "328 Frisco Inn Bar Hotel\n",
      "700 Sir Albert Hotel\n",
      "246 Hotel The Globe\n",
      "293 Hotel Multatuli\n",
      "434 The College Hotel\n",
      "319 Hotel Plantage\n",
      "321 Hotel Washington\n",
      "185 Il Giardino Hotel\n",
      "170 Orange Tulip Hotel\n",
      "587 Hotel Roemer\n",
      "700 Max Brown Hotel Museum Square\n",
      "700 Ramada Apollo Amsterdam Centre\n",
      "700 Hotel V Nesplein\n",
      "108 Amsterdam Marriott Hotel\n",
      "145 Anco Hotel\n",
      "2 Casa Cara\n",
      "700 Renaissance Amsterdam Hotel\n",
      "293 BackStage Hotel Amsterdam\n",
      "3 Warehouse Apartments\n",
      "1 Wynnobel\n",
      "299 The Times Hotel\n",
      "700 Hotel Nadia\n",
      "109 Amsterdam Downtown Hotel\n",
      "700 XO Hotels City Centre Amsterdam\n",
      "601 Corendon Vitality Hotel Amsterdam\n",
      "437 Amsterdam Tropen Hotel\n",
      "8 De Jonker Urban Studio's & Suites\n",
      "19 Parkzicht\n",
      "26 Maas Hotel\n",
      "153 Hotel Torenzicht\n",
      "700 Apollo Museumhotel Amsterdam City Centre\n",
      "107 Dam Hotel\n",
      "700 Hotel The Exchange\n",
      "183 Hotel Beursstraat\n",
      "700 Banks Mansion\n",
      "700 XO Hotels Couture\n",
      "26 Canal House Amsterdam\n",
      "519 Quentin Amsterdam Hotel\n",
      "545 Iris Hotel\n",
      "700 WestCord Art Hotel Amsterdam\n",
      "47 Hotel Adolesce\n",
      "303 Hotel Alexander\n",
      "341 Mercure Amsterdam Centre Canal District\n",
      "109 The Muse Amsterdam - Boutique Hotel\n",
      "379 Tulip Inn Amsterdam Riverside\n",
      "552 NH Collection Amsterdam Barbizon Palace\n",
      "207 Hotel De Looier\n",
      "388 Hotel Arena\n",
      "700 Hotel JL No76\n",
      "700 citizenM Amsterdam\n",
      "201 Freeland Hotel\n",
      "241 Hotel The Golden Bear\n",
      "612 Hotel De Hallen\n",
      "4 Motel One Amsterdam-Waterlooplein\n",
      "252 Falcon Plaza Hotel\n",
      "374 Nieuw Slotania Hotel\n",
      "560 New West Inn Amsterdam\n",
      "410 Holiday Inn Express Amsterdam - Arena Towers\n",
      "700 Ibis Styles Amsterdam Central Station\n",
      "101 Hotel Alfa Plantage\n",
      "639 Marnix Hotel\n",
      "178 Holiday Inn Amsterdam - Arena Towers\n",
      "46 Botel Zebra\n",
      "155 Hotel Aspen\n",
      "700 Hotel Sint Nicolaas\n",
      "128 Sarphati Hotel\n",
      "700 Art'otel Amsterdam\n",
      "13 King's Villa Hotel\n",
      "700 Inntel Hotels Amsterdam Centre\n",
      "700 Max Brown Hotel Canal District\n",
      "700 Park Plaza Vondelpark, Amsterdam\n",
      "233 Hotel Y Boulevard\n",
      "39 Hotel Jimmy\n",
      "697 Seven Bridges Hotel\n",
      "269 Hotel de Paris Amsterdam\n",
      "261 Rembrandtplein Hotel\n",
      "258 Hampshire Hotel - Beethoven Amsterdam\n",
      "154 Hotel Flipper\n",
      "49 Hotel Groenendael\n",
      "370 ITC Hotel\n",
      "133 Hotel Max\n",
      "222 Belfort Hotel\n",
      "14 PC Hooft Hotel\n",
      "67 Hotel Tamara\n",
      "640 Amsterdam Wiechmann Hotel\n",
      "565 Element Amsterdam\n",
      "125 Bema Rentals\n",
      "396 Mozart Hotel\n",
      "1 Hotel Brian\n",
      "189 Leidseplein Hostel\n",
      "208 Bastion Hotel Amsterdam Noord\n",
      "265 Best Western Delphi Hotel\n",
      "370 Hotel Europa'92\n",
      "91 Amsterdam Hostel Centre\n",
      "700 Holiday Inn Amsterdam\n",
      "250 Prinsen Hotel\n",
      "295 The Amsterdam Canal Hotel\n",
      "84 Season Star Hotel\n",
      "40 Hotel Acca/Van Gogh\n",
      "700 Volkshotel\n",
      "700 West Side Inn Hotel\n",
      "523 Nova Hotel Amsterdam\n",
      "125 The Tire Station\n",
      "189 King Hotel\n",
      "186 Sara's Boutique Hotel\n",
      "700 NH Collection Amsterdam Grand Hotel Krasnapolsky\n",
      "700 NH Amsterdam Centre\n",
      "264 Botel\n",
      "121 Hotel Mevlana\n",
      "379 Travel Hotel\n",
      "140 Annemarie Hotel\n",
      "251 Hotel Amstelzicht\n",
      "320 Atlanta Hotel\n",
      "700 Hotel Notting Hill\n",
      "700 Hotel Okura Amsterdam\n",
      "700 Pulitzer Amsterdam\n",
      "592 misc eatdrinksleep\n",
      "700 XO Hotels Blue Tower\n",
      "700 Lloyd Hotel & Cultural Embassy\n",
      "700 Hampton by Hilton Amsterdam / Arena Boulevard\n",
      "700 Bilderberg Hotel Jan Luyken\n",
      "700 The Toren\n",
      "700 XO Hotels Park West\n",
      "700 Ambassade Hotel\n",
      "700 Novotel Amsterdam City\n",
      "564 Mercure Hotel Amsterdam West\n",
      "700 DoubleTree by Hilton Hotel Amsterdam Centraal Station\n",
      "700 Hotel Casa\n",
      "660 The Bridge Hotel\n",
      "685 Hotel The Neighbour's Magnolia\n",
      "700 Radisson Blu Hotel, Amsterdam\n",
      "700 Rho Hotel\n",
      "561 NH City Centre Amsterdam\n",
      "700 Crowne Plaza Amsterdam South\n",
      "19 European Apartments Reservations\n",
      "188 Hotel Agora\n",
      "483 Delta Hotel Amsterdam City Centre\n",
      "12 Royal Plaza Hotel\n",
      "8 New Century Hotel\n",
      "188 Hotel Savoy Amsterdam\n",
      "417 Hotel Amsterdam Inn\n",
      "51 Flower Market Apartment\n",
      "294 Hotel Blyss\n",
      "149 Hotel Ben\n",
      "330 Quentin England Hotel\n",
      "157 Sphinx Hotel\n",
      "152 Flower Market Hotel\n",
      "471 Quentin Arrive Hotel\n",
      "87 Hotel De Mallemoolen\n",
      "130 Hotel Kap\n",
      "385 Hotel Cordial\n",
      "245 Hotel Hermitage Amsterdam\n",
      "544 Hotel Old Quarter\n",
      "175 Armada Hotel\n",
      "116 Euphemia Hotel\n",
      "131 Royal Amsterdam Hotel-Restaurant\n",
      "107 Hotel De Munck\n",
      "90 Hotel des Arts Amsterdam\n",
      "230 Hotel Nes\n",
      "168 Rembrandt Square Hotel\n",
      "124 France Hotel Amsterdam\n",
      "383 Kooyk Hotel\n",
      "455 Hotel City Garden Amsterdam\n",
      "290 Bastion Hotel Amsterdam Amstel\n",
      "700 NH Carlton Amsterdam\n",
      "59 The Arcade Hotel\n",
      "3 Pestana Amsterdam Riverside\n",
      "47 Camp Inn Hotel\n",
      "178 Hotel 83 Amsterdam\n",
      "314 Aalborg Hotel Amsterdam\n",
      "68 Hotel de Westertoren\n",
      "143 Hotel Victorie\n",
      "99 Dream Hotel Amsterdam\n",
      "700 WestCord Fashion Hotel Amsterdam\n",
      "238 Sir Adam Hotel\n",
      "431 Amsterdam Teleport Hotel\n",
      "103 Royal Taste Hotel Amsterdam\n",
      "214 Luxury Suites Amsterdam\n",
      "688 W Amsterdam\n",
      "88 Pillows Anna van den Vondel\n",
      "402 Hotel Seven one Seven\n",
      "188 Apollofirst boutique hotel Amsterdam\n",
      "547 Mercure Amsterdam Sloterdijk Station\n",
      "350 NH Amsterdam Noord\n",
      "365 Hotel De Gerstekorrel\n",
      "289 Hotel Cafe Corner House\n",
      "302 Hampton by Hilton Amsterdam Centre East\n",
      "700 The Hoxton, Amsterdam\n",
      "308 Hotel V Fizeaustraat\n",
      "317 NH Collection Amsterdam Doelen\n",
      "250 Courtyard Amsterdam Arena Atlas\n",
      "211 Ibis Styles Amsterdam Amstel\n",
      "242 Amsterdam House Hotel\n",
      "514 DoubleTree by Hilton Hotel Amsterdam - NDSM Wharf\n",
      "254 Hotel Restaurant Larende\n",
      "700 Mercure Hotel Amsterdam City\n",
      "700 Andaz Amsterdam Prinsengracht\n",
      "700 Grand Hotel Amrath Amsterdam\n",
      "700 Hampshire Hotel - The Manor Amsterdam\n",
      "700 Hotel Fita\n",
      "282 Prinsengracht Hotel\n",
      "700 Dutch Design Hotel Artemis\n",
      "117 Nova Apartments Amsterdam\n",
      "468 Holiday Inn Express Amsterdam - South\n",
      "631 A-Train Hotel\n",
      "486 The Alfred Hotel\n",
      "700 Ibis Amsterdam Centre Stopera\n",
      "700 INK Hotel Amsterdam - MGallery by Sofitel\n",
      "700 Park Hotel Amsterdam\n",
      "700 Hampshire Hotel - Amsterdam American\n"
     ]
    }
   ],
   "source": [
    "for hotel in correcthotels_tripadvisor:\n",
    "    print(len(hotel['reviews']),hotel['name'])"
   ]
  },
  {
   "cell_type": "code",
   "execution_count": 526,
   "metadata": {
    "collapsed": false
   },
   "outputs": [
    {
     "name": "stdout",
     "output_type": "stream",
     "text": [
      "There should be 96993 reviews, which is: True\n"
     ]
    }
   ],
   "source": [
    "allreviews_tripadvisor = []\n",
    "amount_reviews_hotel = []\n",
    "for hotel in correcthotels_tripadvisor:\n",
    "    amount_reviews_hotel.append(len(hotel['reviews']))\n",
    "    reviews = hotel['reviews']\n",
    "    for review in reviews:\n",
    "        review['hotel'] = hotel['name'] # add hotel name to be able to retrieve all reviews for a hotel\n",
    "    allreviews_tripadvisor.extend(reviews)\n",
    "print(\"There should be\",sum(amount_reviews_hotel),\"reviews, which is:\",(len(allreviews_tripadvisor)==sum(amount_reviews_hotel)))"
   ]
  },
  {
   "cell_type": "code",
   "execution_count": 527,
   "metadata": {
    "collapsed": false
   },
   "outputs": [
    {
     "data": {
      "text/plain": [
       "dict_keys(['headline', 'username', 'contributions', 'responder', 'images', 'rating', 'review', 'date_of_stay', 'mobile', 'votes', 'response', 'location', 'hotel', 'travel_company', 'date', 'specific_ratings', 'partnership', 'response_date'])"
      ]
     },
     "execution_count": 527,
     "metadata": {},
     "output_type": "execute_result"
    }
   ],
   "source": [
    "allreviews_tripadvisor[0].keys()"
   ]
  },
  {
   "cell_type": "markdown",
   "metadata": {},
   "source": [
    "Delete empty reviews:"
   ]
  },
  {
   "cell_type": "code",
   "execution_count": 528,
   "metadata": {
    "collapsed": false
   },
   "outputs": [
    {
     "name": "stdout",
     "output_type": "stream",
     "text": [
      "There are 0 none type reviews, 0 empty strings, and 4229 unretrievable reviews\n"
     ]
    }
   ],
   "source": [
    "emptystring_trip = []\n",
    "none_trip = []\n",
    "unretrievable = []\n",
    "for review in allreviews_tripadvisor:\n",
    "    if review['review'] == \"\":\n",
    "        emptystring_trip.append(review)\n",
    "    if review['review'] is None:\n",
    "        none_trip.append(review)\n",
    "    if review['review'] == 'UNRETRIEVABLE REVIEW':\n",
    "        unretrievable.append(review)\n",
    "print('There are {} none type reviews, {} empty strings, and {} unretrievable reviews'.format(len(none_trip),len(emptystring_trip),len(unretrievable)))"
   ]
  },
  {
   "cell_type": "markdown",
   "metadata": {},
   "source": [
    "Is there bias in the unretrievable reviews?"
   ]
  },
  {
   "cell_type": "code",
   "execution_count": 529,
   "metadata": {
    "collapsed": false
   },
   "outputs": [
    {
     "name": "stdout",
     "output_type": "stream",
     "text": [
      "A-Train Hotel 53\n",
      "Aalborg Hotel Amsterdam 39\n",
      "Amstel Botel 14\n",
      "Amsterdam Downtown Hotel 3\n",
      "Amsterdam House Hotel 16\n",
      "Amsterdam Teleport Hotel 1\n",
      "Amsterdam Tropen Hotel 7\n",
      "Amsterdam Wiechmann Hotel 58\n",
      "Andaz Amsterdam Prinsengracht 121\n",
      "Annemarie Hotel 6\n",
      "Apollo Hotel Amsterdam, a Tribute portfolio 32\n",
      "Apollofirst boutique hotel Amsterdam 4\n",
      "Armada Hotel 23\n",
      "Art'otel Amsterdam 218\n",
      "Aston City Hotel 27\n",
      "Atlanta Hotel 9\n",
      "Avenue Hotel 12\n",
      "BackStage Hotel Amsterdam 9\n",
      "Bastion Hotel Amsterdam Amstel 11\n",
      "Bastion Hotel Amsterdam Noord 10\n",
      "Bastion Hotel Amsterdam Zuidwest 6\n",
      "Belfort Hotel 16\n",
      "Bema Rentals 26\n",
      "Best Western Delphi Hotel 8\n",
      "Bilderberg Garden Hotel 6\n",
      "Bilderberg Hotel Jan Luyken 7\n",
      "Campanile Amsterdam 2\n",
      "Cityden Museum District City Suites 14\n",
      "Corendon Vitality Hotel Amsterdam 1\n",
      "Courtyard Amsterdam Arena Atlas 2\n",
      "Crowne Plaza Amsterdam South 1\n",
      "Dam Hotel 9\n",
      "Delta Hotel Amsterdam City Centre 36\n",
      "Die Port van Cleve 9\n",
      "DoubleTree by Hilton Hotel Amsterdam - NDSM Wharf 1\n",
      "Dutch Design Hotel Artemis 5\n",
      "Euphemia Hotel 5\n",
      "European Apartments Reservations 6\n",
      "Falcon Plaza Hotel 31\n",
      "Flower Market Apartment 4\n",
      "Flower Market Hotel 14\n",
      "France Hotel Amsterdam 6\n",
      "Freeland Hotel 15\n",
      "Frisco Inn Bar Hotel 23\n",
      "Grand Hotel Amrath Amsterdam 1\n",
      "Hampshire Hotel - Amsterdam American 1\n",
      "Hampshire Hotel - Beethoven Amsterdam 5\n",
      "Hampshire Hotel - The Manor Amsterdam 4\n",
      "Hampshire Hotel - Theatre District Amsterdam 48\n",
      "Hilton Amsterdam 1\n",
      "Holiday Inn Amsterdam 5\n",
      "Holiday Inn Express Amsterdam - South 6\n",
      "Holiday Inn Express Amsterdam-Sloterdijk Station 1\n",
      "Hotel 83 Amsterdam 11\n",
      "Hotel Agora 22\n",
      "Hotel Alexander 6\n",
      "Hotel Alfa Plantage 11\n",
      "Hotel Amstelzicht 4\n",
      "Hotel Amsterdam Inn 21\n",
      "Hotel Aspen 18\n",
      "Hotel Ben 5\n",
      "Hotel Beursstraat 3\n",
      "Hotel Blyss 14\n",
      "Hotel Brouwer 11\n",
      "Hotel Cafe Corner House 30\n",
      "Hotel Casa 6\n",
      "Hotel City Garden Amsterdam 12\n",
      "Hotel Continental 12\n",
      "Hotel Cordial 35\n",
      "Hotel Croydon 5\n",
      "Hotel Damrak 7\n",
      "Hotel De Gerstekorrel 13\n",
      "Hotel De Hallen 3\n",
      "Hotel De Koopermoolen 52\n",
      "Hotel De Looier 6\n",
      "Hotel De Mallemoolen 10\n",
      "Hotel De Munck 3\n",
      "Hotel Di-Ann 72\n",
      "Hotel Europa'92 9\n",
      "Hotel Flipper 10\n",
      "Hotel Hermitage Amsterdam 9\n",
      "Hotel Hestia 24\n",
      "Hotel Hoksbergen 19\n",
      "Hotel Kap 9\n",
      "Hotel Manofa 72\n",
      "Hotel Max 15\n",
      "Hotel Mevlana 5\n",
      "Hotel Monopole 2\n",
      "Hotel Multatuli 7\n",
      "Hotel Museum Lane 3\n",
      "Hotel Museumzicht 7\n",
      "Hotel Nadia 11\n",
      "Hotel Nes 2\n",
      "Hotel Neutraal 39\n",
      "Hotel Notting Hill 6\n",
      "Hotel Okura Amsterdam 1\n",
      "Hotel Old Quarter 54\n",
      "Hotel Patou 12\n",
      "Hotel Plantage 3\n",
      "Hotel Restaurant Larende 6\n",
      "Hotel Roemer 29\n",
      "Hotel Sander 2\n",
      "Hotel Savoy Amsterdam 4\n",
      "Hotel Sint Nicolaas 14\n",
      "Hotel Tamara 6\n",
      "Hotel The Exchange 8\n",
      "Hotel The Globe 2\n",
      "Hotel The Golden Bear 12\n",
      "Hotel The Neighbour's Magnolia 37\n",
      "Hotel Titus 15\n",
      "Hotel Torenzicht 14\n",
      "Hotel V Nesplein 4\n",
      "Hotel Victorie 18\n",
      "Hotel Washington 45\n",
      "Hotel Y Boulevard 34\n",
      "Hotel de Paris Amsterdam 21\n",
      "Hotel des Arts Amsterdam 1\n",
      "Hyatt Regency Amsterdam 25\n",
      "INK Hotel Amsterdam - MGallery by Sofitel 12\n",
      "ITC Hotel 17\n",
      "Ibis Amsterdam Centre 21\n",
      "Ibis Amsterdam Centre Stopera 40\n",
      "Ibis Styles Amsterdam Amstel 25\n",
      "Ibis Styles Amsterdam Central Station 63\n",
      "Il Giardino Hotel 70\n",
      "Inntel Hotels Amsterdam Centre 5\n",
      "Iris Hotel 12\n",
      "J&B 1\n",
      "Jupiter Hotel 16\n",
      "King Hotel 19\n",
      "Kooyk Hotel 68\n",
      "Leidseplein Hostel 4\n",
      "Lloyd Hotel & Cultural Embassy 11\n",
      "Marnix Hotel 10\n",
      "Max Brown Hotel Canal District 15\n",
      "Max Brown Hotel Museum Square 8\n",
      "Mercure Amsterdam Centre Canal District 17\n",
      "Mercure Amsterdam Sloterdijk Station 14\n",
      "Mercure Hotel Amsterdam City 34\n",
      "Mercure Hotel Amsterdam West 66\n",
      "Mozart Hotel 14\n",
      "NH Amsterdam Noord 7\n",
      "NH Amsterdam Schiller 8\n",
      "NH Carlton Amsterdam 3\n",
      "NH Collection Amsterdam Grand Hotel Krasnapolsky 1\n",
      "New West Inn Amsterdam 55\n",
      "Nieuw Slotania Hotel 19\n",
      "Nova Apartments Amsterdam 19\n",
      "Nova Hotel Amsterdam 40\n",
      "Novotel Amsterdam City 29\n",
      "Old Nickel 42\n",
      "Orange Tulip Hotel 10\n",
      "Park Hotel Amsterdam 7\n",
      "Park Plaza Amsterdam Airport 277\n",
      "Park Plaza Vondelpark, Amsterdam 299\n",
      "Princess Hostel Amsterdam 18\n",
      "Prinsen Hotel 18\n",
      "Prinsengracht Hotel 10\n",
      "Pulitzer Amsterdam 1\n",
      "Quentin Amsterdam Hotel 39\n",
      "Quentin Arrive Hotel 34\n",
      "Quentin England Hotel 36\n",
      "Radisson Blu Hotel, Amsterdam 88\n",
      "Ramada Apollo Amsterdam Centre 6\n",
      "Rembrandtplein Hotel 11\n",
      "Rho Hotel 4\n",
      "Royal Amsterdam Hotel-Restaurant 1\n",
      "Royal Tulip Amsterdam 1\n",
      "Sara's Boutique Hotel 6\n",
      "Sarphati Hotel 3\n",
      "Seven Bridges Hotel 16\n",
      "Singel Hotel Amsterdam 49\n",
      "Sir Albert Hotel 3\n",
      "Sphinx Hotel 19\n",
      "The Alfred Hotel 18\n",
      "The Bridge Hotel 48\n",
      "The College Hotel 15\n",
      "The Times Hotel 16\n",
      "The Toren 2\n",
      "Thorbecke Hotel 10\n",
      "Tourist Inn 9\n",
      "Travel Hotel 69\n",
      "Trianon Hotel 34\n",
      "Tsjerk Hiddes Hotel Amsterdam 1\n",
      "Tulip Inn Amsterdam Riverside 11\n",
      "Warehouse Apartments 3\n",
      "West Side Inn Hotel 69\n",
      "WestCord Art Hotel Amsterdam 5\n",
      "WestCord Fashion Hotel Amsterdam 1\n",
      "XO Hotels Blue Tower 15\n",
      "XO Hotels City Centre Amsterdam 14\n",
      "citizenM Amsterdam 93\n",
      "easyHotel Amsterdam City Centre South 19\n",
      "misc eatdrinksleep 30\n"
     ]
    }
   ],
   "source": [
    "sorted_unretrievable = sorted(unretrievable, key=itemgetter('hotel'))\n",
    "for key, group in itertools.groupby(sorted_unretrievable, key=lambda x:x['hotel']):\n",
    "    print(key,len(list(group)))"
   ]
  },
  {
   "cell_type": "markdown",
   "metadata": {},
   "source": [
    "What is the percentage of unretrievable reviews per hotel?"
   ]
  },
  {
   "cell_type": "code",
   "execution_count": 530,
   "metadata": {
    "collapsed": false,
    "scrolled": true
   },
   "outputs": [
    {
     "name": "stdout",
     "output_type": "stream",
     "text": [
      "Tsjerk Hiddes Hotel Amsterdam has 1/1 unretrievable reviews and 0/1 retrievable reviews, which is 100%.\n",
      "Park Plaza Amsterdam Airport has 277/700 unretrievable reviews and 423/700 retrievable reviews, which is 40%.\n",
      "Hampshire Hotel - Theatre District Amsterdam has 48/554 unretrievable reviews and 506/554 retrievable reviews, which is 9%.\n",
      "Hotel Manofa has 72/513 unretrievable reviews and 441/513 retrievable reviews, which is 14%.\n",
      "Hyatt Regency Amsterdam has 25/202 unretrievable reviews and 177/202 retrievable reviews, which is 12%.\n",
      "Jupiter Hotel has 16/219 unretrievable reviews and 203/219 retrievable reviews, which is 7%.\n",
      "Hotel Hestia has 24/138 unretrievable reviews and 114/138 retrievable reviews, which is 17%.\n",
      "Royal Tulip Amsterdam has 1/1 unretrievable reviews and 0/1 retrievable reviews, which is 100%.\n",
      "Hotel Titus has 15/127 unretrievable reviews and 112/127 retrievable reviews, which is 12%.\n",
      "Hotel Patou has 12/63 unretrievable reviews and 51/63 retrievable reviews, which is 19%.\n",
      "Hotel Neutraal has 39/178 unretrievable reviews and 139/178 retrievable reviews, which is 22%.\n",
      "Singel Hotel Amsterdam has 49/663 unretrievable reviews and 614/663 retrievable reviews, which is 7%.\n",
      "J&B has 1/1 unretrievable reviews and 0/1 retrievable reviews, which is 100%.\n",
      "Hotel Hoksbergen has 19/235 unretrievable reviews and 216/235 retrievable reviews, which is 8%.\n",
      "Princess Hostel Amsterdam has 18/207 unretrievable reviews and 189/207 retrievable reviews, which is 9%.\n",
      "Hotel Damrak has 7/84 unretrievable reviews and 77/84 retrievable reviews, which is 8%.\n",
      "Cityden Museum District City Suites has 14/232 unretrievable reviews and 218/232 retrievable reviews, which is 6%.\n",
      "Trianon Hotel has 34/363 unretrievable reviews and 329/363 retrievable reviews, which is 9%.\n",
      "Hotel Di-Ann has 72/448 unretrievable reviews and 376/448 retrievable reviews, which is 16%.\n",
      "Thorbecke Hotel has 10/124 unretrievable reviews and 114/124 retrievable reviews, which is 8%.\n",
      "Hotel De Koopermoolen has 52/340 unretrievable reviews and 288/340 retrievable reviews, which is 15%.\n",
      "Old Nickel has 42/304 unretrievable reviews and 262/304 retrievable reviews, which is 14%.\n",
      "Tourist Inn has 9/99 unretrievable reviews and 90/99 retrievable reviews, which is 9%.\n",
      "Aston City Hotel has 27/155 unretrievable reviews and 128/155 retrievable reviews, which is 17%.\n",
      "Frisco Inn Bar Hotel has 23/328 unretrievable reviews and 305/328 retrievable reviews, which is 7%.\n",
      "Hotel Washington has 45/321 unretrievable reviews and 276/321 retrievable reviews, which is 14%.\n",
      "Il Giardino Hotel has 70/185 unretrievable reviews and 115/185 retrievable reviews, which is 38%.\n",
      "Orange Tulip Hotel has 10/170 unretrievable reviews and 160/170 retrievable reviews, which is 6%.\n",
      "Warehouse Apartments has 3/3 unretrievable reviews and 0/3 retrievable reviews, which is 100%.\n",
      "Hotel Torenzicht has 14/153 unretrievable reviews and 139/153 retrievable reviews, which is 9%.\n",
      "Dam Hotel has 9/107 unretrievable reviews and 98/107 retrievable reviews, which is 8%.\n",
      "Quentin Amsterdam Hotel has 39/519 unretrievable reviews and 480/519 retrievable reviews, which is 8%.\n",
      "citizenM Amsterdam has 93/700 unretrievable reviews and 607/700 retrievable reviews, which is 13%.\n",
      "Freeland Hotel has 15/201 unretrievable reviews and 186/201 retrievable reviews, which is 7%.\n",
      "Falcon Plaza Hotel has 31/252 unretrievable reviews and 221/252 retrievable reviews, which is 12%.\n",
      "New West Inn Amsterdam has 55/560 unretrievable reviews and 505/560 retrievable reviews, which is 10%.\n",
      "Ibis Styles Amsterdam Central Station has 63/700 unretrievable reviews and 637/700 retrievable reviews, which is 9%.\n",
      "Hotel Alfa Plantage has 11/101 unretrievable reviews and 90/101 retrievable reviews, which is 11%.\n",
      "Hotel Aspen has 18/155 unretrievable reviews and 137/155 retrievable reviews, which is 12%.\n",
      "Art'otel Amsterdam has 218/700 unretrievable reviews and 482/700 retrievable reviews, which is 31%.\n",
      "Park Plaza Vondelpark, Amsterdam has 299/700 unretrievable reviews and 401/700 retrievable reviews, which is 43%.\n",
      "Hotel Y Boulevard has 34/233 unretrievable reviews and 199/233 retrievable reviews, which is 15%.\n",
      "Hotel de Paris Amsterdam has 21/269 unretrievable reviews and 248/269 retrievable reviews, which is 8%.\n",
      "Hotel Flipper has 10/154 unretrievable reviews and 144/154 retrievable reviews, which is 6%.\n",
      "Hotel Max has 15/133 unretrievable reviews and 118/133 retrievable reviews, which is 11%.\n",
      "Belfort Hotel has 16/222 unretrievable reviews and 206/222 retrievable reviews, which is 7%.\n",
      "Hotel Tamara has 6/67 unretrievable reviews and 61/67 retrievable reviews, which is 9%.\n",
      "Amsterdam Wiechmann Hotel has 58/640 unretrievable reviews and 582/640 retrievable reviews, which is 9%.\n",
      "Bema Rentals has 26/125 unretrievable reviews and 99/125 retrievable reviews, which is 21%.\n",
      "Prinsen Hotel has 18/250 unretrievable reviews and 232/250 retrievable reviews, which is 7%.\n",
      "West Side Inn Hotel has 69/700 unretrievable reviews and 631/700 retrievable reviews, which is 10%.\n",
      "Nova Hotel Amsterdam has 40/523 unretrievable reviews and 483/523 retrievable reviews, which is 8%.\n",
      "King Hotel has 19/189 unretrievable reviews and 170/189 retrievable reviews, which is 10%.\n",
      "Travel Hotel has 69/379 unretrievable reviews and 310/379 retrievable reviews, which is 18%.\n",
      "Mercure Hotel Amsterdam West has 66/564 unretrievable reviews and 498/564 retrievable reviews, which is 12%.\n",
      "The Bridge Hotel has 48/660 unretrievable reviews and 612/660 retrievable reviews, which is 7%.\n",
      "Radisson Blu Hotel, Amsterdam has 88/700 unretrievable reviews and 612/700 retrievable reviews, which is 13%.\n",
      "European Apartments Reservations has 6/19 unretrievable reviews and 13/19 retrievable reviews, which is 32%.\n",
      "Hotel Agora has 22/188 unretrievable reviews and 166/188 retrievable reviews, which is 12%.\n",
      "Delta Hotel Amsterdam City Centre has 36/483 unretrievable reviews and 447/483 retrievable reviews, which is 7%.\n",
      "Flower Market Apartment has 4/51 unretrievable reviews and 47/51 retrievable reviews, which is 8%.\n",
      "Quentin England Hotel has 36/330 unretrievable reviews and 294/330 retrievable reviews, which is 11%.\n",
      "Sphinx Hotel has 19/157 unretrievable reviews and 138/157 retrievable reviews, which is 12%.\n",
      "Flower Market Hotel has 14/152 unretrievable reviews and 138/152 retrievable reviews, which is 9%.\n",
      "Quentin Arrive Hotel has 34/471 unretrievable reviews and 437/471 retrievable reviews, which is 7%.\n",
      "Hotel De Mallemoolen has 10/87 unretrievable reviews and 77/87 retrievable reviews, which is 11%.\n",
      "Hotel Kap has 9/130 unretrievable reviews and 121/130 retrievable reviews, which is 7%.\n",
      "Hotel Cordial has 35/385 unretrievable reviews and 350/385 retrievable reviews, which is 9%.\n",
      "Hotel Old Quarter has 54/544 unretrievable reviews and 490/544 retrievable reviews, which is 10%.\n",
      "Armada Hotel has 23/175 unretrievable reviews and 152/175 retrievable reviews, which is 13%.\n",
      "Kooyk Hotel has 68/383 unretrievable reviews and 315/383 retrievable reviews, which is 18%.\n",
      "Hotel 83 Amsterdam has 11/178 unretrievable reviews and 167/178 retrievable reviews, which is 6%.\n",
      "Aalborg Hotel Amsterdam has 39/314 unretrievable reviews and 275/314 retrievable reviews, which is 12%.\n",
      "Hotel Victorie has 18/143 unretrievable reviews and 125/143 retrievable reviews, which is 13%.\n",
      "Hotel Cafe Corner House has 30/289 unretrievable reviews and 259/289 retrievable reviews, which is 10%.\n",
      "Ibis Styles Amsterdam Amstel has 25/211 unretrievable reviews and 186/211 retrievable reviews, which is 12%.\n",
      "Amsterdam House Hotel has 16/242 unretrievable reviews and 226/242 retrievable reviews, which is 7%.\n",
      "Andaz Amsterdam Prinsengracht has 121/700 unretrievable reviews and 579/700 retrievable reviews, which is 17%.\n",
      "Nova Apartments Amsterdam has 19/117 unretrievable reviews and 98/117 retrievable reviews, which is 16%.\n",
      "A-Train Hotel has 53/631 unretrievable reviews and 578/631 retrievable reviews, which is 8%.\n",
      "Ibis Amsterdam Centre Stopera has 40/700 unretrievable reviews and 660/700 retrievable reviews, which is 6%.\n"
     ]
    }
   ],
   "source": [
    "high_unretrievables = []\n",
    "for hotel in correcthotels_tripadvisor:\n",
    "    amount_all = []\n",
    "    amount_unretrievable = []\n",
    "    amount_normal = []\n",
    "    for review in hotel['reviews']:\n",
    "        amount_all.append(review)\n",
    "        if review['review'] == 'UNRETRIEVABLE REVIEW':\n",
    "            amount_unretrievable.append(review)\n",
    "        else:\n",
    "            amount_normal.append(review)\n",
    "    if len(amount_unretrievable) != 0:\n",
    "        percentage_unretrievable = round(len(amount_unretrievable)/len(amount_all)*100)\n",
    "        if percentage_unretrievable > 5:\n",
    "            thishotel = {}\n",
    "            thishotel['name'] = hotel['name']\n",
    "            thishotel['percentage'] = percentage_unretrievable\n",
    "            high_unretrievables.append(thishotel)\n",
    "            print(\"{} has {}/{} unretrievable reviews and {}/{} retrievable reviews, which is {}%.\".format(hotel['name'],len(amount_unretrievable),len(amount_all),len(amount_normal),len(amount_all),percentage_unretrievable))"
   ]
  },
  {
   "cell_type": "code",
   "execution_count": 465,
   "metadata": {
    "collapsed": false,
    "scrolled": true
   },
   "outputs": [
    {
     "data": {
      "text/plain": [
       "[{'name': 'Tsjerk Hiddes Hotel Amsterdam', 'percentage': 100},\n",
       " {'name': 'Park Plaza Amsterdam Airport', 'percentage': 40},\n",
       " {'name': 'Hampshire Hotel - Theatre District Amsterdam', 'percentage': 9},\n",
       " {'name': 'Hotel Manofa', 'percentage': 14},\n",
       " {'name': 'Hyatt Regency Amsterdam', 'percentage': 12},\n",
       " {'name': 'Jupiter Hotel', 'percentage': 7},\n",
       " {'name': 'Hotel Hestia', 'percentage': 17},\n",
       " {'name': 'Royal Tulip Amsterdam', 'percentage': 100},\n",
       " {'name': 'Hotel Titus', 'percentage': 12},\n",
       " {'name': 'Hotel Patou', 'percentage': 19},\n",
       " {'name': 'Hotel Neutraal', 'percentage': 22},\n",
       " {'name': 'Singel Hotel Amsterdam', 'percentage': 7},\n",
       " {'name': 'J&B', 'percentage': 100},\n",
       " {'name': 'Hotel Hoksbergen', 'percentage': 8},\n",
       " {'name': 'Princess Hostel Amsterdam', 'percentage': 9},\n",
       " {'name': 'Hotel Damrak', 'percentage': 8},\n",
       " {'name': 'Cityden Museum District City Suites', 'percentage': 6},\n",
       " {'name': 'Trianon Hotel', 'percentage': 9},\n",
       " {'name': 'Hotel Di-Ann', 'percentage': 16},\n",
       " {'name': 'Thorbecke Hotel', 'percentage': 8},\n",
       " {'name': 'Hotel De Koopermoolen', 'percentage': 15},\n",
       " {'name': 'Old Nickel', 'percentage': 14},\n",
       " {'name': 'Tourist Inn', 'percentage': 9},\n",
       " {'name': 'Aston City Hotel', 'percentage': 17},\n",
       " {'name': 'Frisco Inn Bar Hotel', 'percentage': 7},\n",
       " {'name': 'Hotel Washington', 'percentage': 14},\n",
       " {'name': 'Il Giardino Hotel', 'percentage': 38},\n",
       " {'name': 'Orange Tulip Hotel', 'percentage': 6},\n",
       " {'name': 'Warehouse Apartments', 'percentage': 100},\n",
       " {'name': 'Hotel Torenzicht', 'percentage': 9},\n",
       " {'name': 'Dam Hotel', 'percentage': 8},\n",
       " {'name': 'Quentin Amsterdam Hotel', 'percentage': 8},\n",
       " {'name': 'citizenM Amsterdam', 'percentage': 13},\n",
       " {'name': 'Freeland Hotel', 'percentage': 7},\n",
       " {'name': 'Falcon Plaza Hotel', 'percentage': 12},\n",
       " {'name': 'New West Inn Amsterdam', 'percentage': 10},\n",
       " {'name': 'Ibis Styles Amsterdam Central Station', 'percentage': 9},\n",
       " {'name': 'Hotel Alfa Plantage', 'percentage': 11},\n",
       " {'name': 'Hotel Aspen', 'percentage': 12},\n",
       " {'name': \"Art'otel Amsterdam\", 'percentage': 31},\n",
       " {'name': 'Park Plaza Vondelpark, Amsterdam', 'percentage': 43},\n",
       " {'name': 'Hotel Y Boulevard', 'percentage': 15},\n",
       " {'name': 'Hotel de Paris Amsterdam', 'percentage': 8},\n",
       " {'name': 'Hotel Flipper', 'percentage': 6},\n",
       " {'name': 'Hotel Max', 'percentage': 11},\n",
       " {'name': 'Belfort Hotel', 'percentage': 7},\n",
       " {'name': 'Hotel Tamara', 'percentage': 9},\n",
       " {'name': 'Amsterdam Wiechmann Hotel', 'percentage': 9},\n",
       " {'name': 'Bema Rentals', 'percentage': 21},\n",
       " {'name': 'Prinsen Hotel', 'percentage': 7},\n",
       " {'name': 'West Side Inn Hotel', 'percentage': 10},\n",
       " {'name': 'Nova Hotel Amsterdam', 'percentage': 8},\n",
       " {'name': 'King Hotel', 'percentage': 10},\n",
       " {'name': 'Travel Hotel', 'percentage': 18},\n",
       " {'name': 'Mercure Hotel Amsterdam West', 'percentage': 12},\n",
       " {'name': 'The Bridge Hotel', 'percentage': 7},\n",
       " {'name': 'Radisson Blu Hotel, Amsterdam', 'percentage': 13},\n",
       " {'name': 'European Apartments Reservations', 'percentage': 32},\n",
       " {'name': 'Hotel Agora', 'percentage': 12},\n",
       " {'name': 'Delta Hotel Amsterdam City Centre', 'percentage': 7},\n",
       " {'name': 'Flower Market Apartment', 'percentage': 8},\n",
       " {'name': 'Quentin England Hotel', 'percentage': 11},\n",
       " {'name': 'Sphinx Hotel', 'percentage': 12},\n",
       " {'name': 'Flower Market Hotel', 'percentage': 9},\n",
       " {'name': 'Quentin Arrive Hotel', 'percentage': 7},\n",
       " {'name': 'Hotel De Mallemoolen', 'percentage': 11},\n",
       " {'name': 'Hotel Kap', 'percentage': 7},\n",
       " {'name': 'Hotel Cordial', 'percentage': 9},\n",
       " {'name': 'Hotel Old Quarter', 'percentage': 10},\n",
       " {'name': 'Armada Hotel', 'percentage': 13},\n",
       " {'name': 'Kooyk Hotel', 'percentage': 18},\n",
       " {'name': 'Hotel 83 Amsterdam', 'percentage': 6},\n",
       " {'name': 'Aalborg Hotel Amsterdam', 'percentage': 12},\n",
       " {'name': 'Hotel Victorie', 'percentage': 13},\n",
       " {'name': 'Hotel Cafe Corner House', 'percentage': 10},\n",
       " {'name': 'Ibis Styles Amsterdam Amstel', 'percentage': 12},\n",
       " {'name': 'Amsterdam House Hotel', 'percentage': 7},\n",
       " {'name': 'Andaz Amsterdam Prinsengracht', 'percentage': 17},\n",
       " {'name': 'Nova Apartments Amsterdam', 'percentage': 16},\n",
       " {'name': 'A-Train Hotel', 'percentage': 8},\n",
       " {'name': 'Ibis Amsterdam Centre Stopera', 'percentage': 6}]"
      ]
     },
     "execution_count": 465,
     "metadata": {},
     "output_type": "execute_result"
    }
   ],
   "source": [
    "len(high_unretrievables)"
   ]
  },
  {
   "cell_type": "markdown",
   "metadata": {},
   "source": [
    "# WHAT TO DO WITH THIS?"
   ]
  },
  {
   "cell_type": "markdown",
   "metadata": {},
   "source": [
    "Delete the unretrievable reviews:"
   ]
  },
  {
   "cell_type": "code",
   "execution_count": 531,
   "metadata": {
    "collapsed": false
   },
   "outputs": [
    {
     "name": "stdout",
     "output_type": "stream",
     "text": [
      "There were 96993 reviews\n",
      "There are now 92764 reviews.\n"
     ]
    }
   ],
   "source": [
    "print(\"There were {} reviews\".format(len(allreviews_tripadvisor)))\n",
    "allreviews_tripadvisor[:] = [review for review in allreviews_tripadvisor if review.get('review') != 'UNRETRIEVABLE REVIEW']\n",
    "print(\"There are now {} reviews.\".format(len(allreviews_tripadvisor)))"
   ]
  },
  {
   "cell_type": "code",
   "execution_count": 467,
   "metadata": {
    "collapsed": true
   },
   "outputs": [
    {
     "name": "stdout",
     "output_type": "stream",
     "text": [
      "From the 92764 Expedia reviews, 92751 reviews are unique.\n"
     ]
    }
   ],
   "source": [
    "seen_review = []\n",
    "included_reviews_trip = []\n",
    "deleted_reviews_trip = []\n",
    "for review in allreviews_tripadvisor:\n",
    "    if review['review'] not in seen_review:\n",
    "        seen_review.append(review['review'])\n",
    "        included_reviews_trip.append(review)\n",
    "    else:\n",
    "        deleted_reviews_trip.append(review)\n",
    "print(\"From the {} Expedia reviews, {} reviews are unique.\".format(len(allreviews_tripadvisor), len(included_reviews_trip)))"
   ]
  },
  {
   "cell_type": "code",
   "execution_count": 533,
   "metadata": {
    "collapsed": false
   },
   "outputs": [
    {
     "data": {
      "text/plain": [
       "92751"
      ]
     },
     "execution_count": 533,
     "metadata": {},
     "output_type": "execute_result"
    }
   ],
   "source": [
    "len(included_reviews_trip)"
   ]
  },
  {
   "cell_type": "code",
   "execution_count": 534,
   "metadata": {
    "collapsed": false
   },
   "outputs": [
    {
     "name": "stdout",
     "output_type": "stream",
     "text": [
      "377 House - Amsterdam 193\n",
      "A-Train Hotel 578\n",
      "Aalborg Hotel Amsterdam 275\n",
      "Ambassade Hotel 700\n",
      "Amstel Botel 686\n",
      "Amsterdam Downtown Hotel 105\n",
      "Amsterdam Hostel Centre 91\n",
      "Amsterdam Hotel Parklane 55\n",
      "Amsterdam House Hotel 226\n",
      "Amsterdam Marriott Hotel 108\n",
      "Amsterdam Teleport Hotel 430\n",
      "Amsterdam Tropen Hotel 430\n",
      "Amsterdam Wiechmann Hotel 582\n",
      "Anco Hotel 145\n",
      "Andaz Amsterdam Prinsengracht 579\n",
      "Anna Youth Hostel 4\n",
      "Annemarie Hotel 134\n",
      "Apollo Hotel Amsterdam, a Tribute portfolio 668\n",
      "Apollo Museumhotel Amsterdam City Centre 700\n",
      "Apollofirst boutique hotel Amsterdam 184\n",
      "Armada Hotel 152\n",
      "Art'otel Amsterdam 482\n",
      "Aston City Hotel 128\n",
      "Atlanta Hotel 311\n",
      "Avenue Hotel 688\n",
      "BackStage Hotel Amsterdam 284\n",
      "Banks Mansion 700\n",
      "Bastion Hotel Amsterdam Amstel 279\n",
      "Bastion Hotel Amsterdam Noord 198\n",
      "Bastion Hotel Amsterdam Zuidwest 160\n",
      "BeByme 5\n",
      "Belfort Hotel 206\n",
      "Bema Rentals 99\n",
      "Best Western Delphi Hotel 257\n",
      "Bilderberg Garden Hotel 694\n",
      "Bilderberg Hotel Jan Luyken 693\n",
      "Botel 263\n",
      "Botel Zebra 46\n",
      "Camp Inn Hotel 47\n",
      "Campanile Amsterdam 142\n",
      "Canal House Amsterdam 26\n",
      "Casa Cara 2\n",
      "Center Hotel Amsterdam 11\n",
      "Cityden Museum District City Suites 218\n",
      "Corendon Vitality Hotel Amsterdam 600\n",
      "Courtyard Amsterdam Arena Atlas 248\n",
      "Crowne Plaza Amsterdam South 699\n",
      "Dam Hotel 98\n",
      "De Jonker Urban Studio's & Suites 8\n",
      "Delta Hotel Amsterdam City Centre 447\n",
      "Die Port van Cleve 691\n",
      "DoubleTree by Hilton Hotel Amsterdam - NDSM Wharf 513\n",
      "DoubleTree by Hilton Hotel Amsterdam Centraal Station 700\n",
      "Dream Hotel Amsterdam 99\n",
      "Dutch Design Hotel Artemis 695\n",
      "Element Amsterdam 565\n",
      "Euphemia Hotel 111\n",
      "European Apartments Reservations 13\n",
      "Falcon Plaza Hotel 220\n",
      "Flower Market Apartment 47\n",
      "Flower Market Hotel 138\n",
      "France Hotel Amsterdam 118\n",
      "Freeland Hotel 186\n",
      "Frisco Inn Bar Hotel 305\n",
      "Grand Hotel Amrath Amsterdam 699\n",
      "HOTEL2STAY 425\n",
      "Hampshire Hotel - Amsterdam American 699\n",
      "Hampshire Hotel - Beethoven Amsterdam 253\n",
      "Hampshire Hotel - The Manor Amsterdam 696\n",
      "Hampshire Hotel - Theatre District Amsterdam 506\n",
      "Hampton by Hilton Amsterdam / Arena Boulevard 700\n",
      "Hampton by Hilton Amsterdam Centre East 302\n",
      "Hemp Hotel 36\n",
      "Hilton Amsterdam 699\n",
      "Hoksbergen Apartments 8\n",
      "Holiday Inn Amsterdam 694\n",
      "Holiday Inn Amsterdam - Arena Towers 178\n",
      "Holiday Inn Express Amsterdam - Arena Towers 410\n",
      "Holiday Inn Express Amsterdam - South 462\n",
      "Holiday Inn Express Amsterdam-Sloterdijk Station 699\n",
      "Home & Away Apartments 4\n",
      "Hotel 83 Amsterdam 167\n",
      "Hotel Acca/Van Gogh 40\n",
      "Hotel Adolesce 47\n",
      "Hotel Agora 166\n",
      "Hotel Alexander 297\n",
      "Hotel Alfa Plantage 90\n",
      "Hotel Amstelzicht 247\n",
      "Hotel Amsterdam Inn 395\n",
      "Hotel Arena 388\n",
      "Hotel Aspen 137\n",
      "Hotel Ben 144\n",
      "Hotel Beursstraat 180\n",
      "Hotel Blyss 280\n",
      "Hotel Brian 1\n",
      "Hotel Brouwer 380\n",
      "Hotel Cafe Corner House 259\n",
      "Hotel Casa 694\n",
      "Hotel City Garden Amsterdam 443\n",
      "Hotel Continental 207\n",
      "Hotel Cordial 350\n",
      "Hotel Croydon 87\n",
      "Hotel Damrak 77\n",
      "Hotel De Gerstekorrel 352\n",
      "Hotel De Hallen 609\n",
      "Hotel De Koopermoolen 288\n",
      "Hotel De Looier 201\n",
      "Hotel De Mallemoolen 77\n",
      "Hotel De Munck 104\n",
      "Hotel Di-Ann 376\n",
      "Hotel Estherea 700\n",
      "Hotel Europa'92 361\n",
      "Hotel Fita 700\n",
      "Hotel Flipper 144\n",
      "Hotel Groenendael 49\n",
      "Hotel Hermitage Amsterdam 236\n",
      "Hotel Hestia 114\n",
      "Hotel Hoksbergen 216\n",
      "Hotel Impala 18\n",
      "Hotel JL No76 700\n",
      "Hotel Jimmy 39\n",
      "Hotel Kap 121\n",
      "Hotel Lowell 16\n",
      "Hotel Manofa 441\n",
      "Hotel Max 118\n",
      "Hotel Mevlana 116\n",
      "Hotel Monopole 109\n",
      "Hotel Multatuli 286\n",
      "Hotel Museum Lane 504\n",
      "Hotel Museumzicht 132\n",
      "Hotel Nadia 689\n",
      "Hotel Nes 228\n",
      "Hotel Neutraal 139\n",
      "Hotel Notting Hill 694\n",
      "Hotel Nottinghill Amsterdam 3\n",
      "Hotel Okura Amsterdam 699\n",
      "Hotel Old Quarter 490\n",
      "Hotel Oostzaan-Amsterdam 1\n",
      "Hotel Patou 51\n",
      "Hotel Pax 50\n",
      "Hotel Plantage 316\n",
      "Hotel Restaurant Larende 248\n",
      "Hotel Roemer 558\n",
      "Hotel Sander 74\n",
      "Hotel Savoy Amsterdam 184\n",
      "Hotel Seven one Seven 402\n",
      "Hotel Sint Nicolaas 686\n",
      "Hotel Tamara 61\n",
      "Hotel The Exchange 692\n",
      "Hotel The Globe 244\n",
      "Hotel The Golden Bear 228\n",
      "Hotel The Neighbour's Magnolia 648\n",
      "Hotel Titus 112\n",
      "Hotel Torenzicht 139\n",
      "Hotel Twenty Seven 3\n",
      "Hotel V Fizeaustraat 308\n",
      "Hotel V Nesplein 696\n",
      "Hotel Victorie 125\n",
      "Hotel Washington 276\n",
      "Hotel Y Boulevard 199\n",
      "Hotel de Paris Amsterdam 248\n",
      "Hotel de Westertoren 68\n",
      "Hotel des Arts Amsterdam 89\n",
      "Hyatt Regency Amsterdam 177\n",
      "INK Hotel Amsterdam - MGallery by Sofitel 688\n",
      "ITC Hotel 353\n",
      "Ibis Amsterdam Centre 679\n",
      "Ibis Amsterdam Centre Stopera 660\n",
      "Ibis Styles Amsterdam Amstel 186\n",
      "Ibis Styles Amsterdam Central Station 637\n",
      "Il Giardino Hotel 115\n",
      "Inntel Hotels Amsterdam Centre 695\n",
      "Iris Hotel 532\n",
      "Jaz Amsterdam 335\n",
      "Jupiter Hotel 203\n",
      "King Hotel 170\n",
      "King's Villa Hotel 13\n",
      "Kooyk Hotel 315\n",
      "Leidseplein Hostel 185\n",
      "Lloyd Hotel & Cultural Embassy 689\n",
      "Luxury Suites Amsterdam 214\n",
      "Maas Hotel 26\n",
      "Marnix Hotel 629\n",
      "Mauro Mansion 700\n",
      "Max Brown Hotel Canal District 684\n",
      "Max Brown Hotel Museum Square 692\n",
      "Mercure Amsterdam Centre Canal District 323\n",
      "Mercure Amsterdam Sloterdijk Station 533\n",
      "Mercure Hotel Amsterdam City 664\n",
      "Mercure Hotel Amsterdam West 498\n",
      "Motel One Amsterdam-Waterlooplein 4\n",
      "Mozart Hotel 382\n",
      "NH Amsterdam Centre 700\n",
      "NH Amsterdam Noord 343\n",
      "NH Amsterdam Schiller 692\n",
      "NH Carlton Amsterdam 697\n",
      "NH City Centre Amsterdam 561\n",
      "NH Collection Amsterdam Barbizon Palace 552\n",
      "NH Collection Amsterdam Doelen 317\n",
      "NH Collection Amsterdam Grand Hotel Krasnapolsky 699\n",
      "New Century Hotel 8\n",
      "New West Inn Amsterdam 505\n",
      "Nieuw Slotania Hotel 355\n",
      "Nova Apartments Amsterdam 98\n",
      "Nova Hotel Amsterdam 483\n",
      "Novotel Amsterdam City 671\n",
      "Old Nickel 262\n",
      "Orange Tulip Hotel 160\n",
      "PC Hooft Hotel 14\n",
      "Park Hotel Amsterdam 693\n",
      "Park Plaza Amsterdam Airport 423\n",
      "Park Plaza Vondelpark, Amsterdam 401\n",
      "Parkzicht 19\n",
      "Pestana Amsterdam Riverside 3\n",
      "Pillows Anna van den Vondel 88\n",
      "Princess Hostel Amsterdam 189\n",
      "Prinsen Hotel 232\n",
      "Prinsengracht Hotel 272\n",
      "Pulitzer Amsterdam 699\n",
      "Quentin Amsterdam Hotel 480\n",
      "Quentin Arrive Hotel 437\n",
      "Quentin England Hotel 294\n",
      "Radisson Blu Hotel, Amsterdam 612\n",
      "Ramada Apollo Amsterdam Centre 694\n",
      "Rembrandt Square Hotel 168\n",
      "Rembrandtplein Hotel 250\n",
      "Renaissance Amsterdam Hotel 700\n",
      "Rho Hotel 696\n",
      "Royal Amsterdam Hotel-Restaurant 130\n",
      "Royal Plaza Hotel 12\n",
      "Royal Taste Hotel Amsterdam 103\n",
      "Sara's Boutique Hotel 180\n",
      "Sarphati Hotel 125\n",
      "Season Star Hotel 84\n",
      "Seven Bridges Hotel 681\n",
      "Singel Hotel Amsterdam 614\n",
      "Sir Adam Hotel 237\n",
      "Sir Albert Hotel 697\n",
      "Sphinx Hotel 138\n",
      "Swissotel Amsterdam 527\n",
      "The Alfred Hotel 468\n",
      "The Amsterdam Canal Hotel 295\n",
      "The Arcade Hotel 59\n",
      "The Bank Hotel 66\n",
      "The Bridge Hotel 612\n",
      "The College Hotel 419\n",
      "The Hoxton, Amsterdam 700\n",
      "The Muse Amsterdam - Boutique Hotel 109\n",
      "The Student Hotel Amsterdam City 700\n",
      "The Times Hotel 283\n",
      "The Tire Station 125\n",
      "The Toren 698\n",
      "Thorbecke Hotel 114\n",
      "Tourist Inn 90\n",
      "Travel Hotel 310\n",
      "Trianon Hotel 329\n",
      "Tulip Inn Amsterdam Riverside 368\n",
      "Urban Lodge Hotel 291\n",
      "Van Gelder Hotel 74\n",
      "Van der Valk Hotel Amsterdam-Amstel 1\n",
      "Volkshotel 700\n",
      "W Amsterdam 688\n",
      "West Side Inn Hotel 631\n",
      "WestCord Art Hotel Amsterdam 695\n",
      "WestCord Fashion Hotel Amsterdam 699\n",
      "Wilhelmina Hotel Amsterdam 35\n",
      "Wittenberg 2\n",
      "Wynnobel 1\n",
      "XO Hotels Blue Tower 684\n",
      "XO Hotels City Centre Amsterdam 686\n",
      "XO Hotels Couture 700\n",
      "XO Hotels Park West 700\n",
      "citizenM Amsterdam 607\n",
      "easyHotel Amsterdam City Centre South 488\n",
      "misc eatdrinksleep 562\n",
      "There are reviews for 275 hotels.\n"
     ]
    }
   ],
   "source": [
    "amount_hotels_trip = []\n",
    "sorted_included_reviews = sorted(included_reviews_trip, key=itemgetter('hotel'))\n",
    "for key, group in itertools.groupby(sorted_included_reviews, key=lambda x:x['hotel']):\n",
    "    print(key,len(list(group)))\n",
    "    amount_hotels_trip.append(key)\n",
    "print('There are reviews for {} hotels.'.format(len(amount_hotels_trip)))"
   ]
  },
  {
   "cell_type": "markdown",
   "metadata": {},
   "source": [
    "delete hotels with 0 reviews:"
   ]
  },
  {
   "cell_type": "code",
   "execution_count": 550,
   "metadata": {
    "collapsed": false
   },
   "outputs": [
    {
     "data": {
      "text/plain": [
       "dict_keys(['ranking', 'overall_rating', 'reviews', 'link', 'name', 'doctype', 'META', 'reviewquantity'])"
      ]
     },
     "execution_count": 550,
     "metadata": {},
     "output_type": "execute_result"
    }
   ],
   "source": [
    "correcthotels_tripadvisor[0].keys()"
   ]
  },
  {
   "cell_type": "code",
   "execution_count": 553,
   "metadata": {
    "collapsed": false
   },
   "outputs": [],
   "source": [
    "correcthotels_trip = []\n",
    "for hotel in correcthotels_tripadvisor:\n",
    "    if len(hotel['reviews']) != 0:\n",
    "        correcthotels_trip.append(hotel)"
   ]
  },
  {
   "cell_type": "code",
   "execution_count": 556,
   "metadata": {
    "collapsed": false
   },
   "outputs": [
    {
     "data": {
      "text/plain": [
       "279"
      ]
     },
     "execution_count": 556,
     "metadata": {},
     "output_type": "execute_result"
    }
   ],
   "source": [
    "len(correcthotels_trip)"
   ]
  },
  {
   "cell_type": "markdown",
   "metadata": {},
   "source": [
    "### 3.2 Expedia"
   ]
  },
  {
   "cell_type": "markdown",
   "metadata": {},
   "source": [
    "#### 3.2.1 Check for duplicates."
   ]
  },
  {
   "cell_type": "code",
   "execution_count": 491,
   "metadata": {
    "collapsed": false
   },
   "outputs": [
    {
     "name": "stdout",
     "output_type": "stream",
     "text": [
      "There were 1604018 reviews scraped from 267 hotels\n"
     ]
    }
   ],
   "source": [
    "reviews_exp = []\n",
    "for hotel in allhotels_expedia:\n",
    "    reviews_exp.append(len(hotel['reviews']))\n",
    "print(\"There were {} reviews scraped from {} hotels.\".format(sum(reviews_exp),len(allhotels_expedia)))"
   ]
  },
  {
   "cell_type": "code",
   "execution_count": 242,
   "metadata": {
    "collapsed": false
   },
   "outputs": [
    {
     "data": {
      "text/plain": [
       "Counter({'A Train Hotel': 3,\n",
       "         'Acostar Hotel': 2,\n",
       "         'Allure Garden Apartments': 1,\n",
       "         'Alp Hotel Amsterdam': 1,\n",
       "         'Amadi Panorama Hotel': 1,\n",
       "         'Amadi Park Hotel': 1,\n",
       "         'Amsterdam Canal Residence': 1,\n",
       "         'Amsterdam Downtown Hotel': 2,\n",
       "         'Amsterdam Forest Hotel': 1,\n",
       "         'Amsterdam Harbour Apartments': 1,\n",
       "         'Amsterdam Teleport Hotel': 1,\n",
       "         'Apple Inn Hotel': 1,\n",
       "         'Armada Hotel': 2,\n",
       "         'Arty House': 1,\n",
       "         'Atlantis Hotel Amsterdam': 1,\n",
       "         'BackStage Hotel Amsterdam': 1,\n",
       "         'Banks Mansion': 1,\n",
       "         'Bastion Hotel Zaandam': 2,\n",
       "         'Best Western Delphi Hotel': 1,\n",
       "         'Best Western Plus Amedia Amsterdam Airport': 6,\n",
       "         'Best Western Plus Amsterdam Airport Hotel': 1,\n",
       "         'Best Western Zaan Inn': 2,\n",
       "         'Bilderberg Garden Hotel': 1,\n",
       "         'Blue Mansion Hotel': 1,\n",
       "         'Boutique Hotel La Belle Vue': 2,\n",
       "         'Boutique Hotel Maxime': 1,\n",
       "         'Breitner House': 1,\n",
       "         'Canal Boutique Rooms & Apartments': 1,\n",
       "         'Canal House': 1,\n",
       "         'Canal House Suites at Sofitel Legend The Grand Amsterdam': 1,\n",
       "         'City Hotel Amsterdam': 1,\n",
       "         'City Park Apartments': 2,\n",
       "         'Cityden Museum Square Hotel Apartments': 1,\n",
       "         'Cityden Up Amsterdam South Hotel Apartments': 1,\n",
       "         'Conscious Hotel Museum Square': 3,\n",
       "         'Conscious Hotel Westerpark': 1,\n",
       "         'Conservatorium Hotel': 1,\n",
       "         'Courtyard by Marriott Amsterdam Airport': 1,\n",
       "         'Crane Hotel Faralda Amsterdam': 1,\n",
       "         'Damrak Inn': 1,\n",
       "         'De Baronie B&B': 1,\n",
       "         'De Bedstee Boutique Capsules': 1,\n",
       "         \"De Jonker Urban Studio's & Suites\": 1,\n",
       "         \"De L'Europe Amsterdam\": 1,\n",
       "         'De Rustende Jager': 2,\n",
       "         'Delta Hotel City Center': 1,\n",
       "         'Die Port van Cleve Hotel': 1,\n",
       "         'DoubleTree by Hilton Hotel Amsterdam - NDSM Wharf': 1,\n",
       "         'Fletcher Hotel Amsterdam': 1,\n",
       "         'France Hotel': 2,\n",
       "         'Golden Mansion Apartment Amsterdam': 2,\n",
       "         'Golden Tulip Amsterdam Riverside': 2,\n",
       "         'Hampshire Hotel Beethoven': 1,\n",
       "         'Hampton by Hilton Amsterdam / Arena Boulevard': 1,\n",
       "         'Hampton by Hilton Amsterdam Centre East': 1,\n",
       "         'Harbour Loft Studios': 1,\n",
       "         'Het Hart van Weesp': 1,\n",
       "         'Het Rechthuis aan den Amstel': 2,\n",
       "         'Hilton Amsterdam': 3,\n",
       "         'Hilton Amsterdam Airport Schiphol': 4,\n",
       "         'Hof van Marken': 1,\n",
       "         'Holiday Inn Amsterdam': 1,\n",
       "         'Holiday Inn Express Amsterdam - Arena Towers': 1,\n",
       "         'Holiday Inn Express Amsterdam - City Hall': 1,\n",
       "         'Holiday Inn Express Amsterdam - Sloterdijk Station': 1,\n",
       "         'Hotel Aalders': 1,\n",
       "         'Hotel Agora': 1,\n",
       "         'Hotel Ajax': 1,\n",
       "         'Hotel Alexander': 1,\n",
       "         'Hotel Allure': 2,\n",
       "         'Hotel Amsterdam Inn City Centre': 1,\n",
       "         'Hotel Asterisk': 1,\n",
       "         'Hotel Atlanta': 1,\n",
       "         'Hotel Campanile Amsterdam Zuidoost': 1,\n",
       "         'Hotel Central Park': 2,\n",
       "         'Hotel Citadel': 1,\n",
       "         'Hotel City Garden Amsterdam': 1,\n",
       "         'Hotel Clemens Amsterdam': 1,\n",
       "         'Hotel Corner House': 2,\n",
       "         'Hotel De Gerstekorrel': 1,\n",
       "         'Hotel De Hallen': 1,\n",
       "         'Hotel De Koopermoolen': 1,\n",
       "         'Hotel De Witte Hoeck': 2,\n",
       "         'Hotel Di Ann': 1,\n",
       "         'Hotel Doria': 1,\n",
       "         'Hotel Dwars': 1,\n",
       "         'Hotel Fita': 1,\n",
       "         'Hotel Herbergh Amsterdam Airport': 2,\n",
       "         'Hotel Hermitage Amsterdam': 3,\n",
       "         'Hotel Heye 130': 1,\n",
       "         'Hotel Iris': 1,\n",
       "         'Hotel Joy': 1,\n",
       "         'Hotel Jupiter': 1,\n",
       "         'Hotel Jupiter Centre': 2,\n",
       "         'Hotel Kap': 2,\n",
       "         'Hotel Levell': 1,\n",
       "         'Hotel Manofa': 1,\n",
       "         'Hotel Mijdrecht Marickenland': 1,\n",
       "         'Hotel Mosaic': 1,\n",
       "         'Hotel Mozart': 1,\n",
       "         'Hotel Museum Lane Amsterdam': 1,\n",
       "         'Hotel Nicolaas Witsen': 1,\n",
       "         'Hotel Old Dutch': 1,\n",
       "         'Hotel Old Nickel': 1,\n",
       "         'Hotel Park View Amsterdam': 1,\n",
       "         'Hotel Parklane': 1,\n",
       "         'Hotel Plantage': 2,\n",
       "         'Hotel Prins Hendrik': 1,\n",
       "         'Hotel Rembrandt': 2,\n",
       "         'Hotel Restaurant Larende': 1,\n",
       "         'Hotel Restaurant de Beurs': 1,\n",
       "         'Hotel Rudolph': 1,\n",
       "         \"Hotel Sebastian's\": 2,\n",
       "         'Hotel Sint Nicolaas': 1,\n",
       "         'Hotel The Bird': 1,\n",
       "         'Hotel The Old Post Office': 1,\n",
       "         'Hotel Titus': 1,\n",
       "         'Hotel TwentySeven': 2,\n",
       "         'Hotel V Frederiksplein': 2,\n",
       "         'Hotel Victorie': 2,\n",
       "         'Hotel Vondel': 1,\n",
       "         'Hotel Zwanenburg': 1,\n",
       "         \"Hotel d'Amsterdam\": 2,\n",
       "         'Hotel de Keizerskroon': 2,\n",
       "         'Hotel de Munck': 1,\n",
       "         'Hotel de Paris Amsterdam': 2,\n",
       "         'Hotel en Restaurant de Fortuna': 1,\n",
       "         'Hyatt Place Amsterdam Airport': 2,\n",
       "         'INK Hotel Amsterdam MGallery by Sofitel': 1,\n",
       "         \"L'Auberge Damhotel Edam\": 1,\n",
       "         'Linden Hotel': 2,\n",
       "         'Lloyd Hotel': 1,\n",
       "         'Luxury Suites Amsterdam': 4,\n",
       "         'MOXY Amsterdam Houthavens': 1,\n",
       "         'Max Brown Hotel Museum Square': 1,\n",
       "         'Mercure Hotel Amsterdam Centre Canal District': 1,\n",
       "         'NDSM Serviced Apartments': 1,\n",
       "         'NH Amsterdam Caransa': 1,\n",
       "         'NH Amsterdam Centre': 1,\n",
       "         'NH Amsterdam Schiller': 1,\n",
       "         'NH Amsterdam Schiphol Airport': 1,\n",
       "         'NH Amsterdam Zuid': 1,\n",
       "         'NH Carlton Amsterdam': 1,\n",
       "         'New century hotel': 1,\n",
       "         'Nine(T)Teen B&B': 2,\n",
       "         'Novotel Amsterdam Schiphol Airport': 1,\n",
       "         'Owl Hotel': 1,\n",
       "         'Ozo Hotel': 1,\n",
       "         'Park Inn by Radisson Amsterdam Airport Schiphol': 1,\n",
       "         'Pestana Amsterdam Riverside – LVX Preferred Hotels & Resorts': 1,\n",
       "         'Pillows Anna van den Vondel Amsterdam': 1,\n",
       "         'Plantage Hortus Apartments': 1,\n",
       "         'Qbic Hotel Amsterdam WTC': 1,\n",
       "         'Quentin Amsterdam Hotel': 1,\n",
       "         'Quentin Arrive': 1,\n",
       "         'Quentin Hotel Golden Bear': 1,\n",
       "         'Quentin Zoo hotel': 1,\n",
       "         'Rembrandt Square Hotel': 1,\n",
       "         'Rembrandt Square Hotel Amsterdam': 1,\n",
       "         'Rembrandtplein Hotel': 1,\n",
       "         'Renaissance Amsterdam Hotel': 1,\n",
       "         'Residence Inn by Marriott Amsterdam Houthavens': 1,\n",
       "         'Rho Hotel': 2,\n",
       "         'Royal Amsterdam Hotel': 1,\n",
       "         'Savoy Hotel Amsterdam': 1,\n",
       "         'Sheraton Amsterdam Airport Hotel & Conference Center': 1,\n",
       "         'Short Stay Group Eastern Docklands Apartments': 2,\n",
       "         'Sir Adam Hotel': 2,\n",
       "         'Sir Albert Hotel Amsterdam': 2,\n",
       "         'Sphinx Hotel': 1,\n",
       "         'Suitehotel Posthoorn': 1,\n",
       "         'The Amsterdam Canal Hotel': 1,\n",
       "         'The Bank Hotel': 1,\n",
       "         'The Bridge Hotel': 1,\n",
       "         'The Cabin @ MPS Noorderzon': 1,\n",
       "         'The College Hotel': 1,\n",
       "         'The Concert Hotel': 2,\n",
       "         'The Dylan Amsterdam': 2,\n",
       "         'The Hoxton, Amsterdam': 1,\n",
       "         'The Lancaster Hotel Amsterdam': 1,\n",
       "         'The Student Hotel Amsterdam West': 3,\n",
       "         'The Toren': 2,\n",
       "         'The Yays - Crane Apartment': 1,\n",
       "         'Townhouse Hotel': 1,\n",
       "         'Trianon Hotel': 2,\n",
       "         'Van der Valk Hotel Schiphol A4-Amsterdam Airport': 1,\n",
       "         'Van der Valk Volendam': 1,\n",
       "         'Vondelpark Apartment Suites': 1,\n",
       "         'W Amsterdam': 1,\n",
       "         'Waldorf Astoria Amsterdam': 3,\n",
       "         'Westcord Art Hotel Amsterdam 4': 1,\n",
       "         'XO Hotel Inner': 1,\n",
       "         'Yays Bickersgracht Concierged Boutique Apartments': 1,\n",
       "         'Yays Oostenburgergracht Concierged Boutique Apartments': 1,\n",
       "         'Zoku Amsterdam': 1,\n",
       "         'art hotel Spaander': 1,\n",
       "         \"art'otel amsterdam\": 1,\n",
       "         'easyHotel Amsterdam Arena Boulevard': 1,\n",
       "         'easyHotel Amsterdam Zaandam': 2,\n",
       "         'i hotel': 2,\n",
       "         'ibis Amsterdam Centre': 1,\n",
       "         'ibis budget Amsterdam Airport': 1,\n",
       "         'ibis budget Amsterdam City South': 1})"
      ]
     },
     "execution_count": 242,
     "metadata": {},
     "output_type": "execute_result"
    }
   ],
   "source": [
    "allhotel_names_exp = []\n",
    "for hotel in allhotels_expedia:\n",
    "    allhotel_names_exp.append(hotel['name'])\n",
    "Counter(allhotel_names_exp)"
   ]
  },
  {
   "cell_type": "markdown",
   "metadata": {},
   "source": [
    "There are duplicates in the dataset, these have to be removed. How many duplicates are there?"
   ]
  },
  {
   "cell_type": "code",
   "execution_count": 252,
   "metadata": {
    "collapsed": false
   },
   "outputs": [
    {
     "name": "stdout",
     "output_type": "stream",
     "text": [
      "There are 203 unique hotels, which should be the same as all hotels calculated by Counter: True. \n",
      "There are 267 hotels in the dataset.\n"
     ]
    }
   ],
   "source": [
    "unique_hotels_exp = len(Counter(allhotel_names_exp))\n",
    "seen_exp = set()\n",
    "uniq_exp = []\n",
    "not_uniq_exp = []\n",
    "for hotel in allhotels_expedia:\n",
    "    if hotel['name'] not in seen_exp:\n",
    "        uniq_exp.append(hotel['name'])\n",
    "        seen_exp.add(hotel['name'])\n",
    "    else:\n",
    "        not_uniq_exp.append(hotel['name'])\n",
    "print(\"There are {} unique hotels, which should be the same as all hotels calculated by Counter: {}. \\nThere are {} hotels in the dataset.\".format(len(uniq_exp),(unique_hotels_exp==len(uniq_exp)),len(allhotels_expedia)))"
   ]
  },
  {
   "cell_type": "code",
   "execution_count": 258,
   "metadata": {
    "collapsed": false
   },
   "outputs": [
    {
     "name": "stdout",
     "output_type": "stream",
     "text": [
      "There are 114 hotels that are duplicates and should be checked.\n",
      "There are 153 hotels that do not have duplicates and are added to the list of correct hotels.\n"
     ]
    }
   ],
   "source": [
    "shouldbechecked_exp = []\n",
    "shouldnotbechecked_exp = []\n",
    "correcthotels_expedia = []\n",
    "checkinghotels_expedia = []\n",
    "for hotel in allhotels_expedia:\n",
    "    if hotel['name'] in not_uniq_exp:\n",
    "        shouldbechecked_exp.append(hotel['name'])\n",
    "        checkinghotels_expedia.append(hotel)\n",
    "    else:\n",
    "        shouldnotbechecked_exp.append(hotel['name'])\n",
    "        correcthotels_expedia.append(hotel)\n",
    "print('There are {} hotels that are duplicates and should be checked.\\nThere are {} hotels that do not have duplicates and are added to the list of correct hotels.'.format(len(shouldbechecked_exp),len(correcthotels_expedia)))"
   ]
  },
  {
   "cell_type": "markdown",
   "metadata": {},
   "source": [
    "For all duplicate hotels, check whether they have the same amount of reviews:"
   ]
  },
  {
   "cell_type": "code",
   "execution_count": 265,
   "metadata": {
    "collapsed": false
   },
   "outputs": [
    {
     "data": {
      "text/plain": [
       "dict_keys(['stars', 'rating', 'name', 'url', 'review_quantity', 'doctype', 'subratings', 'reviews', 'id', 'META'])"
      ]
     },
     "execution_count": 265,
     "metadata": {},
     "output_type": "execute_result"
    }
   ],
   "source": [
    "checkinghotels_expedia[50].keys()"
   ]
  },
  {
   "cell_type": "code",
   "execution_count": 268,
   "metadata": {
    "collapsed": false,
    "scrolled": true
   },
   "outputs": [
    {
     "name": "stdout",
     "output_type": "stream",
     "text": [
      "A Train Hotel 7059 2018-05-18 11:59:10.348924\n",
      "A Train Hotel 7059 2018-05-18 18:33:27.788155\n",
      "A Train Hotel 7059 2018-05-18 15:10:58.173501\n",
      "Acostar Hotel 2978 2018-05-18 11:04:49.536528\n",
      "Acostar Hotel 2978 2018-05-18 03:21:53.338373\n",
      "Amsterdam Downtown Hotel 559 2018-05-16 14:18:50.036431\n",
      "Amsterdam Downtown Hotel 559 2018-05-18 12:50:04.662882\n",
      "Armada Hotel 778 2018-05-18 11:06:27.281744\n",
      "Armada Hotel 778 2018-05-18 03:57:31.379753\n",
      "Bastion Hotel Zaandam 1358 2018-05-16 11:02:01.107107\n",
      "Bastion Hotel Zaandam 1399 2018-05-18 11:32:10.252994\n",
      "Best Western Plus Amedia Amsterdam Airport 1096 2018-05-16 10:35:41.346488\n",
      "Best Western Plus Amedia Amsterdam Airport 1096 2018-05-18 11:10:07.579635\n",
      "Best Western Plus Amedia Amsterdam Airport 1096 2018-05-18 14:39:11.038111\n",
      "Best Western Plus Amedia Amsterdam Airport 1096 2018-05-16 10:47:37.070256\n",
      "Best Western Plus Amedia Amsterdam Airport 1096 2018-05-18 11:29:07.632480\n",
      "Best Western Plus Amedia Amsterdam Airport 1096 2018-05-18 04:33:08.413388\n",
      "Best Western Zaan Inn 11438 2018-05-18 12:48:29.713814\n",
      "Best Western Zaan Inn 11438 2018-05-18 04:21:02.686736\n",
      "Boutique Hotel La Belle Vue 1462 2018-05-18 11:21:38.083492\n",
      "Boutique Hotel La Belle Vue 1490 2018-05-18 18:27:35.307064\n",
      "City Park Apartments 34 2018-05-16 11:05:51.028212\n",
      "City Park Apartments 34 2018-05-18 14:42:38.279806\n",
      "Conscious Hotel Museum Square 12632 2018-05-18 11:01:51.151650\n",
      "Conscious Hotel Museum Square 12726 2018-05-18 18:01:13.324871\n",
      "Conscious Hotel Museum Square 12801 2018-05-18 15:33:59.111220\n",
      "De Rustende Jager 462 2018-05-18 17:15:56.111853\n",
      "De Rustende Jager 462 2018-05-18 16:09:55.092257\n",
      "France Hotel 2641 2018-05-18 12:56:36.963836\n",
      "France Hotel 2641 2018-05-18 17:39:58.412669\n",
      "Golden Mansion Apartment Amsterdam 48 2018-05-18 11:52:07.188118\n",
      "Golden Mansion Apartment Amsterdam 48 2018-05-18 14:49:08.950760\n",
      "Golden Tulip Amsterdam Riverside 0 2018-05-16 13:04:21.469237\n",
      "Golden Tulip Amsterdam Riverside 1002 2018-05-18 11:42:09.951434\n",
      "Het Rechthuis aan den Amstel 156 2018-05-18 12:53:04.068403\n",
      "Het Rechthuis aan den Amstel 156 2018-05-18 16:07:28.997289\n",
      "Hilton Amsterdam 29087 2018-05-18 16:50:34.537795\n",
      "Hilton Amsterdam 29087 2018-05-18 13:52:09.569303\n",
      "Hilton Amsterdam 29087 2018-05-18 03:10:53.512832\n",
      "Hilton Amsterdam Airport Schiphol 8800 2018-05-16 14:44:25.836698\n",
      "Hilton Amsterdam Airport Schiphol 8694 2018-05-18 19:08:11.361552\n",
      "Hilton Amsterdam Airport Schiphol 8694 2018-05-18 16:55:36.270482\n",
      "Hilton Amsterdam Airport Schiphol 8694 2018-05-18 02:56:51.165460\n",
      "Hotel Allure 819 2018-05-18 11:08:15.829745\n",
      "Hotel Allure 819 2018-05-18 14:52:48.674730\n",
      "Hotel Central Park 9536 2018-05-16 10:53:12.265443\n",
      "Hotel Central Park 9536 2018-05-18 01:47:46.009123\n",
      "Hotel Corner House 91 2018-05-18 13:24:05.942894\n",
      "Hotel Corner House 91 2018-05-18 17:53:50.728219\n",
      "Hotel De Witte Hoeck 38 2018-05-16 10:25:38.037578\n",
      "Hotel De Witte Hoeck 38 2018-05-18 15:36:41.236853\n",
      "Hotel Herbergh Amsterdam Airport 4620 2018-05-16 10:56:46.662731\n",
      "Hotel Herbergh Amsterdam Airport 4651 2018-05-18 04:25:30.818059\n",
      "Hotel Hermitage Amsterdam 902 2018-05-18 13:23:18.006255\n",
      "Hotel Hermitage Amsterdam 902 2018-05-18 17:20:29.072850\n",
      "Hotel Hermitage Amsterdam 870 2018-05-18 15:40:33.090305\n",
      "Hotel Jupiter Centre 58 2018-05-18 13:26:49.614555\n",
      "Hotel Jupiter Centre 58 2018-05-18 16:25:44.731031\n",
      "Hotel Kap 634 2018-05-18 17:37:11.555707\n",
      "Hotel Kap 634 2018-05-18 16:40:46.071406\n",
      "Hotel Plantage 4905 2018-05-18 13:10:13.244349\n",
      "Hotel Plantage 4905 2018-05-18 15:51:47.270860\n",
      "Hotel Rembrandt 82 2018-05-16 11:05:17.614670\n",
      "Hotel Rembrandt 82 2018-05-18 16:08:10.720661\n",
      "Hotel Sebastian's 13277 2018-05-18 11:27:12.919434\n",
      "Hotel Sebastian's 13277 2018-05-18 17:35:40.567518\n",
      "Hotel TwentySeven 20 2018-05-16 12:58:08.532896\n",
      "Hotel TwentySeven 20 2018-05-18 01:12:10.438802\n",
      "Hotel V Frederiksplein 13594 2018-05-16 13:44:39.584424\n",
      "Hotel V Frederiksplein 13548 2018-05-18 00:20:47.830479\n",
      "Hotel Victorie 402 2018-05-16 10:38:05.039731\n",
      "Hotel Victorie 402 2018-05-18 12:27:24.095225\n",
      "Hotel d'Amsterdam 5505 2018-05-18 17:29:30.369613\n",
      "Hotel d'Amsterdam 5505 2018-05-18 16:39:01.523859\n",
      "Hotel de Keizerskroon 144 2018-05-18 13:26:09.288423\n",
      "Hotel de Keizerskroon 144 2018-05-18 15:28:05.319448\n",
      "Hotel de Paris Amsterdam 16457 2018-05-16 13:37:19.830546\n",
      "Hotel de Paris Amsterdam 16405 2018-05-18 12:20:27.295521\n",
      "Hyatt Place Amsterdam Airport 27718 2018-05-18 13:37:04.096368\n",
      "Hyatt Place Amsterdam Airport 27823 2018-05-16 12:54:29.228247\n",
      "Linden Hotel 1385 2018-05-18 12:52:09.715136\n",
      "Linden Hotel 1385 2018-05-18 18:07:58.230318\n",
      "Luxury Suites Amsterdam 3884 2018-05-18 00:14:37.850547\n",
      "Luxury Suites Amsterdam 3884 2018-05-18 14:10:32.038495\n",
      "Luxury Suites Amsterdam 3884 2018-05-18 10:55:10.949936\n",
      "Luxury Suites Amsterdam 3884 2018-05-18 17:14:39.358715\n",
      "Nine(T)Teen B&B 228 2018-05-18 13:25:07.331450\n",
      "Nine(T)Teen B&B 228 2018-05-18 16:34:21.109208\n",
      "Rho Hotel 22566 2018-05-18 11:40:20.606766\n",
      "Rho Hotel 0 2018-05-18 15:56:39.089088\n",
      "Short Stay Group Eastern Docklands Apartments 0 2018-05-16 10:36:39.815142\n",
      "Short Stay Group Eastern Docklands Apartments 0 2018-05-18 14:39:26.021554\n",
      "Sir Adam Hotel 2600 2018-05-16 14:17:17.832865\n",
      "Sir Adam Hotel 2600 2018-05-18 01:20:33.116526\n",
      "Sir Albert Hotel Amsterdam 10758 2018-05-16 12:34:43.398921\n",
      "Sir Albert Hotel Amsterdam 10768 2018-05-18 02:30:12.370988\n",
      "The Concert Hotel 1900 2018-05-18 13:01:01.738370\n",
      "The Concert Hotel 1900 2018-05-18 16:33:11.764504\n",
      "The Dylan Amsterdam 2236 2018-05-16 10:45:46.119789\n",
      "The Dylan Amsterdam 2236 2018-05-18 12:29:50.992755\n",
      "The Student Hotel Amsterdam West 15799 2018-05-16 14:07:02.967900\n",
      "The Student Hotel Amsterdam West 15768 2018-05-18 12:12:43.929780\n",
      "The Student Hotel Amsterdam West 15768 2018-05-18 02:24:54.891604\n",
      "The Toren 15892 2018-05-18 00:53:06.264752\n",
      "The Toren 15892 2018-05-18 14:27:23.586565\n",
      "Trianon Hotel 4895 2018-05-16 10:43:20.570538\n",
      "Trianon Hotel 4895 2018-05-18 16:30:22.684055\n",
      "Waldorf Astoria Amsterdam 1473 2018-05-16 14:49:24.262421\n",
      "Waldorf Astoria Amsterdam 1473 2018-05-18 17:25:22.014227\n",
      "Waldorf Astoria Amsterdam 1473 2018-05-18 17:22:21.278632\n",
      "easyHotel Amsterdam Zaandam 361 2018-05-18 13:05:39.332070\n",
      "easyHotel Amsterdam Zaandam 364 2018-05-18 15:22:12.023430\n",
      "i hotel 11 2018-05-18 12:25:59.222954\n",
      "i hotel 11 2018-05-18 03:43:21.383065\n"
     ]
    }
   ],
   "source": [
    "for hotel in checkinghotels_expedia:\n",
    "    print(hotel['name'],len(hotel['reviews']),hotel['META']['ADDED'])"
   ]
  },
  {
   "cell_type": "markdown",
   "metadata": {},
   "source": [
    "Sort based on the amount of reviews. CHECK THIS!!!"
   ]
  },
  {
   "cell_type": "code",
   "execution_count": 271,
   "metadata": {
    "collapsed": true
   },
   "outputs": [],
   "source": [
    "checkinghotels_expedia.sort(key=lambda item:len(item['reviews']), reverse=True)"
   ]
  },
  {
   "cell_type": "code",
   "execution_count": 273,
   "metadata": {
    "collapsed": false
   },
   "outputs": [
    {
     "name": "stdout",
     "output_type": "stream",
     "text": [
      "Hilton Amsterdam 29087 2018-05-18 16:50:34.537795\n",
      "Hilton Amsterdam 29087 2018-05-18 13:52:09.569303\n",
      "Hilton Amsterdam 29087 2018-05-18 03:10:53.512832\n",
      "Hyatt Place Amsterdam Airport 27823 2018-05-16 12:54:29.228247\n",
      "Hyatt Place Amsterdam Airport 27718 2018-05-18 13:37:04.096368\n",
      "Rho Hotel 22566 2018-05-18 11:40:20.606766\n",
      "Hotel de Paris Amsterdam 16457 2018-05-16 13:37:19.830546\n",
      "Hotel de Paris Amsterdam 16405 2018-05-18 12:20:27.295521\n",
      "The Toren 15892 2018-05-18 00:53:06.264752\n",
      "The Toren 15892 2018-05-18 14:27:23.586565\n",
      "The Student Hotel Amsterdam West 15799 2018-05-16 14:07:02.967900\n",
      "The Student Hotel Amsterdam West 15768 2018-05-18 12:12:43.929780\n",
      "The Student Hotel Amsterdam West 15768 2018-05-18 02:24:54.891604\n",
      "Hotel V Frederiksplein 13594 2018-05-16 13:44:39.584424\n",
      "Hotel V Frederiksplein 13548 2018-05-18 00:20:47.830479\n",
      "Hotel Sebastian's 13277 2018-05-18 11:27:12.919434\n",
      "Hotel Sebastian's 13277 2018-05-18 17:35:40.567518\n",
      "Conscious Hotel Museum Square 12801 2018-05-18 15:33:59.111220\n",
      "Conscious Hotel Museum Square 12726 2018-05-18 18:01:13.324871\n",
      "Conscious Hotel Museum Square 12632 2018-05-18 11:01:51.151650\n",
      "Best Western Zaan Inn 11438 2018-05-18 12:48:29.713814\n",
      "Best Western Zaan Inn 11438 2018-05-18 04:21:02.686736\n",
      "Sir Albert Hotel Amsterdam 10768 2018-05-18 02:30:12.370988\n",
      "Sir Albert Hotel Amsterdam 10758 2018-05-16 12:34:43.398921\n",
      "Hotel Central Park 9536 2018-05-16 10:53:12.265443\n",
      "Hotel Central Park 9536 2018-05-18 01:47:46.009123\n",
      "Hilton Amsterdam Airport Schiphol 8800 2018-05-16 14:44:25.836698\n",
      "Hilton Amsterdam Airport Schiphol 8694 2018-05-18 19:08:11.361552\n",
      "Hilton Amsterdam Airport Schiphol 8694 2018-05-18 16:55:36.270482\n",
      "Hilton Amsterdam Airport Schiphol 8694 2018-05-18 02:56:51.165460\n",
      "A Train Hotel 7059 2018-05-18 11:59:10.348924\n",
      "A Train Hotel 7059 2018-05-18 18:33:27.788155\n",
      "A Train Hotel 7059 2018-05-18 15:10:58.173501\n",
      "Hotel d'Amsterdam 5505 2018-05-18 17:29:30.369613\n",
      "Hotel d'Amsterdam 5505 2018-05-18 16:39:01.523859\n",
      "Hotel Plantage 4905 2018-05-18 13:10:13.244349\n",
      "Hotel Plantage 4905 2018-05-18 15:51:47.270860\n",
      "Trianon Hotel 4895 2018-05-16 10:43:20.570538\n",
      "Trianon Hotel 4895 2018-05-18 16:30:22.684055\n",
      "Hotel Herbergh Amsterdam Airport 4651 2018-05-18 04:25:30.818059\n",
      "Hotel Herbergh Amsterdam Airport 4620 2018-05-16 10:56:46.662731\n",
      "Luxury Suites Amsterdam 3884 2018-05-18 00:14:37.850547\n",
      "Luxury Suites Amsterdam 3884 2018-05-18 14:10:32.038495\n",
      "Luxury Suites Amsterdam 3884 2018-05-18 10:55:10.949936\n",
      "Luxury Suites Amsterdam 3884 2018-05-18 17:14:39.358715\n",
      "Acostar Hotel 2978 2018-05-18 11:04:49.536528\n",
      "Acostar Hotel 2978 2018-05-18 03:21:53.338373\n",
      "France Hotel 2641 2018-05-18 12:56:36.963836\n",
      "France Hotel 2641 2018-05-18 17:39:58.412669\n",
      "Sir Adam Hotel 2600 2018-05-16 14:17:17.832865\n",
      "Sir Adam Hotel 2600 2018-05-18 01:20:33.116526\n",
      "The Dylan Amsterdam 2236 2018-05-16 10:45:46.119789\n",
      "The Dylan Amsterdam 2236 2018-05-18 12:29:50.992755\n",
      "The Concert Hotel 1900 2018-05-18 13:01:01.738370\n",
      "The Concert Hotel 1900 2018-05-18 16:33:11.764504\n",
      "Boutique Hotel La Belle Vue 1490 2018-05-18 18:27:35.307064\n",
      "Waldorf Astoria Amsterdam 1473 2018-05-16 14:49:24.262421\n",
      "Waldorf Astoria Amsterdam 1473 2018-05-18 17:25:22.014227\n",
      "Waldorf Astoria Amsterdam 1473 2018-05-18 17:22:21.278632\n",
      "Boutique Hotel La Belle Vue 1462 2018-05-18 11:21:38.083492\n",
      "Bastion Hotel Zaandam 1399 2018-05-18 11:32:10.252994\n",
      "Linden Hotel 1385 2018-05-18 12:52:09.715136\n",
      "Linden Hotel 1385 2018-05-18 18:07:58.230318\n",
      "Bastion Hotel Zaandam 1358 2018-05-16 11:02:01.107107\n",
      "Best Western Plus Amedia Amsterdam Airport 1096 2018-05-16 10:35:41.346488\n",
      "Best Western Plus Amedia Amsterdam Airport 1096 2018-05-18 11:10:07.579635\n",
      "Best Western Plus Amedia Amsterdam Airport 1096 2018-05-18 14:39:11.038111\n",
      "Best Western Plus Amedia Amsterdam Airport 1096 2018-05-16 10:47:37.070256\n",
      "Best Western Plus Amedia Amsterdam Airport 1096 2018-05-18 11:29:07.632480\n",
      "Best Western Plus Amedia Amsterdam Airport 1096 2018-05-18 04:33:08.413388\n",
      "Golden Tulip Amsterdam Riverside 1002 2018-05-18 11:42:09.951434\n",
      "Hotel Hermitage Amsterdam 902 2018-05-18 13:23:18.006255\n",
      "Hotel Hermitage Amsterdam 902 2018-05-18 17:20:29.072850\n",
      "Hotel Hermitage Amsterdam 870 2018-05-18 15:40:33.090305\n",
      "Hotel Allure 819 2018-05-18 11:08:15.829745\n",
      "Hotel Allure 819 2018-05-18 14:52:48.674730\n",
      "Armada Hotel 778 2018-05-18 11:06:27.281744\n",
      "Armada Hotel 778 2018-05-18 03:57:31.379753\n",
      "Hotel Kap 634 2018-05-18 17:37:11.555707\n",
      "Hotel Kap 634 2018-05-18 16:40:46.071406\n",
      "Amsterdam Downtown Hotel 559 2018-05-16 14:18:50.036431\n",
      "Amsterdam Downtown Hotel 559 2018-05-18 12:50:04.662882\n",
      "De Rustende Jager 462 2018-05-18 17:15:56.111853\n",
      "De Rustende Jager 462 2018-05-18 16:09:55.092257\n",
      "Hotel Victorie 402 2018-05-16 10:38:05.039731\n",
      "Hotel Victorie 402 2018-05-18 12:27:24.095225\n",
      "easyHotel Amsterdam Zaandam 364 2018-05-18 15:22:12.023430\n",
      "easyHotel Amsterdam Zaandam 361 2018-05-18 13:05:39.332070\n",
      "Nine(T)Teen B&B 228 2018-05-18 13:25:07.331450\n",
      "Nine(T)Teen B&B 228 2018-05-18 16:34:21.109208\n",
      "Het Rechthuis aan den Amstel 156 2018-05-18 12:53:04.068403\n",
      "Het Rechthuis aan den Amstel 156 2018-05-18 16:07:28.997289\n",
      "Hotel de Keizerskroon 144 2018-05-18 13:26:09.288423\n",
      "Hotel de Keizerskroon 144 2018-05-18 15:28:05.319448\n",
      "Hotel Corner House 91 2018-05-18 13:24:05.942894\n",
      "Hotel Corner House 91 2018-05-18 17:53:50.728219\n",
      "Hotel Rembrandt 82 2018-05-16 11:05:17.614670\n",
      "Hotel Rembrandt 82 2018-05-18 16:08:10.720661\n",
      "Hotel Jupiter Centre 58 2018-05-18 13:26:49.614555\n",
      "Hotel Jupiter Centre 58 2018-05-18 16:25:44.731031\n",
      "Golden Mansion Apartment Amsterdam 48 2018-05-18 11:52:07.188118\n",
      "Golden Mansion Apartment Amsterdam 48 2018-05-18 14:49:08.950760\n",
      "Hotel De Witte Hoeck 38 2018-05-16 10:25:38.037578\n",
      "Hotel De Witte Hoeck 38 2018-05-18 15:36:41.236853\n",
      "City Park Apartments 34 2018-05-16 11:05:51.028212\n",
      "City Park Apartments 34 2018-05-18 14:42:38.279806\n",
      "Hotel TwentySeven 20 2018-05-16 12:58:08.532896\n",
      "Hotel TwentySeven 20 2018-05-18 01:12:10.438802\n",
      "i hotel 11 2018-05-18 12:25:59.222954\n",
      "i hotel 11 2018-05-18 03:43:21.383065\n",
      "Golden Tulip Amsterdam Riverside 0 2018-05-16 13:04:21.469237\n",
      "Rho Hotel 0 2018-05-18 15:56:39.089088\n",
      "Short Stay Group Eastern Docklands Apartments 0 2018-05-16 10:36:39.815142\n",
      "Short Stay Group Eastern Docklands Apartments 0 2018-05-18 14:39:26.021554\n"
     ]
    }
   ],
   "source": [
    "for hotel in checkinghotels_expedia:\n",
    "    print(hotel['name'],len(hotel['reviews']),hotel['META']['ADDED'])"
   ]
  },
  {
   "cell_type": "code",
   "execution_count": 274,
   "metadata": {
    "collapsed": false
   },
   "outputs": [
    {
     "name": "stdout",
     "output_type": "stream",
     "text": [
      "From the 114 duplicate hotels, 50 hotels are unique.\n"
     ]
    }
   ],
   "source": [
    "seen_exp = []\n",
    "included_hotels_exp = []\n",
    "deleted_hotels_exp = []\n",
    "for hotel in checkinghotels_expedia:\n",
    "    if hotel['name'] not in seen_exp:\n",
    "        seen_exp.append(hotel['name'])\n",
    "        included_hotels_exp.append(hotel)\n",
    "    else:\n",
    "        deleted_hotels_exp.append(hotel)\n",
    "print(\"From the {} duplicate hotels, {} hotels are unique.\".format(len(checkinghotels_expedia), len(included_hotels_exp)))"
   ]
  },
  {
   "cell_type": "code",
   "execution_count": 275,
   "metadata": {
    "collapsed": true
   },
   "outputs": [],
   "source": [
    "correcthotels_expedia.extend(included_hotels_exp)"
   ]
  },
  {
   "cell_type": "code",
   "execution_count": 276,
   "metadata": {
    "collapsed": false
   },
   "outputs": [
    {
     "name": "stdout",
     "output_type": "stream",
     "text": [
      "The final list contains 203 unique hotels.\n"
     ]
    }
   ],
   "source": [
    "print('The final list contains {} unique hotels.'.format(len(correcthotels_expedia)))"
   ]
  },
  {
   "cell_type": "markdown",
   "metadata": {},
   "source": [
    "#### 3.2.2 Put all reviews from the hotels in one dataset."
   ]
  },
  {
   "cell_type": "code",
   "execution_count": 278,
   "metadata": {
    "collapsed": false
   },
   "outputs": [
    {
     "name": "stdout",
     "output_type": "stream",
     "text": [
      "There should be 1266918 reviews, which is: True\n"
     ]
    }
   ],
   "source": [
    "allreviews_expedia = []\n",
    "amount_reviews_hotel = []\n",
    "for hotel in correcthotels_expedia:\n",
    "    amount_reviews_hotel.append(len(hotel['reviews']))\n",
    "    reviews = hotel['reviews']\n",
    "    for review in reviews:\n",
    "        review['hotel'] = hotel['name'] # add hotel name to be able to retrieve all reviews for a hotel\n",
    "    allreviews_expedia.extend(reviews)\n",
    "print(\"There should be\",sum(amount_reviews_hotel),\"reviews, which is:\",(len(allreviews_expedia)==sum(amount_reviews_hotel)))"
   ]
  },
  {
   "cell_type": "markdown",
   "metadata": {},
   "source": [
    "Remove empty reviews:"
   ]
  },
  {
   "cell_type": "code",
   "execution_count": 494,
   "metadata": {
    "collapsed": false
   },
   "outputs": [
    {
     "name": "stdout",
     "output_type": "stream",
     "text": [
      "There are 39347 none type reviews, 443 empty strings\n"
     ]
    }
   ],
   "source": [
    "emptystring = []\n",
    "none = []\n",
    "for review in allreviews_expedia:\n",
    "    if review['review'] == \"\":\n",
    "        emptystring.append(review)\n",
    "    if review['review'] is None:\n",
    "        none.append(review)\n",
    "print('There are {} none type reviews, {} empty strings'.format(len(none),len(emptystring)))"
   ]
  },
  {
   "cell_type": "code",
   "execution_count": 495,
   "metadata": {
    "collapsed": false
   },
   "outputs": [
    {
     "data": {
      "text/plain": [
       "dict_keys(['upvotes', 'username', 'review', 'hotel', 'rating', 'date', 'country', 'title'])"
      ]
     },
     "execution_count": 495,
     "metadata": {},
     "output_type": "execute_result"
    }
   ],
   "source": [
    "allreviews_expedia[0].keys()"
   ]
  },
  {
   "cell_type": "code",
   "execution_count": 497,
   "metadata": {
    "collapsed": false
   },
   "outputs": [
    {
     "name": "stdout",
     "output_type": "stream",
     "text": [
      "There were 1266918 reviews\n",
      "There are now 1266475 reviews.\n"
     ]
    }
   ],
   "source": [
    "print(\"There were {} reviews\".format(len(allreviews_expedia)))\n",
    "allreviews_expedia[:] = [review for review in allreviews_expedia if review.get('review') != '']\n",
    "print(\"There are now {} reviews.\".format(len(allreviews_expedia)))"
   ]
  },
  {
   "cell_type": "code",
   "execution_count": 498,
   "metadata": {
    "collapsed": false
   },
   "outputs": [
    {
     "name": "stdout",
     "output_type": "stream",
     "text": [
      "There were 1266475 reviews\n",
      "There are now 1227128 reviews.\n"
     ]
    }
   ],
   "source": [
    "print(\"There were {} reviews\".format(len(allreviews_expedia)))\n",
    "allreviews_expedia[:] = [review for review in allreviews_expedia if review.get('review') is not None]\n",
    "print(\"There are now {} reviews.\".format(len(allreviews_expedia)))"
   ]
  },
  {
   "cell_type": "markdown",
   "metadata": {},
   "source": [
    "Is there bias in the empty and None reviews?"
   ]
  },
  {
   "cell_type": "code",
   "execution_count": 409,
   "metadata": {
    "collapsed": false
   },
   "outputs": [
    {
     "name": "stdout",
     "output_type": "stream",
     "text": [
      "Bilderberg Garden Hotel 63\n",
      "Hotel De Hallen 31\n",
      "Hotel Nicolaas Witsen 19\n",
      "Hotel Vondel 61\n",
      "Hotel Zwanenburg 91\n",
      "NH Amsterdam Schiphol Airport 61\n",
      "Qbic Hotel Amsterdam WTC 71\n",
      "Quentin Arrive 46\n"
     ]
    }
   ],
   "source": [
    "sorted_emptyreviews = sorted(emptystring, key=itemgetter('hotel'))\n",
    "for key, group in itertools.groupby(sorted_emptyreviews, key=lambda x:x['hotel']):\n",
    "    print(key,len(list(group)))"
   ]
  },
  {
   "cell_type": "code",
   "execution_count": 506,
   "metadata": {
    "collapsed": false
   },
   "outputs": [],
   "source": [
    "high_empty = []\n",
    "for hotel in correcthotels_expedia:\n",
    "    amount_all = []\n",
    "    amount_empty = []\n",
    "    amount_normal = []\n",
    "    for review in hotel['reviews']:\n",
    "        amount_all.append(review)\n",
    "        if review['review'] == '':\n",
    "            amount_empty.append(review)\n",
    "        else:\n",
    "            amount_normal.append(review)\n",
    "    if len(amount_empty) != 0:\n",
    "        percentage_empty = round(len(amount_empty)/len(amount_all)*100)\n",
    "        if percentage_empty > 5:\n",
    "            thishotel = {}\n",
    "            thishotel['name'] = hotel['name']\n",
    "            thishotel['percentage'] = percentage_empty\n",
    "            high_empty.append(thishotel)\n",
    "            print(\"{} has {}/{} empty reviews and {}/{} not-empty reviews, which is {}%.\".format(hotel['name'],len(amount_empty),len(amount_all),len(amount_normal),len(amount_all),percentage_empty))"
   ]
  },
  {
   "cell_type": "code",
   "execution_count": 507,
   "metadata": {
    "collapsed": false
   },
   "outputs": [
    {
     "data": {
      "text/plain": [
       "0"
      ]
     },
     "execution_count": 507,
     "metadata": {},
     "output_type": "execute_result"
    }
   ],
   "source": [
    "len(high_empty)"
   ]
  },
  {
   "cell_type": "code",
   "execution_count": 410,
   "metadata": {
    "collapsed": false
   },
   "outputs": [
    {
     "name": "stdout",
     "output_type": "stream",
     "text": [
      "A Train Hotel 76\n",
      "Alp Hotel Amsterdam 96\n",
      "Amadi Panorama Hotel 29\n",
      "Amadi Park Hotel 71\n",
      "Amsterdam Downtown Hotel 17\n",
      "Amsterdam Forest Hotel 59\n",
      "Amsterdam Harbour Apartments 4\n",
      "Amsterdam Teleport Hotel 201\n",
      "Apple Inn Hotel 206\n",
      "Armada Hotel 31\n",
      "Atlantis Hotel Amsterdam 44\n",
      "Banks Mansion 330\n",
      "Bastion Hotel Zaandam 61\n",
      "Best Western Delphi Hotel 35\n",
      "Best Western Plus Amedia Amsterdam Airport 126\n",
      "Best Western Plus Amsterdam Airport Hotel 825\n",
      "Best Western Zaan Inn 213\n",
      "Bilderberg Garden Hotel 633\n",
      "Blue Mansion Hotel 5\n",
      "Boutique Hotel La Belle Vue 160\n",
      "Canal Boutique Rooms & Apartments 83\n",
      "Canal House 20\n",
      "City Hotel Amsterdam 23\n",
      "Cityden Museum Square Hotel Apartments 3\n",
      "Cityden Up Amsterdam South Hotel Apartments 23\n",
      "Conscious Hotel Museum Square 621\n",
      "Conservatorium Hotel 69\n",
      "Courtyard by Marriott Amsterdam Airport 135\n",
      "Damrak Inn 119\n",
      "De Baronie B&B 3\n",
      "De Jonker Urban Studio's & Suites 1\n",
      "De L'Europe Amsterdam 72\n",
      "De Rustende Jager 26\n",
      "Delta Hotel City Center 92\n",
      "Die Port van Cleve Hotel 555\n",
      "Fletcher Hotel Amsterdam 673\n",
      "France Hotel 84\n",
      "Golden Tulip Amsterdam Riverside 55\n",
      "Hampshire Hotel Beethoven 388\n",
      "Hampton by Hilton Amsterdam / Arena Boulevard 439\n",
      "Hampton by Hilton Amsterdam Centre East 14\n",
      "Het Hart van Weesp 60\n",
      "Het Rechthuis aan den Amstel 6\n",
      "Hilton Amsterdam 1232\n",
      "Hilton Amsterdam Airport Schiphol 267\n",
      "Holiday Inn Amsterdam 1204\n",
      "Holiday Inn Express Amsterdam - Arena Towers 320\n",
      "Holiday Inn Express Amsterdam - City Hall 1\n",
      "Holiday Inn Express Amsterdam - Sloterdijk Station 210\n",
      "Hotel Aalders 126\n",
      "Hotel Ajax 65\n",
      "Hotel Alexander 80\n",
      "Hotel Allure 41\n",
      "Hotel Asterisk 25\n",
      "Hotel Atlanta 684\n",
      "Hotel Campanile Amsterdam Zuidoost 188\n",
      "Hotel Central Park 353\n",
      "Hotel Citadel 359\n",
      "Hotel City Garden Amsterdam 1625\n",
      "Hotel Clemens Amsterdam 94\n",
      "Hotel De Gerstekorrel 27\n",
      "Hotel De Hallen 273\n",
      "Hotel De Koopermoolen 3\n",
      "Hotel Di Ann 259\n",
      "Hotel Doria 16\n",
      "Hotel Dwars 10\n",
      "Hotel Fita 7\n",
      "Hotel Herbergh Amsterdam Airport 104\n",
      "Hotel Hermitage Amsterdam 25\n",
      "Hotel Joy 12\n",
      "Hotel Jupiter 147\n",
      "Hotel Jupiter Centre 3\n",
      "Hotel Kap 21\n",
      "Hotel Manofa 466\n",
      "Hotel Mijdrecht Marickenland 4\n",
      "Hotel Mosaic 30\n",
      "Hotel Mozart 29\n",
      "Hotel Nicolaas Witsen 10\n",
      "Hotel Old Nickel 17\n",
      "Hotel Parklane 23\n",
      "Hotel Plantage 480\n",
      "Hotel Prins Hendrik 4\n",
      "Hotel Restaurant de Beurs 5\n",
      "Hotel Sebastian's 694\n",
      "Hotel Sint Nicolaas 622\n",
      "Hotel The Bird 6\n",
      "Hotel Titus 10\n",
      "Hotel TwentySeven 3\n",
      "Hotel V Frederiksplein 590\n",
      "Hotel Victorie 18\n",
      "Hotel Vondel 477\n",
      "Hotel Zwanenburg 551\n",
      "Hotel d'Amsterdam 369\n",
      "Hotel de Munck 20\n",
      "Hotel de Paris Amsterdam 2203\n",
      "Hyatt Place Amsterdam Airport 942\n",
      "INK Hotel Amsterdam MGallery by Sofitel 412\n",
      "Linden Hotel 21\n",
      "Lloyd Hotel 1254\n",
      "Luxury Suites Amsterdam 29\n",
      "Max Brown Hotel Museum Square 224\n",
      "Mercure Hotel Amsterdam Centre Canal District 984\n",
      "NH Amsterdam Caransa 677\n",
      "NH Amsterdam Centre 550\n",
      "NH Amsterdam Schiller 456\n",
      "NH Amsterdam Schiphol Airport 1495\n",
      "NH Amsterdam Zuid 133\n",
      "NH Carlton Amsterdam 466\n",
      "New century hotel 14\n",
      "Novotel Amsterdam Schiphol Airport 82\n",
      "Owl Hotel 23\n",
      "Ozo Hotel 74\n",
      "Park Inn by Radisson Amsterdam Airport Schiphol 191\n",
      "Pestana Amsterdam Riverside – LVX Preferred Hotels & Resorts 3\n",
      "Plantage Hortus Apartments 7\n",
      "Qbic Hotel Amsterdam WTC 422\n",
      "Quentin Amsterdam Hotel 128\n",
      "Quentin Arrive 284\n",
      "Quentin Zoo hotel 1\n",
      "Rembrandt Square Hotel 6\n",
      "Rembrandt Square Hotel Amsterdam 419\n",
      "Rembrandtplein Hotel 177\n",
      "Renaissance Amsterdam Hotel 584\n",
      "Rho Hotel 596\n",
      "Savoy Hotel Amsterdam 15\n",
      "Sheraton Amsterdam Airport Hotel & Conference Center 622\n",
      "Sir Albert Hotel Amsterdam 74\n",
      "Sphinx Hotel 20\n",
      "The Amsterdam Canal Hotel 19\n",
      "The Bridge Hotel 27\n",
      "The College Hotel 16\n",
      "The Concert Hotel 136\n",
      "The Dylan Amsterdam 47\n",
      "The Hoxton, Amsterdam 206\n",
      "The Lancaster Hotel Amsterdam 849\n",
      "The Student Hotel Amsterdam West 269\n",
      "The Toren 188\n",
      "Townhouse Hotel 8\n",
      "Trianon Hotel 214\n",
      "Van der Valk Hotel Schiphol A4-Amsterdam Airport 397\n",
      "Van der Valk Volendam 435\n",
      "W Amsterdam 23\n",
      "Waldorf Astoria Amsterdam 50\n",
      "Westcord Art Hotel Amsterdam 4 604\n",
      "XO Hotel Inner 245\n",
      "Yays Oostenburgergracht Concierged Boutique Apartments 19\n",
      "art hotel Spaander 36\n",
      "art'otel amsterdam 636\n",
      "easyHotel Amsterdam Arena Boulevard 44\n",
      "easyHotel Amsterdam Zaandam 43\n",
      "ibis Amsterdam Centre 1435\n",
      "ibis budget Amsterdam Airport 767\n",
      "ibis budget Amsterdam City South 51\n"
     ]
    }
   ],
   "source": [
    "sorted_nonereviews = sorted(none, key=itemgetter('hotel'))\n",
    "for key, group in itertools.groupby(sorted_nonereviews, key=lambda x:x['hotel']):\n",
    "    print(key,len(list(group)))"
   ]
  },
  {
   "cell_type": "code",
   "execution_count": 508,
   "metadata": {
    "collapsed": false
   },
   "outputs": [
    {
     "name": "stdout",
     "output_type": "stream",
     "text": [
      "Amadi Panorama Hotel has 29/524 none-type reviews and 495/524 normal reviews, which is 6%.\n",
      "Amsterdam Forest Hotel has 59/969 none-type reviews and 910/969 normal reviews, which is 6%.\n",
      "Damrak Inn has 119/2107 none-type reviews and 1988/2107 normal reviews, which is 6%.\n",
      "De Jonker Urban Studio's & Suites has 1/5 none-type reviews and 4/5 normal reviews, which is 20%.\n",
      "Fletcher Hotel Amsterdam has 673/7927 none-type reviews and 7254/7927 normal reviews, which is 8%.\n",
      "Het Hart van Weesp has 60/678 none-type reviews and 618/678 normal reviews, which is 9%.\n",
      "Holiday Inn Amsterdam has 1204/12223 none-type reviews and 11019/12223 normal reviews, which is 10%.\n",
      "Holiday Inn Express Amsterdam - City Hall has 1/1 none-type reviews and 0/1 normal reviews, which is 100%.\n",
      "Hotel Ajax has 65/606 none-type reviews and 541/606 normal reviews, which is 11%.\n",
      "Hotel Campanile Amsterdam Zuidoost has 188/2382 none-type reviews and 2194/2382 normal reviews, which is 8%.\n",
      "Hotel City Garden Amsterdam has 1625/19937 none-type reviews and 18312/19937 normal reviews, which is 8%.\n",
      "Hotel De Koopermoolen has 3/21 none-type reviews and 18/21 normal reviews, which is 14%.\n",
      "Hotel Doria has 16/161 none-type reviews and 145/161 normal reviews, which is 10%.\n",
      "Hotel Parklane has 23/333 none-type reviews and 310/333 normal reviews, which is 7%.\n",
      "Hotel Sint Nicolaas has 622/8584 none-type reviews and 7962/8584 normal reviews, which is 7%.\n",
      "Hotel The Bird has 6/87 none-type reviews and 81/87 normal reviews, which is 7%.\n",
      "Lloyd Hotel has 1254/22028 none-type reviews and 20774/22028 normal reviews, which is 6%.\n",
      "NH Amsterdam Caransa has 677/9093 none-type reviews and 8416/9093 normal reviews, which is 7%.\n",
      "New century hotel has 14/80 none-type reviews and 66/80 normal reviews, which is 18%.\n",
      "Pestana Amsterdam Riverside – LVX Preferred Hotels & Resorts has 3/43 none-type reviews and 40/43 normal reviews, which is 7%.\n",
      "Quentin Zoo hotel has 1/4 none-type reviews and 3/4 normal reviews, which is 25%.\n",
      "Sphinx Hotel has 20/148 none-type reviews and 128/148 normal reviews, which is 14%.\n",
      "The Lancaster Hotel Amsterdam has 849/14853 none-type reviews and 14004/14853 normal reviews, which is 6%.\n",
      "Townhouse Hotel has 8/106 none-type reviews and 98/106 normal reviews, which is 8%.\n",
      "easyHotel Amsterdam Arena Boulevard has 44/403 none-type reviews and 359/403 normal reviews, which is 11%.\n",
      "ibis Amsterdam Centre has 1435/25992 none-type reviews and 24557/25992 normal reviews, which is 6%.\n",
      "ibis budget Amsterdam City South has 51/708 none-type reviews and 657/708 normal reviews, which is 7%.\n",
      "Hotel de Paris Amsterdam has 2203/16457 none-type reviews and 14254/16457 normal reviews, which is 13%.\n",
      "Hotel d'Amsterdam has 369/5505 none-type reviews and 5136/5505 normal reviews, which is 7%.\n",
      "Hotel Plantage has 480/4905 none-type reviews and 4425/4905 normal reviews, which is 10%.\n",
      "The Concert Hotel has 136/1900 none-type reviews and 1764/1900 normal reviews, which is 7%.\n",
      "Boutique Hotel La Belle Vue has 160/1490 none-type reviews and 1330/1490 normal reviews, which is 11%.\n",
      "Best Western Plus Amedia Amsterdam Airport has 126/1096 none-type reviews and 970/1096 normal reviews, which is 11%.\n",
      "De Rustende Jager has 26/462 none-type reviews and 436/462 normal reviews, which is 6%.\n",
      "easyHotel Amsterdam Zaandam has 43/364 none-type reviews and 321/364 normal reviews, which is 12%.\n",
      "Hotel TwentySeven has 3/20 none-type reviews and 17/20 normal reviews, which is 15%.\n"
     ]
    }
   ],
   "source": [
    "high_none = []\n",
    "for hotel in correcthotels_expedia:\n",
    "    amount_all = []\n",
    "    amount_none = []\n",
    "    amount_normal = []\n",
    "    for review in hotel['reviews']:\n",
    "        amount_all.append(review)\n",
    "        if review['review'] is None:\n",
    "            amount_none.append(review)\n",
    "        else:\n",
    "            amount_normal.append(review)\n",
    "    if len(amount_none) != 0:\n",
    "        percentage_none = round(len(amount_none)/len(amount_all)*100)\n",
    "        if percentage_none > 5:\n",
    "            thishotel = {}\n",
    "            thishotel['name'] = hotel['name']\n",
    "            thishotel['percentage'] = percentage_none\n",
    "            high_none.append(thishotel)\n",
    "            print(\"{} has {}/{} none-type reviews and {}/{} normal reviews, which is {}%.\".format(hotel['name'],len(amount_none),len(amount_all),len(amount_normal),len(amount_all),percentage_none))"
   ]
  },
  {
   "cell_type": "code",
   "execution_count": 509,
   "metadata": {
    "collapsed": false
   },
   "outputs": [
    {
     "data": {
      "text/plain": [
       "36"
      ]
     },
     "execution_count": 509,
     "metadata": {},
     "output_type": "execute_result"
    }
   ],
   "source": [
    "len(high_none)"
   ]
  },
  {
   "cell_type": "markdown",
   "metadata": {},
   "source": [
    "Check for duplicates:"
   ]
  },
  {
   "cell_type": "code",
   "execution_count": 499,
   "metadata": {
    "collapsed": false
   },
   "outputs": [
    {
     "name": "stdout",
     "output_type": "stream",
     "text": [
      "From the 1227128 Expedia reviews, 32093 reviews are unique.\n"
     ]
    }
   ],
   "source": [
    "seen_review = []\n",
    "included_reviews_exp = []\n",
    "deleted_reviews_exp = []\n",
    "for review in allreviews_expedia:\n",
    "    if review['review'] not in seen_review:\n",
    "        seen_review.append(review['review'])\n",
    "        included_reviews_exp.append(review)\n",
    "    else:\n",
    "        deleted_reviews_exp.append(review)\n",
    "print(\"From the {} Expedia reviews, {} reviews are unique.\".format(len(allreviews_expedia), len(included_reviews_exp)))"
   ]
  },
  {
   "cell_type": "code",
   "execution_count": 510,
   "metadata": {
    "collapsed": false
   },
   "outputs": [
    {
     "name": "stdout",
     "output_type": "stream",
     "text": [
      "A Train Hotel 216\n",
      "Acostar Hotel 158\n",
      "Allure Garden Apartments 18\n",
      "Alp Hotel Amsterdam 95\n",
      "Amadi Panorama Hotel 48\n",
      "Amadi Park Hotel 122\n",
      "Amsterdam Canal Residence 8\n",
      "Amsterdam Downtown Hotel 46\n",
      "Amsterdam Forest Hotel 73\n",
      "Amsterdam Harbour Apartments 69\n",
      "Amsterdam Teleport Hotel 243\n",
      "Apple Inn Hotel 540\n",
      "Armada Hotel 69\n",
      "Atlantis Hotel Amsterdam 63\n",
      "BackStage Hotel Amsterdam 47\n",
      "Banks Mansion 743\n",
      "Bastion Hotel Zaandam 71\n",
      "Best Western Delphi Hotel 96\n",
      "Best Western Plus Amedia Amsterdam Airport 80\n",
      "Best Western Plus Amsterdam Airport Hotel 578\n",
      "Best Western Zaan Inn 273\n",
      "Bilderberg Garden Hotel 540\n",
      "Blue Mansion Hotel 37\n",
      "Boutique Hotel La Belle Vue 98\n",
      "Boutique Hotel Maxime 27\n",
      "Breitner House 31\n",
      "Canal Boutique Rooms & Apartments 119\n",
      "Canal House 210\n",
      "Canal House Suites at Sofitel Legend The Grand Amsterdam 3\n",
      "City Hotel Amsterdam 129\n",
      "City Park Apartments 14\n",
      "Cityden Museum Square Hotel Apartments 59\n",
      "Cityden Up Amsterdam South Hotel Apartments 100\n",
      "Conscious Hotel Museum Square 296\n",
      "Conscious Hotel Westerpark 4\n",
      "Conservatorium Hotel 151\n",
      "Courtyard by Marriott Amsterdam Airport 187\n",
      "Crane Hotel Faralda Amsterdam 2\n",
      "Damrak Inn 101\n",
      "De Baronie B&B 58\n",
      "De Bedstee Boutique Capsules 34\n",
      "De Jonker Urban Studio's & Suites 4\n",
      "De L'Europe Amsterdam 303\n",
      "De Rustende Jager 58\n",
      "Delta Hotel City Center 460\n",
      "Die Port van Cleve Hotel 576\n",
      "DoubleTree by Hilton Hotel Amsterdam - NDSM Wharf 140\n",
      "Fletcher Hotel Amsterdam 157\n",
      "France Hotel 143\n",
      "Golden Mansion Apartment Amsterdam 17\n",
      "Golden Tulip Amsterdam Riverside 78\n",
      "Hampshire Hotel Beethoven 219\n",
      "Hampton by Hilton Amsterdam / Arena Boulevard 253\n",
      "Hampton by Hilton Amsterdam Centre East 47\n",
      "Harbour Loft Studios 25\n",
      "Het Hart van Weesp 52\n",
      "Het Rechthuis aan den Amstel 24\n",
      "Hilton Amsterdam 563\n",
      "Hilton Amsterdam Airport Schiphol 249\n",
      "Hof van Marken 6\n",
      "Holiday Inn Amsterdam 242\n",
      "Holiday Inn Express Amsterdam - Arena Towers 140\n",
      "Holiday Inn Express Amsterdam - Sloterdijk Station 297\n",
      "Hotel Aalders 239\n",
      "Hotel Agora 38\n",
      "Hotel Ajax 50\n",
      "Hotel Alexander 174\n",
      "Hotel Allure 56\n",
      "Hotel Amsterdam Inn City Centre 40\n",
      "Hotel Asterisk 75\n",
      "Hotel Atlanta 323\n",
      "Hotel Campanile Amsterdam Zuidoost 102\n",
      "Hotel Central Park 241\n",
      "Hotel Citadel 212\n",
      "Hotel City Garden Amsterdam 386\n",
      "Hotel Clemens Amsterdam 167\n",
      "Hotel Corner House 22\n",
      "Hotel De Gerstekorrel 68\n",
      "Hotel De Hallen 315\n",
      "Hotel De Koopermoolen 8\n",
      "Hotel De Witte Hoeck 14\n",
      "Hotel Di Ann 227\n",
      "Hotel Doria 24\n",
      "Hotel Dwars 45\n",
      "Hotel Fita 245\n",
      "Hotel Herbergh Amsterdam Airport 193\n",
      "Hotel Hermitage Amsterdam 66\n",
      "Hotel Heye 130 23\n",
      "Hotel Iris 39\n",
      "Hotel Joy 45\n",
      "Hotel Jupiter 181\n",
      "Hotel Jupiter Centre 17\n",
      "Hotel Kap 53\n",
      "Hotel Levell 17\n",
      "Hotel Manofa 260\n",
      "Hotel Mijdrecht Marickenland 42\n",
      "Hotel Mosaic 75\n",
      "Hotel Mozart 54\n",
      "Hotel Museum Lane Amsterdam 57\n",
      "Hotel Nicolaas Witsen 102\n",
      "Hotel Old Dutch 16\n",
      "Hotel Old Nickel 75\n",
      "Hotel Park View Amsterdam 44\n",
      "Hotel Parklane 37\n",
      "Hotel Plantage 190\n",
      "Hotel Prins Hendrik 52\n",
      "Hotel Rembrandt 23\n",
      "Hotel Restaurant Larende 66\n",
      "Hotel Restaurant de Beurs 56\n",
      "Hotel Sebastian's 339\n",
      "Hotel Sint Nicolaas 193\n",
      "Hotel The Bird 21\n",
      "Hotel Titus 38\n",
      "Hotel TwentySeven 9\n",
      "Hotel V Frederiksplein 270\n",
      "Hotel Victorie 43\n",
      "Hotel Vondel 562\n",
      "Hotel Zwanenburg 301\n",
      "Hotel d'Amsterdam 159\n",
      "Hotel de Keizerskroon 22\n",
      "Hotel de Munck 39\n",
      "Hotel de Paris Amsterdam 314\n",
      "Hotel en Restaurant de Fortuna 22\n",
      "Hyatt Place Amsterdam Airport 521\n",
      "INK Hotel Amsterdam MGallery by Sofitel 384\n",
      "L'Auberge Damhotel Edam 4\n",
      "Linden Hotel 103\n",
      "Lloyd Hotel 380\n",
      "Luxury Suites Amsterdam 208\n",
      "MOXY Amsterdam Houthavens 4\n",
      "Max Brown Hotel Museum Square 254\n",
      "Mercure Hotel Amsterdam Centre Canal District 530\n",
      "NDSM Serviced Apartments 3\n",
      "NH Amsterdam Caransa 204\n",
      "NH Amsterdam Centre 469\n",
      "NH Amsterdam Schiller 325\n",
      "NH Amsterdam Schiphol Airport 482\n",
      "NH Amsterdam Zuid 117\n",
      "NH Carlton Amsterdam 446\n",
      "New century hotel 17\n",
      "Nine(T)Teen B&B 34\n",
      "Novotel Amsterdam Schiphol Airport 222\n",
      "Owl Hotel 150\n",
      "Ozo Hotel 65\n",
      "Park Inn by Radisson Amsterdam Airport Schiphol 271\n",
      "Pestana Amsterdam Riverside – LVX Preferred Hotels & Resorts 19\n",
      "Pillows Anna van den Vondel Amsterdam 47\n",
      "Plantage Hortus Apartments 30\n",
      "Qbic Hotel Amsterdam WTC 244\n",
      "Quentin Amsterdam Hotel 336\n",
      "Quentin Arrive 391\n",
      "Quentin Hotel Golden Bear 111\n",
      "Quentin Zoo hotel 3\n",
      "Rembrandt Square Hotel 76\n",
      "Rembrandt Square Hotel Amsterdam 512\n",
      "Rembrandtplein Hotel 461\n",
      "Renaissance Amsterdam Hotel 553\n",
      "Residence Inn by Marriott Amsterdam Houthavens 5\n",
      "Rho Hotel 421\n",
      "Royal Amsterdam Hotel 126\n",
      "Savoy Hotel Amsterdam 73\n",
      "Sheraton Amsterdam Airport Hotel & Conference Center 580\n",
      "Sir Adam Hotel 165\n",
      "Sir Albert Hotel Amsterdam 301\n",
      "Sphinx Hotel 26\n",
      "Suitehotel Posthoorn 4\n",
      "The Amsterdam Canal Hotel 102\n",
      "The Bank Hotel 101\n",
      "The Bridge Hotel 80\n",
      "The Cabin @ MPS Noorderzon 1\n",
      "The College Hotel 112\n",
      "The Concert Hotel 79\n",
      "The Dylan Amsterdam 137\n",
      "The Hoxton, Amsterdam 296\n",
      "The Lancaster Hotel Amsterdam 335\n",
      "The Student Hotel Amsterdam West 297\n",
      "The Toren 420\n",
      "Townhouse Hotel 21\n",
      "Trianon Hotel 167\n",
      "Van der Valk Hotel Schiphol A4-Amsterdam Airport 438\n",
      "Van der Valk Volendam 191\n",
      "Vondelpark Apartment Suites 17\n",
      "W Amsterdam 90\n",
      "Waldorf Astoria Amsterdam 109\n",
      "Westcord Art Hotel Amsterdam 4 401\n",
      "XO Hotel Inner 160\n",
      "Yays Bickersgracht Concierged Boutique Apartments 120\n",
      "Yays Oostenburgergracht Concierged Boutique Apartments 77\n",
      "Zoku Amsterdam 92\n",
      "art hotel Spaander 99\n",
      "art'otel amsterdam 396\n",
      "easyHotel Amsterdam Arena Boulevard 36\n",
      "easyHotel Amsterdam Zaandam 53\n",
      "i hotel 7\n",
      "ibis Amsterdam Centre 459\n",
      "ibis budget Amsterdam Airport 370\n",
      "ibis budget Amsterdam City South 58\n",
      "There are reviews for 197 hotels.\n"
     ]
    }
   ],
   "source": [
    "amount_hotels_exp = []\n",
    "sorted_included_reviews = sorted(included_reviews_exp, key=itemgetter('hotel'))\n",
    "for key, group in itertools.groupby(sorted_included_reviews, key=lambda x:x['hotel']):\n",
    "    print(key,len(list(group)))\n",
    "    amount_hotels_exp.append(key)\n",
    "print('There are reviews for {} hotels.'.format(len(amount_hotels_exp)))"
   ]
  },
  {
   "cell_type": "markdown",
   "metadata": {},
   "source": [
    "delete hotels with 0 reviews!"
   ]
  },
  {
   "cell_type": "code",
   "execution_count": 542,
   "metadata": {
    "collapsed": false
   },
   "outputs": [
    {
     "name": "stdout",
     "output_type": "stream",
     "text": [
      "There are 198 hotels with reviews\n"
     ]
    }
   ],
   "source": [
    "correcthotels_exp = []\n",
    "for hotel in correcthotels_expedia:\n",
    "    if len(hotel['reviews']) != 0:\n",
    "        correcthotels_exp.append(hotel)\n",
    "print('There are {} hotels with reviews'.format(len(correcthotels_exp)))"
   ]
  },
  {
   "cell_type": "markdown",
   "metadata": {
    "deletable": true,
    "editable": true
   },
   "source": [
    "## 4. Save cleaned Datasets"
   ]
  },
  {
   "cell_type": "markdown",
   "metadata": {
    "deletable": true,
    "editable": true
   },
   "source": [
    "### 4.1 TripAdvisor"
   ]
  },
  {
   "cell_type": "markdown",
   "metadata": {
    "deletable": true,
    "editable": true
   },
   "source": [
    "#### 4.2.1 Save the hotels in a file."
   ]
  },
  {
   "cell_type": "code",
   "execution_count": 557,
   "metadata": {
    "collapsed": false,
    "deletable": true,
    "editable": true
   },
   "outputs": [],
   "source": [
    "with open('allhotels_tripadvisor.pkl', 'wb') as fo:\n",
    "    pickle.dump(correcthotels_trip, fo)"
   ]
  },
  {
   "cell_type": "markdown",
   "metadata": {
    "deletable": true,
    "editable": true
   },
   "source": [
    "#### 4.2.2 Save the reviews in a file."
   ]
  },
  {
   "cell_type": "code",
   "execution_count": 537,
   "metadata": {
    "collapsed": true,
    "deletable": true,
    "editable": true
   },
   "outputs": [],
   "source": [
    "with open('allreviews_tripadvisor.pkl', 'wb') as fo:\n",
    "    pickle.dump(included_reviews_trip, fo)"
   ]
  },
  {
   "cell_type": "markdown",
   "metadata": {
    "deletable": true,
    "editable": true
   },
   "source": [
    "### 4.2 Expedia"
   ]
  },
  {
   "cell_type": "markdown",
   "metadata": {
    "deletable": true,
    "editable": true
   },
   "source": [
    "#### 4.2.1 Save the hotels in a file."
   ]
  },
  {
   "cell_type": "code",
   "execution_count": 558,
   "metadata": {
    "collapsed": false,
    "deletable": true,
    "editable": true
   },
   "outputs": [],
   "source": [
    "with open('allhotels_expedia.pkl', 'wb') as fo:\n",
    "    pickle.dump(correcthotels_exp, fo)"
   ]
  },
  {
   "cell_type": "markdown",
   "metadata": {
    "deletable": true,
    "editable": true
   },
   "source": [
    "#### 4.2.2 Save the reviews in a file."
   ]
  },
  {
   "cell_type": "code",
   "execution_count": 539,
   "metadata": {
    "collapsed": true,
    "deletable": true,
    "editable": true
   },
   "outputs": [],
   "source": [
    "with open('allreviews_expedia.pkl', 'wb') as fo:\n",
    "    pickle.dump(included_reviews_exp, fo)"
   ]
  }
 ],
 "metadata": {
  "kernelspec": {
   "display_name": "py3.5",
   "language": "python",
   "name": "py3.5"
  },
  "language_info": {
   "codemirror_mode": {
    "name": "ipython",
    "version": 3
   },
   "file_extension": ".py",
   "mimetype": "text/x-python",
   "name": "python",
   "nbconvert_exporter": "python",
   "pygments_lexer": "ipython3",
   "version": "3.5.2"
  }
 },
 "nbformat": 4,
 "nbformat_minor": 2
}
